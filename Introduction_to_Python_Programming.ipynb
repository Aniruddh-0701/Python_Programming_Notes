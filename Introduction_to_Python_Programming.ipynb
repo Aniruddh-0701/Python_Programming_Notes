{
 "cells": [
  {
   "cell_type": "markdown",
   "metadata": {},
   "source": [
    "#### Program:\n",
    "A set of instructions to perform a specific task\n",
    "#### Programming Language\n",
    "\n",
    "A language used to write a program\n",
    "\n",
    "#### Types of Programming language:\n",
    "1.\tStatically typed – Compiler; values defined before execution\n",
    "2.\tDynamically typed – Interpreter; values defined during execution\n",
    "\n",
    "#### Requirements for running a code:\n",
    "1.\tCompiler (Fastest)\n",
    "2.\tInterpreter \n",
    "\n",
    "### Python:  \n",
    "- Easy typing  \n",
    "- Open source  \n",
    "\n",
    "It is dynamically typed Interpreted language.  \n",
    "\n",
    "Python versions:  \n",
    "1.\t2.x\n",
    "2.\t3.x  \n",
    "\n",
    "90% match. Small syntax and data changes.  \n",
    "Latest: Python 3.8.5\n",
    "\n",
    "Things needed in a program:\n",
    "1.\tInput (i/p)\n",
    "2.\tOutput (o/p)\n",
    "3.\tValues\n",
    "4.\tOperator  \n",
    "\n",
    "###### Note:\n",
    "[value] - optional parameter"
   ]
  },
  {
   "cell_type": "markdown",
   "metadata": {},
   "source": [
    "### Input:\n",
    "Input from the user is obtained using the input statement  \n",
    ">Syntax: `input(prompt = \"\")`"
   ]
  },
  {
   "cell_type": "code",
   "execution_count": 1,
   "metadata": {},
   "outputs": [
    {
     "name": "stdout",
     "output_type": "stream",
     "text": [
      "Enter a number 10\n"
     ]
    }
   ],
   "source": [
    "# Example 1\n",
    "a = input('Enter a number ')\n",
    "\n",
    "# Example 2\n",
    "b = input()"
   ]
  },
  {
   "cell_type": "markdown",
   "metadata": {},
   "source": [
    "### Output:\n",
    "The output is displayed to the user using the print statement\n",
    "> Syntax: `print(values,..., end=”\\n”, sep=” ”)`\n"
   ]
  },
  {
   "cell_type": "code",
   "execution_count": 7,
   "metadata": {},
   "outputs": [
    {
     "name": "stdout",
     "output_type": "stream",
     "text": [
      "10\n",
      "\n",
      "10 1\n"
     ]
    }
   ],
   "source": [
    "# Example \n",
    "print(a)\n",
    "print()\n",
    "print(a,b)"
   ]
  },
  {
   "cell_type": "markdown",
   "metadata": {},
   "source": [
    "### Data in Python\n",
    "\n",
    "Data: Unorderd collection of information\n",
    "\n",
    "#### Types:\n",
    "1. Numeric\n",
    "2. Character\n",
    "3. Boolean\n",
    "4. Null\n",
    "5. Derived or Complex Data Types\n",
    "\n",
    "#### 1. Numeric:\n",
    "Associated with number  \n",
    "Eg: 10, 2.1, -99.7, 3.1416(pi)\n",
    "\n",
    "##### Types:\n",
    "1. Integer (int): 10, 100, 0, -5\n",
    "2. Floating point numbers or double (float): 22/7, -0.15\n",
    "\n",
    "#### 2. Character (char):\n",
    "All characters that are defined under ASCII (American Standard Code For Information Interchange). Look the below chart for the list of characters allowed under ASCII.\n",
    "\n",
    "<img src='ASCII chart.png'>\n",
    "\n",
    "They are denoted using single quotes ('')\n",
    "\n",
    "Eg: '1', 'a', '#'\n",
    "\n",
    "#### 3. Boolean (bool):\n",
    "Asserts if a condition is True or False\n",
    "If denotion in Number:  \n",
    "1. True - number != 0\n",
    "2. False - number = 0\n",
    "\n",
    "#### 4. Null or None:\n",
    "If nothing is present\n",
    "\n",
    "Above four primitive data types\n",
    "\n",
    "#### 5. Complex Data Types (Derived):\n",
    "Combination of above four data types\n",
    "\n",
    "##### Types:\n",
    "1. List\n",
    "2. Tuple\n",
    "3. Set\n",
    "4. String\n",
    "5. Dictionary\n",
    "\n",
    "###### String:\n",
    "A collection of characters\n",
    "\n",
    "Eg: 'Prabhu', '123', \"Hi\", \"Hello Python\" \n",
    "\n",
    "##### Additional types in integers (Base):\n",
    "1. Binary (base 2) [0,1]\n",
    "2. Octal (base 8) [0-7]\n",
    "3. Decimal (base 10) [0-9] Most Common\n",
    "4. HexaDecimal (base 16) [0-9, A-F]  \n",
    "The bases allowed are 2 to 35"
   ]
  },
  {
   "cell_type": "markdown",
   "metadata": {},
   "source": [
    "### Literals\n",
    "Literals are data that are used or processed in a program.\n",
    "\n",
    "#### Types:\n",
    "1. Constant - Values that do not change during the execution\n",
    "2. Variable - Values that change\n",
    "\n",
    "There are certain rules to be followed while naming a variable:  \n",
    "- Should start only with an alphabet or underscore ('_')\n",
    "- Can contain characters defined in ASCII except ( &#36;, &, \\\\, /, etc.)\n",
    "- It should not be keyword\n",
    "- No spaces\n",
    "- Generally, uppercase alphabets are not used in the beginning of a variable name.\n",
    "\n",
    "##### Naming Conventions:\n",
    "[Naming Convention - Wikipedia article](https://en.wikipedia.org/wiki/Naming_convention_(programming))  \n",
    "For  Easy readability \n",
    "- Function or use as name\n",
    "- first letter in lowercase\n",
    "- name has Multiple words:\n",
    "    1. use underscore for space\n",
    "    2. joint writing with words from second in caps\n",
    "- No Long names\n",
    "\n",
    "Naming convention for multi word variable names:\n",
    "1. Camel case (abcAbc)\n",
    "2. Pascal case (AbcAbc)\n",
    "3. Screaming case (ABC)\n",
    "4. Lazy case (abc)\n",
    "5. Kebab case (ab-ab)\n",
    "6. Snake case(ab_ab)  \n",
    "\n",
    "E.g.: age, input_values, firstName, number, prime_num  \n",
    "Not: user name, number_to_find_prime"
   ]
  },
  {
   "cell_type": "code",
   "execution_count": 3,
   "metadata": {},
   "outputs": [
    {
     "name": "stdout",
     "output_type": "stream",
     "text": [
      "a\n"
     ]
    }
   ],
   "source": [
    "userName = input()\n",
    "user_name = input()"
   ]
  },
  {
   "cell_type": "markdown",
   "metadata": {},
   "source": [
    "### Keywords or Indentifiers or Reserved words:\n",
    "\n",
    "Words used for a special purpose in program.\n",
    "\n",
    "E.g: input, print, int, if, for, try, list, etc."
   ]
  },
  {
   "cell_type": "code",
   "execution_count": null,
   "metadata": {},
   "outputs": [],
   "source": [
    "# Key words\n",
    "try\n",
    "for\n",
    "while\n",
    "input\n",
    "print"
   ]
  },
  {
   "cell_type": "markdown",
   "metadata": {},
   "source": [
    "### Comments:\n",
    "\n",
    "Lines that are not executed. It used only for understanding by the programmers or users\n",
    "\n",
    "'#' is used to comment lines"
   ]
  },
  {
   "cell_type": "markdown",
   "metadata": {},
   "source": [
    "### Documentation Strings or Doc strings:\n",
    "\n",
    "''' ''' , \"\"\" \"\"\" define documentation strings.\n",
    "\n",
    "Brief explanation of code.\n"
   ]
  },
  {
   "cell_type": "code",
   "execution_count": 1,
   "metadata": {},
   "outputs": [
    {
     "name": "stdout",
     "output_type": "stream",
     "text": [
      "Hi\n"
     ]
    }
   ],
   "source": [
    "\"\"\" \n",
    "This line gives example of docstrings.\n",
    "This doc strings can extend many lines\n",
    "\"\"\"\n",
    "print('Hi')"
   ]
  },
  {
   "cell_type": "markdown",
   "metadata": {},
   "source": [
    "### Type Casting and conversion:\n",
    "\n",
    "Convert one form of data into another\n",
    "\n",
    "`type()` function gives the data type of a variable\n",
    "\n",
    "|Method|Result|Syntax|\n",
    "|---|---|---|\n",
    "|int()|Converts Numeric data into integer|int(x [, base=10])|\n",
    "|float()|Converts Numeric Data into float|float(x)|\n",
    "|str()|Converts Data into string|str([x])|\n",
    "|ord()|Generates decimal ASCII value of a character|ord(x)|\n",
    "|chr()|Returns the ASCII character of given value|chr(x)|\n",
    "|oct()|Returns octal value as a string|oct(x)|\n",
    "|bin()|Returns Binary value as a string|bin(x)|\n",
    "|hex()|Returns Hexadecimal value as a string|hex(x)|\n",
    "|list()|Returns the list form of given iterable|list([x])|\n",
    "|tuple()|Returns the tuple form of given iterable|tuple([x])|\n",
    "|set()|Returns the set form of given iterable|set([x])|\n",
    "|dict()|Returns Key-value mapping|dict([x])|\n"
   ]
  },
  {
   "cell_type": "code",
   "execution_count": 10,
   "metadata": {},
   "outputs": [
    {
     "name": "stdout",
     "output_type": "stream",
     "text": [
      "<class 'str'>\n"
     ]
    },
    {
     "data": {
      "text/plain": [
       "float"
      ]
     },
     "execution_count": 10,
     "metadata": {},
     "output_type": "execute_result"
    }
   ],
   "source": [
    "print(type('123.0'))\n",
    "a = float('123.0')\n",
    "type(a)"
   ]
  },
  {
   "cell_type": "code",
   "execution_count": 12,
   "metadata": {},
   "outputs": [
    {
     "name": "stdout",
     "output_type": "stream",
     "text": [
      "123.0\n"
     ]
    },
    {
     "data": {
      "text/plain": [
       "123"
      ]
     },
     "execution_count": 12,
     "metadata": {},
     "output_type": "execute_result"
    }
   ],
   "source": [
    "print(a)\n",
    "int(a)"
   ]
  },
  {
   "cell_type": "markdown",
   "metadata": {},
   "source": [
    "### Operators:\n",
    "Used to perform arithmetic and logical operations\n",
    "#### Types:\n",
    "1. Arithmetic\n",
    "2. Relational\n",
    "3. Assignment\n",
    "4. Logical\n",
    "5. Bitwise\n",
    "6. Membership\n",
    "7. Identity\n",
    "\n",
    "##### 1. Arithmetic:  \n",
    "Perform arithmetic operations\n",
    "\n",
    "|**Operator**|**Description**|**Example**|\n",
    "|---|---|---|\n",
    "|$+$ |Addition|2 $+$ 3 = 5|\n",
    "|$-$ |Subtraction|2 $-$ 3 = -1|\n",
    "|$*$ |Multiplication|2 $*$ 3 = 6|\n",
    "|$/$ |Division|2 $/$ 3 = 0.66667|\n",
    "|$//$\t|Floor Division (quotient)|2 $//$ 3 = 0|\n",
    "|%\t|Modulo (returns remainder)|2 % 3 = 2|\n",
    "|$**$\t|Exponentiation|2 $**$ 3 = 8|\n",
    "|$+$\t|Unary Plus|$+$ 2|\n",
    "|$-$\t|Unary Minus|$-$3|\n",
    "\n",
    "##### 2. Relational:\n",
    "Relations between two variables\n",
    "\n",
    "|Operator|Description|Example|\n",
    "|---|---|---|\n",
    "|$==$|Equal|a $==$ b|\n",
    "|$!=$ or $<>$|Not Equal|a $!=$ b or a $<>$ b|\n",
    "|$>$|Greater|a $>$ b|\n",
    "|$>=$|Greater or Equal|a $>=$ b|\n",
    "|$<$|Lesser|a $<$ b|\n",
    "|$<=$|Lesser or Equal|a $<=$ b|\n",
    "\n",
    "##### 3. Assignment:\n",
    "Assigns value to a variable\n",
    "\n",
    "|Operator|Description|Example|\n",
    "|---|---|---|\n",
    "|$=$|Assign|c $=$ 30|\n",
    "|$+=$|Add and assign|a $+=$ b|\n",
    "|$-=$|Subtract and assign|a $-=$ b|\n",
    "|$*=$ |Multiply and assign|a $*=$ b|\n",
    "| $/=$|Divide and assign|a $/=$ b|\n",
    "|$//=$|Floor division and assign|a $//=$ b|\n",
    "|%=|Get remainder and assign|a %= b|\n",
    "|$**=$|Exponentiation and assign|a $**=$ b|\n",
    "|$:=$|Walrus operator (to define values from a function)|y $:=$ f(x)|\n",
    "\n",
    "###### Note:\n",
    "Walrus operator came into python in version 3.8. It will not work in previous versions.\n",
    "\n",
    "##### 4. Logical:\n",
    "Perform Logical operations\n",
    "\n",
    "|Operator|Description|\n",
    "|---|---|\n",
    "|and|Logical Operator AND|\n",
    "|or|Logical Operator OR|\n",
    "|not|Logical operator NOT|\n",
    "\n",
    "##### 5. Bitwise:\n",
    "Perform bitwise operations\n",
    "\n",
    "|Operator|Description|Syntax|Example|\n",
    "|---|---|---|---|\n",
    "|&|Bitwise AND| x & y |101 & 11|\n",
    "| &#124; |Bitwise OR| x &#124; y|101 &#124; 11|\n",
    "|~|Bitwise NOT|~x|~1|\n",
    "|^|Bitwise XOR|x ^ y|1 ^ 1|\n",
    "|<<|Shifts y bits in x to the left (Left shift operator)| \tx << y|111001 << 2|\n",
    "|>>|Shifts y bits in x to the right (Right Shift Operator)|\tx >> y|111001 >> 2|\n",
    "\n",
    "##### 6. Membership:   \n",
    "Check if an iterable object contains the element  \n",
    "\n",
    "|Operator|Description|Syntax|  \n",
    "|---|---|---|  \n",
    "|in|True if element in iterable|x in y|  \n",
    "|not in| True if element not in iterable|x not in y|\n",
    "\n",
    "##### 7. Identity operator:\n",
    "Checks if two operands point to same object  \n",
    "\n",
    "|Operator|Description|Syntax|  \n",
    "|---|---|---|  \n",
    "|is|True if point to same object|a is b|  \n",
    "|is not| True if they do not point| a is not b|  \n"
   ]
  },
  {
   "cell_type": "markdown",
   "metadata": {},
   "source": [
    "#### Expressions:\n",
    "\n",
    "A statement that gives a finite value.\n",
    "\n",
    "Types:\n",
    "1. Infix expressions:  \n",
    "Example: 12 + 23\n",
    "2. Prefix expressions:  \n",
    "Example: + 12 23\n",
    "3. Postfix expressions:  \n",
    "Example: 12 23 +"
   ]
  },
  {
   "cell_type": "markdown",
   "metadata": {},
   "source": [
    "#### Escape Sequence:  \n",
    "Few special characters defined under ASCII for formatting strings/ output\n",
    "\n",
    "|Sequence|Explanantion|  \n",
    "|---|---|\n",
    "|\\\\\\\\|Back slash|\n",
    "|\\\\'|Apostrophe or Single quotes|\n",
    "|\\n|new line or line feed|\n",
    "|\\f|form feed|\n",
    "|\\r|carriage return|\n",
    "|\\t|horizontal tab|\n",
    "|\\\\\"|Double quotes|\n",
    "|\\0|Null character|\n",
    "|\\a|bell|\n",
    "|\\v|vertical tab|\n",
    "|\\u...|unicode character|\n",
    "|\\o...|octal values|\n",
    "|\\x...|hexa decimal values|"
   ]
  },
  {
   "cell_type": "markdown",
   "metadata": {},
   "source": [
    "### String formatting:\n",
    "String formatting or output formatting is an important part of a program output.\n",
    "The display of output in user understandable form is important.\n",
    "\n",
    "The following are the string formatting methods used (in the order of increasing preference):\n",
    "1. Simple or no formatting\n",
    "2. Formatting using format specifiers\n",
    "3. Formatting using the format() method\n",
    "4. f-strings"
   ]
  },
  {
   "cell_type": "markdown",
   "metadata": {},
   "source": [
    "#### 1. Simple formtting\n",
    "`print('string', variable)`"
   ]
  },
  {
   "cell_type": "code",
   "execution_count": 16,
   "metadata": {},
   "outputs": [
    {
     "name": "stdin",
     "output_type": "stream",
     "text": [
      "Enter your name  Prabhu\n"
     ]
    },
    {
     "name": "stdout",
     "output_type": "stream",
     "text": [
      "Hello Prabhu , Welcome\n"
     ]
    }
   ],
   "source": [
    "name = input('Enter your name ')\n",
    "print('Hello', name,', Welcome')\n",
    "\n",
    "# Input: Prabhu"
   ]
  },
  {
   "cell_type": "markdown",
   "metadata": {},
   "source": [
    "#### 2. Format Specifiers:\n",
    "% symbol indicate format specifiers.\n",
    "\n",
    "Types:\n",
    "1. Integer: %d\n",
    "2. Float: %f\n",
    "3. Character: %c\n",
    "4. String: %s  \n",
    "`print('string format_specifier'%(order of variables))`"
   ]
  },
  {
   "cell_type": "code",
   "execution_count": 17,
   "metadata": {},
   "outputs": [
    {
     "name": "stdin",
     "output_type": "stream",
     "text": [
      " Sooriya\n"
     ]
    },
    {
     "name": "stdout",
     "output_type": "stream",
     "text": [
      "Hello Sooriya, Welcome\n"
     ]
    }
   ],
   "source": [
    "name = input()\n",
    "# printf(\"%d\", a); in C\n",
    "print('Hello %s, Welcome'%(name))\n",
    "\n",
    "# Input: Sooriya"
   ]
  },
  {
   "cell_type": "code",
   "execution_count": 21,
   "metadata": {},
   "outputs": [
    {
     "name": "stdout",
     "output_type": "stream",
     "text": [
      "Hello Sooriya, Welcome to Python3.8\n",
      "Welcome to Python3.8 Sooriya\n"
     ]
    }
   ],
   "source": [
    "str1 = 'Python'\n",
    "ver = 3.8\n",
    "print('Hello %s, Welcome to %s%.1f'%(name, str1, ver))\n",
    "print(\"Welcome to %s%.1f %s\"%(str1, ver, name))"
   ]
  },
  {
   "cell_type": "markdown",
   "metadata": {},
   "source": [
    "#### 3. Format Method:\n",
    "Uses `.format()` method  \n",
    "`print(\"string {order}\".format(variables))`"
   ]
  },
  {
   "cell_type": "code",
   "execution_count": 33,
   "metadata": {},
   "outputs": [
    {
     "name": "stdout",
     "output_type": "stream",
     "text": [
      "Hello Midhun, Welcome\n"
     ]
    }
   ],
   "source": [
    "print(\"Hello {}, Welcome\".format(name))"
   ]
  },
  {
   "cell_type": "code",
   "execution_count": 23,
   "metadata": {},
   "outputs": [
    {
     "name": "stdout",
     "output_type": "stream",
     "text": [
      "Hello Sooriya, Welcome to Python3.8\n",
      "Hello Sooriya, Welcome to Python\n",
      "Welcome to Python3.8 Sooriya\n"
     ]
    }
   ],
   "source": [
    "string1 = 'Python'\n",
    "print(\"Hello {0}, Welcome to {1}{2}\".format(name, string1, ver))\n",
    "print(\"Hello {}, Welcome to {}\".format(name, string1))\n",
    "print(\"Welcome to {}{} {}\".format(str1, ver, name))"
   ]
  },
  {
   "cell_type": "markdown",
   "metadata": {},
   "source": [
    "#### 4. F-strings:\n",
    "F-strings or formatted strings used to format strings using variables  \n",
    "`f'string {variable}'`  \n",
    "The f-strings came after Python 3.6"
   ]
  },
  {
   "cell_type": "code",
   "execution_count": 24,
   "metadata": {},
   "outputs": [
    {
     "name": "stdout",
     "output_type": "stream",
     "text": [
      "Hello Sooriya, Welcome to Python\n"
     ]
    }
   ],
   "source": [
    "print(f'Hello {name}, Welcome to {string1}')"
   ]
  },
  {
   "cell_type": "code",
   "execution_count": 26,
   "metadata": {},
   "outputs": [
    {
     "name": "stdout",
     "output_type": "stream",
     "text": [
      "Hello Sooriya Welocme to Python3.8\n"
     ]
    }
   ],
   "source": [
    "print(f'Hello {name} '\\\n",
    "     f'Welocme to {string1}{ver}')"
   ]
  },
  {
   "cell_type": "markdown",
   "metadata": {},
   "source": [
    "### Float and integer formatting:\n",
    "\n",
    "The format method is used to format integers and floats as required.\n",
    "\n",
    "#### Integer Formatting:\n",
    "Leading zeroes adding to integers\n",
    "Eg: 01 002\n",
    "##### 1. Format Specifiers:\n",
    "`%d` - integer  \n",
    "`%0nd` - no. of leading zeroes = n - no. of digits in the integer \n",
    "##### 2. format method:\n",
    "`format(int_value, format)`\n",
    "##### 3. f-strings:\n",
    "`{int_value:0nd}`\n",
    "#### Float formatting:\n",
    "Round off decimal places  \n",
    "Eg: 10.1234: 10.12\n",
    "##### 1. Format Specifiers:\n",
    "`%f` - float  \n",
    "`%.2f` - 2 decimal places\n",
    "##### 2. format method:\n",
    "`format(float_value, format)`\n",
    "##### 3. f-strings:\n",
    "`{float_value:.nf}`\n"
   ]
  },
  {
   "cell_type": "code",
   "execution_count": null,
   "metadata": {},
   "outputs": [],
   "source": []
  },
  {
   "cell_type": "markdown",
   "metadata": {},
   "source": [
    "## Muliple Assignment in one line:\n",
    "Python allows assignment of different variables in one line.\n",
    "\n",
    "Syntax: `var1, var2, var3, ... = val1, val2, val3, ...`"
   ]
  },
  {
   "cell_type": "code",
   "execution_count": 3,
   "metadata": {},
   "outputs": [
    {
     "name": "stdout",
     "output_type": "stream",
     "text": [
      "10\n",
      "20\n",
      "40\n",
      "30\n"
     ]
    }
   ],
   "source": [
    "a, b, c, d = 10, 20, 30, 40\n",
    "print(a)\n",
    "print(b)\n",
    "print(d)\n",
    "print(c)"
   ]
  }
 ],
 "metadata": {
  "kernelspec": {
   "display_name": "Python 3",
   "language": "python",
   "name": "python3"
  },
  "language_info": {
   "codemirror_mode": {
    "name": "ipython",
    "version": 3
   },
   "file_extension": ".py",
   "mimetype": "text/x-python",
   "name": "python",
   "nbconvert_exporter": "python",
   "pygments_lexer": "ipython3",
   "version": "3.8.6"
  }
 },
 "nbformat": 4,
 "nbformat_minor": 4
}
