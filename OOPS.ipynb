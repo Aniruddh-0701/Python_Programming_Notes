{
 "cells": [
  {
   "cell_type": "markdown",
   "metadata": {},
   "source": [
    "# OOPS:\n",
    "\n",
    "Object Oriented Programming or OOP is working with classes and objects. It involves interaction between objects having various attributes.\n",
    "\n",
    "Python is a object oriented programming language. This meand that all the types are representation or instance of a type class."
   ]
  },
  {
   "cell_type": "markdown",
   "metadata": {},
   "source": [
    "## Components:\n",
    "1. Class\n",
    "2. Object\n"
   ]
  },
  {
   "cell_type": "markdown",
   "metadata": {},
   "source": [
    "## Class:\n",
    "\n",
    "It is a structure or a building block (a code block) representing or defining the attributes (features and behaviour) of similar parameters.\n",
    "\n",
    "### Definition:\n",
    "Using `class` keyword.\n",
    "Name of a class should start with an uppercase letter.\n",
    "\n",
    "Syntax: \n",
    "```python\n",
    "class Class_name\n",
    "```"
   ]
  },
  {
   "cell_type": "code",
   "execution_count": 1,
   "metadata": {},
   "outputs": [],
   "source": [
    "class Students:\n",
    "    roll_no = int()\n",
    "    name = str()"
   ]
  },
  {
   "cell_type": "markdown",
   "metadata": {},
   "source": [
    "## Object:\n",
    "\n",
    "It is an instance of a class.\n",
    "\n",
    "Syntax: \n",
    "```python\n",
    "obj_name = Class_name()\n",
    "```"
   ]
  },
  {
   "cell_type": "code",
   "execution_count": 2,
   "metadata": {},
   "outputs": [],
   "source": [
    "student1 = Students() # creating a new object\n",
    "\n",
    "student1.roll_no = 1\n",
    "student1.name = 'Prabhu'"
   ]
  },
  {
   "cell_type": "code",
   "execution_count": 3,
   "metadata": {},
   "outputs": [
    {
     "name": "stdout",
     "output_type": "stream",
     "text": [
      "Prabhu\n",
      "1\n"
     ]
    }
   ],
   "source": [
    "print(student1.name)\n",
    "print(student1.roll_no)"
   ]
  },
  {
   "cell_type": "markdown",
   "metadata": {},
   "source": [
    "## *self* Keyword:\n",
    "\n",
    "Calls the attributes for current instance or object.\n",
    "\n",
    "Syntax: \n",
    "```python\n",
    "self.attribute_name\n",
    "```"
   ]
  },
  {
   "cell_type": "markdown",
   "metadata": {},
   "source": [
    "## Defining attributes in a class\n",
    "\n",
    "Attributes or Properties are generally of two types:\n",
    "1. Fields (variables)\n",
    "2. Methods (functions)\n",
    "\n",
    "### Fields\n",
    "The `fields` are the variables or containers that store data used and related to an object/Class\n",
    "\n",
    "Types:  \n",
    "1. Instance fields\n",
    "2. Class or static fields\n"
   ]
  },
  {
   "cell_type": "markdown",
   "metadata": {},
   "source": [
    "The `methods` are block of code that, like functions, execute a specific task\n",
    "\n",
    "Though a method and function are defined in the same way, they have differences.\n",
    "\n",
    "A **function** is a piece of code that is called by name. It can be passed data to operate on (i.e. the parameters) and can optionally return data (the return value). All data that is passed to a function is explicitly passed.\n",
    "\n",
    "A **method** is a piece of code that is called by a name that is associated with an object. \n",
    "\n",
    "In most respects it is identical to a function except for two key differences:\n",
    "\n",
    "1. A method is implicitly passed the object on which it was called.\n",
    "2. A method is able to operate on data that is contained within the class \n",
    "\n",
    "(remembering that an object is an instance of a class - the class is the definition, the object is an instance of that data).\n",
    "\n",
    "Types:\n",
    "1. Instance methods\n",
    "2. Static methods"
   ]
  },
  {
   "cell_type": "markdown",
   "metadata": {},
   "source": [
    "### Constructor:\n",
    "A method that executes a set of code whenever a new object/instance is created.\n",
    "\n",
    "Defined as `__new__()`. Generally, this is not defined/overridden and follows the default definition as in the `object` class\n",
    "\n",
    "```python\n",
    "def __new__(cls, *args, **kwargs):\n",
    "    # Custom constructor\n",
    "```\n",
    "\n",
    "### Initializer:\n",
    "A method that initializes the object (instance) created by call with the parameters passed.  \n",
    "\n",
    "The `__new__()` method calls this automatically.\n",
    "\n",
    "Defined as `__init__()`.\n",
    "\n",
    "```python\n",
    "def __init__(self, *args, **kwargs):\n",
    "    # Statements for object Initialization\n",
    "```"
   ]
  },
  {
   "cell_type": "code",
   "execution_count": 7,
   "metadata": {},
   "outputs": [],
   "source": [
    "class Student:\n",
    "    def __init__(self): # default constructor\n",
    "        self.roll_no = 0\n",
    "        self.name = 'Name'\n",
    "#         print('__init__ file')\n",
    "    \n",
    "    def study(self):\n",
    "        print('Studying....')"
   ]
  },
  {
   "cell_type": "code",
   "execution_count": 8,
   "metadata": {},
   "outputs": [
    {
     "name": "stdout",
     "output_type": "stream",
     "text": [
      "__init__ file\n",
      "Roll No: 1, Name: Ravi\n"
     ]
    }
   ],
   "source": [
    "st1 = Student()\n",
    "st1.roll_no = 1\n",
    "st1.name = 'Ravi'\n",
    "print(f'Roll No: {st1.roll_no}, Name: {st1.name}')"
   ]
  },
  {
   "cell_type": "code",
   "execution_count": 9,
   "metadata": {},
   "outputs": [],
   "source": [
    "class Student_details:\n",
    "    def __init__(self, rn = 0, st_name = 'Name'): # Parametric Constructor\n",
    "        self.roll_no = rn\n",
    "        self.name = st_name\n",
    "#         print('__init__ file')\n",
    "    \n",
    "    def study(self):\n",
    "        print('Studying....')"
   ]
  },
  {
   "cell_type": "code",
   "execution_count": 10,
   "metadata": {},
   "outputs": [
    {
     "name": "stdout",
     "output_type": "stream",
     "text": [
      "Roll No: 2, Name: Rahul\n"
     ]
    }
   ],
   "source": [
    "st2 = Student_details(2, 'Rahul')\n",
    "print(f'Roll No: {st2.roll_no}, Name: {st2.name}')"
   ]
  },
  {
   "cell_type": "markdown",
   "metadata": {},
   "source": [
    "## destructor:\n",
    "Delete the current instance of class or object. It has default definition in the object Base class\n",
    "\n",
    "Use `__del__()` method to override it\n",
    "\n",
    "```python\n",
    "def __del__(self, *args, **kwargs):\n",
    "    # Custom destructor\n",
    "```"
   ]
  },
  {
   "cell_type": "markdown",
   "metadata": {},
   "source": [
    "## Some other methods:\n",
    "\n",
    "1. \\_\\_repr\\_\\_ - String representation\n",
    "2. \\_\\_cmp\\_\\_ - Compare two objects\n",
    "3. \\_\\_len\\_\\_ - length of object\n",
    "4. \\_\\_lt\\_\\_ - less than\n",
    "7. \\_\\_le\\_\\_ - less than or equal\n",
    "8. \\_\\_gt\\_\\_ - greater than\n",
    "9. \\_\\_ge\\_\\_ - greater than or equal\n",
    "10. \\_\\_ne\\_\\_ - not equal\n",
    "0. \\_\\_eq\\_\\_ - equal\n",
    "5. \\_\\_getitem\\_\\_ - get a key from a iterable\n",
    "6. \\_\\_setitem\\_\\_ - set a value to the given key of iterable"
   ]
  },
  {
   "cell_type": "markdown",
   "metadata": {},
   "source": [
    "## Private variables and methods:\n",
    "\n",
    "Start with \\_\\_\n",
    "\n",
    "E.g.: \\_\\_var, \\_\\_method\n",
    "\n",
    "It is advised for best programming practice to avoid calling private attributes outside the class.  \n",
    "But if needed, use the following syntax:\n",
    "\n",
    "`obj._classname__attribute`"
   ]
  },
  {
   "cell_type": "markdown",
   "metadata": {},
   "source": [
    "## Calling a method in another method inside the class:\n",
    "\n",
    "Use self keyword to call the function."
   ]
  },
  {
   "cell_type": "markdown",
   "metadata": {},
   "source": [
    "## Definining run time class attributes:"
   ]
  },
  {
   "cell_type": "markdown",
   "metadata": {},
   "source": [
    "## Methods of attributes:"
   ]
  },
  {
   "cell_type": "code",
   "execution_count": null,
   "metadata": {},
   "outputs": [],
   "source": []
  },
  {
   "cell_type": "markdown",
   "metadata": {},
   "source": [
    "Check the complete example [OOPS.py](OOPS.py)  \n",
    "\n",
    "Ignore the imports. They have been used to provide hinting about the types of each variable"
   ]
  }
 ],
 "metadata": {
  "kernelspec": {
   "display_name": "Python 3",
   "language": "python",
   "name": "python3"
  },
  "language_info": {
   "codemirror_mode": {
    "name": "ipython",
    "version": 3
   },
   "file_extension": ".py",
   "mimetype": "text/x-python",
   "name": "python",
   "nbconvert_exporter": "python",
   "pygments_lexer": "ipython3",
   "version": "3.9.6"
  }
 },
 "nbformat": 4,
 "nbformat_minor": 4
}
