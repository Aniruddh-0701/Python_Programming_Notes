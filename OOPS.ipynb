{
 "cells": [
  {
   "cell_type": "markdown",
   "source": [
    "\r\n",
    "# Object Oriented Programming - Part 1\r\n",
    "\r\n",
    "## OOP\r\n",
    "\r\n",
    "Object Oriented Programming or OOP is working with classes and objects. It involves interaction between objects having various attributes.\r\n",
    "\r\n",
    "Python is a object oriented programming language. This means that all the types are representation or instance of a type class."
   ],
   "metadata": {}
  },
  {
   "cell_type": "markdown",
   "source": [
    "## Components\r\n",
    "\r\n",
    "1. Class\r\n",
    "2. Object\r\n"
   ],
   "metadata": {}
  },
  {
   "cell_type": "markdown",
   "source": [
    "## Class\r\n",
    "\r\n",
    "It is a structure, a blueprint or a building block (a code block) representing or defining the attributes (features and behaviour) of similar parameters.\r\n",
    "\r\n",
    "### Definition\r\n",
    "\r\n",
    "Using `class` keyword.\r\n",
    "Name of a class should start with an uppercase letter.\r\n",
    "\r\n",
    "Syntax:\r\n",
    "\r\n",
    "```python\r\n",
    "class Class_name\r\n",
    "```\r\n"
   ],
   "metadata": {}
  },
  {
   "cell_type": "code",
   "execution_count": 1,
   "source": [
    "class Students:\r\n",
    "    roll_no = int()\r\n",
    "    name = str()"
   ],
   "outputs": [],
   "metadata": {}
  },
  {
   "cell_type": "markdown",
   "source": [
    "## Object\r\n",
    "\r\n",
    "It is an instance of a class.\r\n",
    "\r\n",
    "Syntax: \r\n",
    "\r\n",
    "```python\r\n",
    "obj_name = Class_name()\r\n",
    "```\r\n"
   ],
   "metadata": {}
  },
  {
   "cell_type": "code",
   "execution_count": 2,
   "source": [
    "student1 = Students() # creating a new object\r\n",
    "\r\n",
    "student1.roll_no = 1\r\n",
    "student1.name = 'Prabhu'"
   ],
   "outputs": [],
   "metadata": {}
  },
  {
   "cell_type": "code",
   "execution_count": 3,
   "source": [
    "print(student1.name)\r\n",
    "print(student1.roll_no)"
   ],
   "outputs": [
    {
     "output_type": "stream",
     "name": "stdout",
     "text": [
      "Prabhu\n",
      "1\n"
     ]
    }
   ],
   "metadata": {}
  },
  {
   "cell_type": "markdown",
   "source": [
    "## *self* Keyword\r\n",
    "\r\n",
    "Calls the attributes for current instance or object.\r\n",
    "\r\n",
    "Syntax:\r\n",
    "\r\n",
    "```python\r\n",
    "self.attribute_name\r\n",
    "```\r\n"
   ],
   "metadata": {}
  },
  {
   "cell_type": "markdown",
   "source": [
    "## Defining attributes and behavior in a class\r\n",
    "\r\n",
    "An object is generally defined by the follwing:\r\n",
    "\r\n",
    "1. Fields (variables) or Attributes\r\n",
    "2. Methods (functions) or Behavior\r\n",
    "\r\n",
    "### Fields\r\n",
    "\r\n",
    "The `fields` are the variables or containers that store data used and related to an object/Class\r\n",
    "\r\n",
    "Types:  \r\n",
    "\r\n",
    "1. Instance fields\r\n",
    "2. Class or static fields\r\n",
    "\r\n",
    "#### Instance fields\r\n",
    "\r\n",
    "The instance fields are variables that are associated with an object, an instance of the class.\r\n",
    "\r\n",
    "The data they have may vary from object to object and are independent. The field of one instance cannot be accessed by the other.  \r\n",
    "The instance variables are accessed as follows:\r\n",
    "\r\n",
    "```python\r\n",
    "# Inside the class using `self` keyword\r\n",
    "self.instance_variable\r\n",
    "\r\n",
    "# Outside the class using the object name\r\n",
    "object_name.instance_variable\r\n",
    "```\r\n",
    "\r\n",
    "#### Class fields\r\n",
    "\r\n",
    "The class variables are variables that are common throughout the instances of the defined class and can be accessed by all of them.\r\n",
    "\r\n",
    "Modifying data in one object changes it for all the present instances.  \r\n",
    "They are accessed inside and outside the class definition as follows:\r\n",
    "\r\n",
    "```python\r\n",
    "# Using class name to access static variables\r\n",
    "Class_name.class_variable\r\n",
    "```\r\n"
   ],
   "metadata": {}
  },
  {
   "cell_type": "code",
   "execution_count": 1,
   "source": [
    "class Student_details:\r\n",
    "    student_count = 0\r\n",
    "    def __init__(self, name):\r\n",
    "        self.name = name # Instance variable\r\n",
    "        Student_details.student_count += 1 # Class Variable\r\n",
    "\r\n",
    "s = Student_details(\"Prabhu\")\r\n",
    "print(s.name) # Instance variable\r\n",
    "s1 = Student_details(\"Mano\")\r\n",
    "print(s1.name) # Instance variable\r\n",
    "print(Student_details.student_count) # Class variable"
   ],
   "outputs": [
    {
     "output_type": "stream",
     "name": "stdout",
     "text": [
      "Prabhu\n",
      "Mano\n",
      "2\n"
     ]
    }
   ],
   "metadata": {}
  },
  {
   "cell_type": "markdown",
   "source": [
    "### Methods\r\n",
    "\r\n",
    "The `methods` are block of code that, like functions, execute a specific task\r\n",
    "\r\n",
    "Though a method and function are defined in the same way, they have differences.\r\n",
    "\r\n",
    "A **function** is a piece of code that is called by name. It can be passed data to operate on (i.e. the parameters) and can optionally return data (the return value). All data that is passed to a function is explicitly passed.\r\n",
    "\r\n",
    "A **method** is a piece of code that is called by a name that is associated with an object. \r\n",
    "\r\n",
    "In most respects it is identical to a function except for two key differences:\r\n",
    "\r\n",
    "1. A method is implicitly passed the object on which it was called.\r\n",
    "2. A method is able to operate on data that is contained within the class \r\n",
    "\r\n",
    "(remembering that an object is an instance of a class - the class is the definition, the object is an instance of that data).\r\n",
    "\r\n",
    "Source: [What's the difference between a method and a function? - StackOverflow](https://stackoverflow.com/questions/155609/whats-the-difference-between-a-method-and-a-function#155655)\r\n",
    "\r\n",
    "Types:\r\n",
    "\r\n",
    "1. Instance methods\r\n",
    "2. Static methods\r\n",
    "\r\n",
    "#### Instance methods\r\n",
    "\r\n",
    "Instance methods are methods/behavior that are associated with objects. When an object calls one of its instnace methods, the instance method gets implicitly passed object and uses the data it gets with other required parameters to do the task.  \r\n",
    "Definition and access:\r\n",
    "\r\n",
    "```python\r\n",
    "# Definition\r\n",
    "def instance_method(self[, ...]): # the self keyword indicates the implicit passing of the object\r\n",
    "    # Statements\r\n",
    "\r\n",
    "# access inside the class (in another instance method)\r\n",
    "self.instance_method(...)\r\n",
    "\r\n",
    "# Access outside the class\r\n",
    "obj.instance_method(...)\r\n",
    "```\r\n",
    "\r\n",
    "***Note:*** It is to be noted that an instance method can be called only inside another instance method\r\n",
    "\r\n",
    "#### Static or Class method\r\n",
    "\r\n",
    "A static method is a method that is common for all objects. It is equivalent of function being defined outside the class.\r\n",
    "\r\n",
    "A static method is identified by the decorator `@staticmethod` and has implicit object passing using `self` keyword.\r\n",
    "\r\n",
    "Definition and Access:\r\n",
    "\r\n",
    "```python\r\n",
    "@staticmethod\r\n",
    "def class_method([...]):\r\n",
    "    #Statement(s)\r\n",
    "\r\n",
    "# accessing the method using class name\r\n",
    "Class_name.class_method([...])\r\n",
    "```\r\n",
    "\r\n",
    "The static method can be called inside another static method or instance method(s)\r\n"
   ],
   "metadata": {}
  },
  {
   "cell_type": "markdown",
   "source": [
    "### Constructor\r\n",
    "\r\n",
    "A method that executes a set of code whenever a new object/instance is created.\r\n",
    "\r\n",
    "Defined as `__new__()`. Generally, this is not defined/overridden and follows the default definition as in the `object` class\r\n",
    "\r\n",
    "```python\r\n",
    "def __new__(cls, *args, **kwargs):\r\n",
    "    # Custom constructor\r\n",
    "```\r\n",
    "\r\n",
    "### Initializer\r\n",
    "\r\n",
    "An instance method that initializes the object (instance) created by call with the parameters passed.  \r\n",
    "\r\n",
    "The `__new__()` method calls this automatically.\r\n",
    "\r\n",
    "Defined as `__init__()`.\r\n",
    "\r\n",
    "```python\r\n",
    "def __init__(self, *args, **kwargs):\r\n",
    "    # Statements for object Initialization\r\n",
    "```\r\n"
   ],
   "metadata": {}
  },
  {
   "cell_type": "code",
   "execution_count": 7,
   "source": [
    "class Student:\r\n",
    "    def __init__(self): # default constructor\r\n",
    "        self.roll_no = 0\r\n",
    "        self.name = 'Name'\r\n",
    "#         print('__init__ file')\r\n",
    "    \r\n",
    "    def study(self):\r\n",
    "        print('Studying....')"
   ],
   "outputs": [],
   "metadata": {}
  },
  {
   "cell_type": "code",
   "execution_count": 8,
   "source": [
    "st1 = Student()\r\n",
    "st1.roll_no = 1\r\n",
    "st1.name = 'Ravi'\r\n",
    "print(f'Roll No: {st1.roll_no}, Name: {st1.name}')"
   ],
   "outputs": [
    {
     "output_type": "stream",
     "name": "stdout",
     "text": [
      "__init__ file\n",
      "Roll No: 1, Name: Ravi\n"
     ]
    }
   ],
   "metadata": {}
  },
  {
   "cell_type": "code",
   "execution_count": 2,
   "source": [
    "class Student_details:\r\n",
    "    def __init__(self, rn = 0, st_name = 'Name'): # Parametric Constructor\r\n",
    "        self.roll_no = rn\r\n",
    "        self.name = st_name\r\n",
    "        # print('__init__ file')\r\n",
    "    \r\n",
    "    def study(self):\r\n",
    "        print('Studying....')\r\n",
    "    @staticmethod\r\n",
    "    def work():\r\n",
    "        print(\"Working...\")"
   ],
   "outputs": [],
   "metadata": {}
  },
  {
   "cell_type": "code",
   "execution_count": 3,
   "source": [
    "st2 = Student_details(2, 'Rahul')\r\n",
    "print(f'Roll No: {st2.roll_no}, Name: {st2.name}')\r\n",
    "Student_details.work()"
   ],
   "outputs": [
    {
     "output_type": "stream",
     "name": "stdout",
     "text": [
      "Roll No: 2, Name: Rahul\n",
      "Working...\n"
     ]
    }
   ],
   "metadata": {}
  },
  {
   "cell_type": "markdown",
   "source": [
    "## destructor\r\n",
    "\r\n",
    "Delete the current instance of class or object. It has default definition in the object Base class\r\n",
    "\r\n",
    "Use `__del__()` method to override it\r\n",
    "\r\n",
    "```python\r\n",
    "def __del__(self, *args, **kwargs):\r\n",
    "    # Custom destructor\r\n",
    "```\r\n"
   ],
   "metadata": {}
  },
  {
   "cell_type": "markdown",
   "source": [
    "## Some other methods\r\n",
    "\r\n",
    "1. \\_\\_repr\\_\\_ - String representation\r\n",
    "2. \\_\\_cmp\\_\\_ - Compare two objects\r\n",
    "3. \\_\\_len\\_\\_ - length of object\r\n",
    "4. \\_\\_lt\\_\\_ - less than\r\n",
    "5. \\_\\_le\\_\\_ - less than or equal\r\n",
    "6. \\_\\_gt\\_\\_ - greater than\r\n",
    "7. \\_\\_ge\\_\\_ - greater than or equal\r\n",
    "8. \\_\\_ne\\_\\_ - not equal\r\n",
    "9. \\_\\_eq\\_\\_ - equal\r\n",
    "10. \\_\\_getitem\\_\\_ - get a key from a iterable\r\n",
    "11. \\_\\_setitem\\_\\_ - set a value to the given key of iterable\r\n"
   ],
   "metadata": {}
  },
  {
   "cell_type": "markdown",
   "source": [
    "## Private variables and methods\r\n",
    "\r\n",
    "Start with \\_\\_\r\n",
    "\r\n",
    "E.g.: \\_\\_var, \\_\\_method\r\n",
    "\r\n",
    "It is advised for best programming practice to avoid calling private attributes outside the class.  \r\n",
    "But if needed, use the following syntax:\r\n",
    "\r\n",
    "```python\r\n",
    "obj._classname__attribute\r\n",
    "```\r\n"
   ],
   "metadata": {}
  },
  {
   "cell_type": "markdown",
   "source": [
    "Check the complete example [OOPS.py](OOPS.py)\r\n",
    "\r\n",
    "Ignore the imports. They have been used to provide hinting about the types of each variable\r\n"
   ],
   "metadata": {}
  }
 ],
 "metadata": {
  "ipub": {
   "subtitle": "Object Oriented Programming - Part 1/2",
   "title": "Object Oriented Programming - Part 1",
   "toc": true
  },
  "kernelspec": {
   "display_name": "Python 3",
   "language": "python",
   "name": "python3"
  },
  "language_info": {
   "codemirror_mode": {
    "name": "ipython",
    "version": 3
   },
   "file_extension": ".py",
   "mimetype": "text/x-python",
   "name": "python",
   "nbconvert_exporter": "python",
   "pygments_lexer": "ipython3",
   "version": "3.9.6"
  }
 },
 "nbformat": 4,
 "nbformat_minor": 4
}