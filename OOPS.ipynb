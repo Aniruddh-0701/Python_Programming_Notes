{
 "cells": [
  {
   "cell_type": "markdown",
   "source": [
    "# OOPS:\n",
    "\n",
    "Object Oriented Programming or OOP is working with classes and objects. It involves interaction between objects having various attributes.\n",
    "\n",
    "Python is a object oriented programming language. This meand that all the types are representation or instance of a type class."
   ],
   "metadata": {}
  },
  {
   "cell_type": "markdown",
   "source": [
    "## Components:\n",
    "1. Class\n",
    "2. Object\n"
   ],
   "metadata": {}
  },
  {
   "cell_type": "markdown",
   "source": [
    "## Class:\n",
    "\n",
    "It is a structure or a building block (a code block) representing or defining the attributes (features and behaviour) of similar parameters.\n",
    "\n",
    "### Definition:\n",
    "Using `class` keyword.\n",
    "Name of a class should start with an uppercase letter.\n",
    "\n",
    "Syntax: `class Class_name`"
   ],
   "metadata": {}
  },
  {
   "cell_type": "code",
   "execution_count": 1,
   "source": [
    "class Students:\r\n",
    "    roll_no = int()\r\n",
    "    name = str()"
   ],
   "outputs": [],
   "metadata": {}
  },
  {
   "cell_type": "markdown",
   "source": [
    "## Object:\n",
    "\n",
    "It is an instance of a class.\n",
    "\n",
    "Syntax: `obj_name = Class_name()`"
   ],
   "metadata": {}
  },
  {
   "cell_type": "code",
   "execution_count": 2,
   "source": [
    "student1 = Students() # creating a new object\r\n",
    "\r\n",
    "student1.roll_no = 1\r\n",
    "student1.name = 'Prabhu'"
   ],
   "outputs": [],
   "metadata": {}
  },
  {
   "cell_type": "code",
   "execution_count": 3,
   "source": [
    "print(student1.name)\r\n",
    "print(student1.roll_no)"
   ],
   "outputs": [
    {
     "output_type": "stream",
     "name": "stdout",
     "text": [
      "Prabhu\n",
      "1\n"
     ]
    }
   ],
   "metadata": {}
  },
  {
   "cell_type": "markdown",
   "source": [
    "## *self* Keyword:\n",
    "\n",
    "Calls the attributes for current instance or object.\n",
    "\n",
    "Syntax: `self.attribute_name`"
   ],
   "metadata": {}
  },
  {
   "cell_type": "markdown",
   "source": [
    "## Defining attributes in a class:\n",
    "\n",
    "Attributes or Properties are  defined using a constructor.\n",
    "\n",
    "### Constructor:\n",
    "Executes a set of code whenever a new object/instance is created.\n",
    "\n",
    "Defined by \\_\\_init\\_\\_ method."
   ],
   "metadata": {}
  },
  {
   "cell_type": "code",
   "execution_count": 7,
   "source": [
    "class Student:\r\n",
    "    def __init__(self): # default constructor\r\n",
    "        self.roll_no = 0\r\n",
    "        self.name = 'Name'\r\n",
    "#         print('__init__ file')\r\n",
    "    \r\n",
    "    def study(self):\r\n",
    "        print('Studying....')"
   ],
   "outputs": [],
   "metadata": {}
  },
  {
   "cell_type": "code",
   "execution_count": 8,
   "source": [
    "st1 = Student()\r\n",
    "st1.roll_no = 1\r\n",
    "st1.name = 'Ravi'\r\n",
    "print(f'Roll No: {st1.roll_no}, Name: {st1.name}')"
   ],
   "outputs": [
    {
     "output_type": "stream",
     "name": "stdout",
     "text": [
      "__init__ file\n",
      "Roll No: 1, Name: Ravi\n"
     ]
    }
   ],
   "metadata": {}
  },
  {
   "cell_type": "code",
   "execution_count": 9,
   "source": [
    "class Student_details:\r\n",
    "    def __init__(self, rn = 0, st_name = 'Name'): # Parametric Constructor\r\n",
    "        self.roll_no = rn\r\n",
    "        self.name = st_name\r\n",
    "#         print('__init__ file')\r\n",
    "    \r\n",
    "    def study(self):\r\n",
    "        print('Studying....')"
   ],
   "outputs": [],
   "metadata": {}
  },
  {
   "cell_type": "code",
   "execution_count": 10,
   "source": [
    "st2 = Student_details(2, 'Rahul')\r\n",
    "print(f'Roll No: {st2.roll_no}, Name: {st2.name}')"
   ],
   "outputs": [
    {
     "output_type": "stream",
     "name": "stdout",
     "text": [
      "Roll No: 2, Name: Rahul\n"
     ]
    }
   ],
   "metadata": {}
  },
  {
   "cell_type": "markdown",
   "source": [
    "## destructor:\n",
    "Delete the current instance of class or object.\n",
    "\n",
    "Use \\_\\_del\\_\\_ method"
   ],
   "metadata": {}
  },
  {
   "cell_type": "markdown",
   "source": [
    "## Some other methods:\n",
    "\n",
    "1. \\_\\_repr\\_\\_ - String representation\n",
    "2. \\_\\_cmp\\_\\_ - Compare two objects\n",
    "3. \\_\\_len\\_\\_ - length of object\n",
    "4. \\_\\_lt\\_\\_ - less than\n",
    "7. \\_\\_le\\_\\_ - less than or equal\n",
    "8. \\_\\_gt\\_\\_ - greater than\n",
    "9. \\_\\_ge\\_\\_ - greater than or equal\n",
    "10. \\_\\_ne\\_\\_ - not equal\n",
    "0. \\_\\_eq\\_\\_ - equal\n",
    "5. \\_\\_getitem\\_\\_ - get a key from a iterable\n",
    "6. \\_\\_setitem\\_\\_ - set a value to the given key of iterable"
   ],
   "metadata": {}
  },
  {
   "cell_type": "markdown",
   "source": [
    "## Private variables and methods:\n",
    "\n",
    "Start with \\_\\_\n",
    "\n",
    "E.g.: \\_\\_var, \\_\\_method\n",
    "\n",
    "It is advised for best programming practice to avoid calling private attributes outside the class.  \n",
    "But if needed, use the following syntax:\n",
    "\n",
    "`obj._classname__attribute`"
   ],
   "metadata": {}
  },
  {
   "cell_type": "markdown",
   "source": [
    "## Calling a method in another method inside the class:\n",
    "\n",
    "Use self keyword to call the function."
   ],
   "metadata": {}
  },
  {
   "cell_type": "markdown",
   "source": [
    "## Definining run time class attributes:"
   ],
   "metadata": {}
  },
  {
   "cell_type": "markdown",
   "source": [
    "## Methods of attributes:"
   ],
   "metadata": {}
  },
  {
   "cell_type": "code",
   "execution_count": null,
   "source": [],
   "outputs": [],
   "metadata": {}
  }
 ],
 "metadata": {
  "kernelspec": {
   "display_name": "Python 3",
   "language": "python",
   "name": "python3"
  },
  "language_info": {
   "codemirror_mode": {
    "name": "ipython",
    "version": 3
   },
   "file_extension": ".py",
   "mimetype": "text/x-python",
   "name": "python",
   "nbconvert_exporter": "python",
   "pygments_lexer": "ipython3",
   "version": "3.8.6"
  }
 },
 "nbformat": 4,
 "nbformat_minor": 4
}