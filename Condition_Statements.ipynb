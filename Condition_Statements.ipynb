{
 "cells": [
  {
   "cell_type": "markdown",
   "metadata": {},
   "source": [
    "### Condition Statements\n",
    "Condition statements or Control flow statements are statements that are used to control the flow or execution of a program.\n",
    "The flow is controlled the values of few variables that decide the proceedings of a program."
   ]
  },
  {
   "cell_type": "markdown",
   "metadata": {},
   "source": [
    "The conditions statements have same basic structure in all programming languages.\n",
    "The list of Control statements are:\n",
    "1. *if* statement\n",
    "2. *if - else* statements\n",
    "3. *if - elif - else* statements\n",
    "4. Nested *if - else* statements\n",
    "5. Inline *if - else* statements"
   ]
  },
  {
   "cell_type": "markdown",
   "metadata": {},
   "source": [
    "The condition given in the if statements need to result in allowed boolean values.  \n",
    "1. For integral type: value!=0 is True and value=0 is False  \n",
    "2. For list and tuple: length(value)>0 is True and length=0 is False  \n",
    "(boolean as applicable)"
   ]
  },
  {
   "cell_type": "markdown",
   "metadata": {},
   "source": [
    "#### 1. if statement:\n",
    "Executes the statements inside the block only if the condition is satisfied.\n",
    "\n",
    "Syntax: \n",
    ">*if* condition:  \n",
    "&nbsp;&nbsp;&nbsp;&nbsp;&nbsp;Statements"
   ]
  },
  {
   "cell_type": "markdown",
   "metadata": {},
   "source": [
    "#### Note: Indentation in python indicates blocks."
   ]
  },
  {
   "cell_type": "code",
   "execution_count": 2,
   "metadata": {},
   "outputs": [
    {
     "name": "stdout",
     "output_type": "stream",
     "text": [
      "18\n"
     ]
    }
   ],
   "source": [
    "# Example\n",
    "x = 14\n",
    "y = 18\n",
    "if y>x:\n",
    "    print(y)"
   ]
  },
  {
   "cell_type": "code",
   "execution_count": 5,
   "metadata": {},
   "outputs": [
    {
     "name": "stdin",
     "output_type": "stream",
     "text": [
      " -1\n"
     ]
    },
    {
     "name": "stdout",
     "output_type": "stream",
     "text": [
      "not zero\n"
     ]
    }
   ],
   "source": [
    "# Example2\n",
    "x = int(input())\n",
    "if x:\n",
    "    print('not zero')"
   ]
  },
  {
   "cell_type": "markdown",
   "metadata": {},
   "source": [
    "#### 2. *if - else* statements:"
   ]
  },
  {
   "cell_type": "markdown",
   "metadata": {},
   "source": [
    "#### 3. *if - elif - else* statements:"
   ]
  },
  {
   "cell_type": "markdown",
   "metadata": {},
   "source": [
    "#### 4. Nested *if - else* statements:\n",
    "*if else* within another *if else* statement\n",
    "\n",
    "Syntax:\n",
    ">if condition1:  \n",
    "&nbsp;&nbsp;&nbsp;&nbsp;&nbsp; if condition2:  \n",
    "&nbsp;&nbsp;&nbsp;&nbsp;&nbsp;&nbsp;&nbsp;&nbsp;&nbsp;Statements  \n",
    "&nbsp;&nbsp;&nbsp;&nbsp;&nbsp; else:  \n",
    "&nbsp;&nbsp;&nbsp;&nbsp;&nbsp;&nbsp;&nbsp;&nbsp;&nbsp;Statements  \n",
    "else:  \n",
    "&nbsp;&nbsp;&nbsp;&nbsp;&nbsp; if condition3:  \n",
    "&nbsp;&nbsp;&nbsp;&nbsp;&nbsp;&nbsp;&nbsp;&nbsp;&nbsp;Statements  \n",
    "&nbsp;&nbsp;&nbsp;&nbsp;&nbsp; else:  \n",
    "&nbsp;&nbsp;&nbsp;&nbsp;&nbsp;&nbsp;&nbsp;&nbsp;&nbsp;Statements  "
   ]
  },
  {
   "cell_type": "markdown",
   "metadata": {},
   "source": [
    "#### 5. Inline *if - else* statements:\n",
    "One liner of *if else* statements\n",
    "\n",
    "Syntax:\n",
    "> Statement1 if condition else Statement2"
   ]
  }
 ],
 "metadata": {
  "kernelspec": {
   "display_name": "Python 3",
   "language": "python",
   "name": "python3"
  },
  "language_info": {
   "codemirror_mode": {
    "name": "ipython",
    "version": 3
   },
   "file_extension": ".py",
   "mimetype": "text/x-python",
   "name": "python",
   "nbconvert_exporter": "python",
   "pygments_lexer": "ipython3",
   "version": "3.8.5"
  }
 },
 "nbformat": 4,
 "nbformat_minor": 4
}
