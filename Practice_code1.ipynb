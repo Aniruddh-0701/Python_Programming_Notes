{
 "cells": [
  {
   "cell_type": "markdown",
   "metadata": {},
   "source": [
    "This file contains practice question for [Introduction to Python programming](Introduction_to_Python_Programming.ipynb) (input ad output)\n",
    "\n",
    "Try working online at:  \n",
    "[Coding Ground - Tutorials Point](https://www.tutorialspoint.com/execute_python3_online.php)  \n",
    "[Online Compiler and Debugger](https://www.onlinegdb.com/online_python_compiler)"
   ]
  },
  {
   "cell_type": "markdown",
   "metadata": {},
   "source": [
    "**Q1:** Write a program to print 'Hello World'\n"
   ]
  },
  {
   "cell_type": "markdown",
   "metadata": {},
   "source": [
    "**Q2:** Write a program to get Name from the user and print it.  \n",
    ">Sample 1:  \n",
    "I/p: Chandru  \n",
    "O/p: Chandru  \n",
    "\n",
    ">Sample 2:  \n",
    "I/p: Prabhu  \n",
    "O/p: Prabhu\n"
   ]
  },
  {
   "cell_type": "markdown",
   "metadata": {},
   "source": [
    "**Q3:** Write a program to get Name and age from user and print it.\n",
    "\n",
    ">Sample 1:  \n",
    "I/p:  \n",
    "Chandru  \n",
    "19  \n",
    "O/p:  \n",
    "Chandru  \n",
    "19  \n",
    "\n",
    ">Sample 2:  \n",
    "I/p:  \n",
    "Prabhu  \n",
    "20  \n",
    "O/p:  \n",
    "Prabhu  \n",
    "20  \n"
   ]
  },
  {
   "cell_type": "markdown",
   "metadata": {},
   "source": [
    "**Q4:** Write a program to get two numbers from user and print their sum\n",
    ">Sample 1:  \n",
    "I/p:  \n",
    "12  \n",
    "12  \n",
    "O/p:  \n",
    "24\n",
    "\n",
    ">Sample 2:  \n",
    "I/p:  \n",
    "10  \n",
    "15  \n",
    "O/p:  \n",
    "25\n"
   ]
  },
  {
   "cell_type": "markdown",
   "metadata": {},
   "source": [
    "**Q5:** Write a program to get two numbers and perform all arithmetic operations on them.\n"
   ]
  },
  {
   "cell_type": "markdown",
   "metadata": {},
   "source": [
    "**Q6:** (Update of **Q4**)  \n",
    "Print formatted output\n",
    ">Sample 1:  \n",
    "I/p:  \n",
    "12  \n",
    "12  \n",
    "O/p:  \n",
    "Sum of 12 and 12 is 24\n",
    "\n",
    ">Sample 2:  \n",
    "I/p:  \n",
    "10  \n",
    "15  \n",
    "O/p:  \n",
    "Sum of 10 and 15 is 25\n"
   ]
  },
  {
   "cell_type": "markdown",
   "metadata": {},
   "source": [
    "**Q7:** Write a program to get name from the user and wish them Good Morning  \n",
    ">Sample:  \n",
    "I/p: Jenyhin  \n",
    "O/p: Good Morning, Jenyhin\n"
   ]
  },
  {
   "cell_type": "markdown",
   "metadata": {},
   "source": [
    "**Q8:** Write a program to get the side of the square and print its perimeter  \n",
    "Perimeter of a square = $4 \\times \\rm{side}$  \n",
    "**Q9:** Write a program to get the side of the square and print its area  \n",
    "Area of square = $\\rm{side} \\times \\rm{side}$\n"
   ]
  },
  {
   "cell_type": "markdown",
   "metadata": {},
   "source": [
    "**Q10:** Write a program to get the length and breadth of a rectangle and print its perimeter  \n",
    "Perimeter of a rectangle =$2 \\times \\rm{(length + breadth)}$\n",
    "\n",
    "**Q11:** Write a program to get the length and breadth of a rectangle and print its area  \n",
    "Area of a rectangle = $\\rm{length \\times breadth}$\n"
   ]
  },
  {
   "cell_type": "markdown",
   "metadata": {},
   "source": [
    "**Q12:** Write a program to get the number of sides and length of each side of a regular polygon and print its perimeter.  \n",
    "Perimeter = $\\rm{number~of~ sides \\times length~ of~ one~ side}$\n"
   ]
  },
  {
   "cell_type": "markdown",
   "metadata": {},
   "source": [
    "**Q13:** Write a program to get the length and height of a right triangle and print its area.  \n",
    "Area of right triangle = $\\dfrac{1}{2} \\times \\rm{base \\times height}$\n"
   ]
  },
  {
   "cell_type": "markdown",
   "metadata": {},
   "source": [
    "**Q14:** Write a program to get the radius of a circle and print its perimeter. (Take $\\pi = 3.14159$)  \n",
    "Perimeter of a circle = $2\\pi \\times \\rm{radius}$\n",
    "\n",
    "**Q15:** Write a program to get the radius of a circle and print its area. (Take $\\pi = 3.14159$)  \n",
    "Area of a circle = $\\pi \\times \\rm{radius}^2$\n"
   ]
  },
  {
   "cell_type": "markdown",
   "metadata": {},
   "source": [
    "**Q16:** Write a program to get the sides of a triangle and print its area using Heron's Formula.  \n",
    "Area of right triangle = $\\sqrt{s \\times (s-a)\\times(s-b)\\times(s-c)}$  \n",
    "where,  \n",
    "$s$ = Semi-Perimeter = $\\dfrac{\\rm{Perimter of triangle}}{2}$  \n",
    "$a, b, c$ = Sides of the triangle\n"
   ]
  },
  {
   "cell_type": "code",
   "execution_count": null,
   "metadata": {},
   "outputs": [],
   "source": []
  }
 ],
 "metadata": {
  "kernelspec": {
   "display_name": "Python 3",
   "language": "python",
   "name": "python3"
  },
  "language_info": {
   "codemirror_mode": {
    "name": "ipython",
    "version": 3
   },
   "file_extension": ".py",
   "mimetype": "text/x-python",
   "name": "python",
   "nbconvert_exporter": "python",
   "pygments_lexer": "ipython3",
   "version": "3.8.5"
  }
 },
 "nbformat": 4,
 "nbformat_minor": 4
}
