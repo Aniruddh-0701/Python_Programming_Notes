{
 "cells": [
  {
   "cell_type": "markdown",
   "metadata": {},
   "source": [
    "This Notebook Contains practice question for first note\n",
    "\n",
    "Try working online at:  \n",
    "[Coding Ground - Tutorials Point](https://www.tutorialspoint.com/execute_python3_online.php)  \n",
    "[Online Compiler and Debugger](https://www.onlinegdb.com/online_python_compiler)"
   ]
  },
  {
   "cell_type": "markdown",
   "metadata": {},
   "source": [
    "**Q1:** Write a program to print 'Hello World'"
   ]
  },
  {
   "cell_type": "markdown",
   "metadata": {},
   "source": [
    "**Q2:** Write a program to get Name from the user and print it.  \n",
    ">Sample 1:  \n",
    "I/p: Chandru  \n",
    "O/p: Chandru  \n",
    "\n",
    ">Sample 2:  \n",
    "I/p: Prabhu  \n",
    "O/p: Prabhu"
   ]
  },
  {
   "cell_type": "markdown",
   "metadata": {},
   "source": [
    "**Q3:** Write a program to get Name and age from user and print it.\n",
    "\n",
    ">Sample 1:  \n",
    "I/p:  \n",
    "Chandru  \n",
    "19  \n",
    "O/p:  \n",
    "Chandru  \n",
    "19  \n",
    "\n",
    ">Sample 2:  \n",
    "I/p:  \n",
    "Prabhu  \n",
    "20  \n",
    "O/p:  \n",
    "Prabhu  \n",
    "20  "
   ]
  },
  {
   "cell_type": "code",
   "execution_count": null,
   "metadata": {},
   "outputs": [],
   "source": []
  }
 ],
 "metadata": {
  "kernelspec": {
   "display_name": "Python 3",
   "language": "python",
   "name": "python3"
  },
  "language_info": {
   "codemirror_mode": {
    "name": "ipython",
    "version": 3
   },
   "file_extension": ".py",
   "mimetype": "text/x-python",
   "name": "python",
   "nbconvert_exporter": "python",
   "pygments_lexer": "ipython3",
   "version": "3.8.5"
  }
 },
 "nbformat": 4,
 "nbformat_minor": 4
}
