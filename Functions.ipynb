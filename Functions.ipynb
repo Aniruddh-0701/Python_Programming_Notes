{
 "cells": [
  {
   "cell_type": "markdown",
   "metadata": {},
   "source": [
    "## Functions in Python:\n",
    "Function is a set of organized lines of code that performs a specific, well defined task.\n",
    "\n",
    "It is used reduce the number of lines of code and improve reusability."
   ]
  },
  {
   "cell_type": "markdown",
   "metadata": {},
   "source": [
    "Syntax:  \n",
    "*def* function_name(parameters): => function definition  \n",
    "&nbsp; &nbsp; &nbsp;Statements  \n",
    "&nbsp; &nbsp; &nbsp; *return* value(s)\n",
    "\n",
    "...  \n",
    "...  \n",
    "function_name(parameters) => Caller"
   ]
  },
  {
   "cell_type": "markdown",
   "metadata": {},
   "source": [
    "#### Return statement:(*return*)\n",
    "Returns back a value as specified. It marks the end of a function\n"
   ]
  },
  {
   "cell_type": "markdown",
   "metadata": {},
   "source": [
    "## Fruitful function\n",
    "A fruitful function is a function that returns a value"
   ]
  },
  {
   "cell_type": "code",
   "execution_count": 4,
   "metadata": {},
   "outputs": [
    {
     "name": "stdin",
     "output_type": "stream",
     "text": [
      " 12\n",
      " 13\n"
     ]
    },
    {
     "name": "stdout",
     "output_type": "stream",
     "text": [
      "25\n"
     ]
    }
   ],
   "source": [
    "# Example 1:\n",
    "def add(a, b): # Function Definition\n",
    "    return a+b # returns the sum\n",
    "x = int(input())\n",
    "y = int(input())\n",
    "print(add(x, y)) # Function Calling"
   ]
  },
  {
   "cell_type": "markdown",
   "metadata": {},
   "source": [
    "## Lambda function (Inline or Anonymous function):\n",
    "One liner of a function\n",
    "\n",
    "Syntax:  \n",
    "*lambda* parameters: Statement\n"
   ]
  },
  {
   "cell_type": "code",
   "execution_count": 6,
   "metadata": {},
   "outputs": [
    {
     "name": "stdin",
     "output_type": "stream",
     "text": [
      " 10\n"
     ]
    },
    {
     "name": "stdout",
     "output_type": "stream",
     "text": [
      "True\n"
     ]
    }
   ],
   "source": [
    "# Example 1\n",
    "# def c(x):\n",
    "#     return x % 2 == 0 #One line function\n",
    "a = int(input())\n",
    "c = lambda x: x % 2 == 0 # Equivalent lambda function\n",
    "print(c(a))"
   ]
  },
  {
   "cell_type": "markdown",
   "metadata": {},
   "source": [
    "## Recursion:\n",
    "Recursion is a method of solving a problem where the solution depends on solutions to smaller instances of the same problem.\n",
    "\n",
    "## Recursive function:\n",
    "A function that performs recursion.\n",
    "\n",
    "A recursive function calls itself repeatedly by dividing the problem into sub problems until the solution is obtained for the smallest sub-problem.\n",
    "\n",
    ">*def* function(paramters1):  \n",
    "&nbsp;&nbsp;&nbsp; function(parameters2)"
   ]
  },
  {
   "cell_type": "code",
   "execution_count": null,
   "metadata": {},
   "outputs": [],
   "source": []
  },
  {
   "cell_type": "markdown",
   "metadata": {},
   "source": [
    "#### Function Arguments:\n",
    "\n",
    "##### Types:  \n",
    "1. Required Arguments\n",
    "2. Keyword Arguements\n",
    "3. Default Arguments\n",
    "4. Variable length Arguments\n"
   ]
  },
  {
   "cell_type": "markdown",
   "metadata": {},
   "source": [
    "### Scope of variable:\n",
    "1. Global Variable\n",
    "2. Local Variable"
   ]
  },
  {
   "cell_type": "markdown",
   "metadata": {},
   "source": [
    "### Docstrings in Function:"
   ]
  }
 ],
 "metadata": {
  "kernelspec": {
   "display_name": "Python 3",
   "language": "python",
   "name": "python3"
  },
  "language_info": {
   "codemirror_mode": {
    "name": "ipython",
    "version": 3
   },
   "file_extension": ".py",
   "mimetype": "text/x-python",
   "name": "python",
   "nbconvert_exporter": "python",
   "pygments_lexer": "ipython3",
   "version": "3.8.6rc1"
  }
 },
 "nbformat": 4,
 "nbformat_minor": 4
}
