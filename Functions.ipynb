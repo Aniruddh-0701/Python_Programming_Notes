{
 "cells": [
  {
   "cell_type": "markdown",
   "metadata": {},
   "source": [
    "## Functions in Python:\n",
    "Function is a set of organized lines of code that performs a specific, well defined task.\n",
    "\n",
    "It is used reduce the number of lines of code and improve reusability."
   ]
  },
  {
   "cell_type": "markdown",
   "metadata": {},
   "source": [
    "Syntax:  \n",
    "*def* function_name(parameters): => function definition  \n",
    "&nbsp; &nbsp; &nbsp;Statements  \n",
    "&nbsp; &nbsp; &nbsp; *return* value(s)\n",
    "\n",
    "...  \n",
    "...  \n",
    "function_name(parameters) => Caller"
   ]
  },
  {
   "cell_type": "markdown",
   "metadata": {},
   "source": [
    "#### Return statement:(*return*)\n",
    "Returns back a value as specified. It marks the end of a function\n"
   ]
  },
  {
   "cell_type": "markdown",
   "metadata": {},
   "source": [
    "## Fruitful function\n",
    "A fruitful function is a function that returns a value"
   ]
  },
  {
   "cell_type": "code",
   "execution_count": 4,
   "metadata": {},
   "outputs": [
    {
     "name": "stdin",
     "output_type": "stream",
     "text": [
      " 12\n",
      " 13\n"
     ]
    },
    {
     "name": "stdout",
     "output_type": "stream",
     "text": [
      "25\n"
     ]
    }
   ],
   "source": [
    "# Example 1:\n",
    "def add(a, b): # Function Definition\n",
    "    return a+b # returns the sum\n",
    "x = int(input())\n",
    "y = int(input())\n",
    "print(add(x, y)) # Function Calling\n",
    "# Input:\n",
    "# 12\n",
    "# 13"
   ]
  },
  {
   "cell_type": "markdown",
   "metadata": {},
   "source": [
    "## Lambda function (Inline or Anonymous function):\n",
    "One liner of a function\n",
    "\n",
    "Syntax:  \n",
    "*lambda* parameters: Statement\n"
   ]
  },
  {
   "cell_type": "code",
   "execution_count": 6,
   "metadata": {},
   "outputs": [
    {
     "name": "stdin",
     "output_type": "stream",
     "text": [
      " 10\n"
     ]
    },
    {
     "name": "stdout",
     "output_type": "stream",
     "text": [
      "True\n"
     ]
    }
   ],
   "source": [
    "# Example 1\n",
    "# def c(x):\n",
    "#     return x % 2 == 0 #One line function to check if even\n",
    "a = int(input())\n",
    "c = lambda x: x % 2 == 0 # Equivalent lambda function\n",
    "print(c(a))\n",
    "\n",
    "# Input: 10"
   ]
  },
  {
   "cell_type": "markdown",
   "metadata": {},
   "source": [
    "## Recursion:\n",
    "Recursion is a method of solving a problem where the solution depends on solutions to smaller instances of the same problem.\n",
    "\n",
    "## Recursive function:\n",
    "A function that performs recursion.\n",
    "\n",
    "A recursive function calls itself repeatedly by dividing the problem into sub problems until the solution is obtained for the smallest sub-problem.\n",
    "\n",
    ">*def* function(paramters1):  \n",
    "&nbsp;&nbsp;&nbsp; function(parameters2) -- Recursive calling"
   ]
  },
  {
   "cell_type": "code",
   "execution_count": 14,
   "metadata": {},
   "outputs": [
    {
     "name": "stdin",
     "output_type": "stream",
     "text": [
      " 6\n"
     ]
    },
    {
     "name": "stdout",
     "output_type": "stream",
     "text": [
      "720\n"
     ]
    }
   ],
   "source": [
    "# Example using factorial\n",
    "def factorial(n):\n",
    "    if -1<n<=1: return 1 # End of recursion\n",
    "    else: return n*factorial(n-1) # recursive calling\n",
    "\n",
    "n = int(input())\n",
    "print(factorial(n))\n",
    "# Input: 6"
   ]
  },
  {
   "cell_type": "markdown",
   "metadata": {},
   "source": [
    "Breaking down of problem:\n",
    "\n",
    "n = 6  \n",
    "n <= 1 False  \n",
    "6 * factorial(5)  \n",
    "\n",
    "n = 5  \n",
    "n <= 1 False  \n",
    "5 * factorial(4)  \n",
    "\n",
    "n = 4  \n",
    "n <= 1 False  \n",
    "4 * factorial(3)  \n",
    "\n",
    "n = 3  \n",
    "n <= 1 False  \n",
    "3 * factorial(2)  \n",
    "\n",
    "n = 2  \n",
    "n <= 1 False  \n",
    "2 * factorial(1)  \n",
    "\n",
    "n = 1  \n",
    "n <= 1 (n==1) True  \n",
    "1\n",
    "\n",
    "Building up:\n",
    "\n",
    "1 <br>\n",
    "2 * 1  \n",
    "3 * 2 * 1  \n",
    "4 * 3 * 2 * 1  \n",
    "5 * 4 * 3 * 2 * 1  \n",
    "6 * 5 * 4 * 3 * 2 * 1  \n",
    "\n",
    "720"
   ]
  },
  {
   "cell_type": "markdown",
   "metadata": {},
   "source": [
    "#### Function Arguments or Parameters: (args or params)\n",
    "Values passed into a function. They are optional\n",
    "##### Types:  \n",
    "1. Required Arguments\n",
    "2. Keyword Arguements\n",
    "3. Default Arguments\n",
    "4. Variable length Arguments\n"
   ]
  },
  {
   "cell_type": "markdown",
   "metadata": {},
   "source": [
    "#### 1. Required Arguments:\n",
    "\n",
    "Positional Arguments.\n",
    "These are arguments required to execute a function.  \n",
    "The number of required arguments should be equal to the number of arguments passed.\n",
    "If not, it will result in error."
   ]
  },
  {
   "cell_type": "code",
   "execution_count": 29,
   "metadata": {},
   "outputs": [
    {
     "name": "stdin",
     "output_type": "stream",
     "text": [
      " 12\n",
      " 23\n"
     ]
    },
    {
     "name": "stdout",
     "output_type": "stream",
     "text": [
      "35\n"
     ]
    }
   ],
   "source": [
    "# Example \n",
    "def add(a, b): # Function Definition - no. of required arguments\n",
    "    return a+b # returns the sum\n",
    "x = int(input())\n",
    "y = int(input())\n",
    "print(add(x, y)) # Function Calling - no. of args passed\n",
    "\n",
    "# Input:\n",
    "# 12\n",
    "# 23"
   ]
  },
  {
   "cell_type": "code",
   "execution_count": 30,
   "metadata": {},
   "outputs": [
    {
     "name": "stdin",
     "output_type": "stream",
     "text": [
      " 10\n",
      " 23\n"
     ]
    },
    {
     "ename": "TypeError",
     "evalue": "add() missing 1 required positional argument: 'b'",
     "output_type": "error",
     "traceback": [
      "\u001b[1;31m---------------------------------------------------------------------------\u001b[0m",
      "\u001b[1;31mTypeError\u001b[0m                                 Traceback (most recent call last)",
      "\u001b[1;32m<ipython-input-30-34688768ab06>\u001b[0m in \u001b[0;36m<module>\u001b[1;34m\u001b[0m\n\u001b[0;32m      5\u001b[0m \u001b[0mx\u001b[0m \u001b[1;33m=\u001b[0m \u001b[0mint\u001b[0m\u001b[1;33m(\u001b[0m\u001b[0minput\u001b[0m\u001b[1;33m(\u001b[0m\u001b[1;33m)\u001b[0m\u001b[1;33m)\u001b[0m\u001b[1;33m\u001b[0m\u001b[1;33m\u001b[0m\u001b[0m\n\u001b[0;32m      6\u001b[0m \u001b[0my\u001b[0m \u001b[1;33m=\u001b[0m \u001b[0mint\u001b[0m\u001b[1;33m(\u001b[0m\u001b[0minput\u001b[0m\u001b[1;33m(\u001b[0m\u001b[1;33m)\u001b[0m\u001b[1;33m)\u001b[0m\u001b[1;33m\u001b[0m\u001b[1;33m\u001b[0m\u001b[0m\n\u001b[1;32m----> 7\u001b[1;33m \u001b[0mprint\u001b[0m\u001b[1;33m(\u001b[0m\u001b[0madd\u001b[0m\u001b[1;33m(\u001b[0m\u001b[0mx\u001b[0m\u001b[1;33m)\u001b[0m\u001b[1;33m)\u001b[0m \u001b[1;31m# Function Calling - no. of args passed < no. of required args\u001b[0m\u001b[1;33m\u001b[0m\u001b[1;33m\u001b[0m\u001b[0m\n\u001b[0m",
      "\u001b[1;31mTypeError\u001b[0m: add() missing 1 required positional argument: 'b'"
     ]
    }
   ],
   "source": [
    "#Example\n",
    "# Example \n",
    "def add(a, b): # Function Definition - no. of required arguments\n",
    "    return a+b # returns the sum\n",
    "x = int(input())\n",
    "y = int(input())\n",
    "print(add(x)) # Function Calling - no. of args passed < no. of required args"
   ]
  },
  {
   "cell_type": "markdown",
   "metadata": {},
   "source": [
    "#### 2. Keyword arguments (kwargs):\n",
    "These arguments are not positional but are required."
   ]
  },
  {
   "cell_type": "code",
   "execution_count": 20,
   "metadata": {},
   "outputs": [
    {
     "name": "stdin",
     "output_type": "stream",
     "text": [
      " 10\n",
      " 23\n"
     ]
    },
    {
     "name": "stdout",
     "output_type": "stream",
     "text": [
      "23 10\n",
      "33\n"
     ]
    }
   ],
   "source": [
    "# Example 2\n",
    "def add(a, b): # Function Definition - Parameters\n",
    "    print(a, b)\n",
    "    return a+b # returns the sum\n",
    "x = int(input())\n",
    "y = int(input())\n",
    "print(add(b = x, a = y)) # Function Calling - Keywords are names of params used in definition\n",
    "# Input: 10\n",
    "# 23"
   ]
  },
  {
   "cell_type": "markdown",
   "metadata": {},
   "source": [
    "#### 3. Default arguments:\n",
    "Arguments which are optional. They have values by default."
   ]
  },
  {
   "cell_type": "code",
   "execution_count": 31,
   "metadata": {},
   "outputs": [
    {
     "name": "stdin",
     "output_type": "stream",
     "text": [
      " 12\n",
      " 23\n"
     ]
    },
    {
     "name": "stdout",
     "output_type": "stream",
     "text": [
      "B given\n",
      "12 23\n",
      "35\n",
      "\n",
      "B not given default = 0\n",
      "12 0\n",
      "12\n"
     ]
    }
   ],
   "source": [
    "#Example \n",
    "def add(a, b = 0): # Function Definition - b is default args\n",
    "    print(a, b)\n",
    "    return a+b # returns the sum\n",
    "x = int(input())\n",
    "y = int(input())\n",
    "\n",
    "# b given in function call\n",
    "print('B given')\n",
    "print(add(x, y)) # Function Calling\n",
    "\n",
    "print()\n",
    "\n",
    "# b not given in function call\n",
    "print('B not given default = 0')\n",
    "print(add(x)) # Function Calling\n",
    "\n",
    "# Input: 12\n",
    "# 23"
   ]
  },
  {
   "cell_type": "markdown",
   "metadata": {},
   "source": [
    "### Defining or indicating the difference in the type of args:\n",
    "From python 3.8, '/' is used to Separate positional args from non positional."
   ]
  },
  {
   "cell_type": "code",
   "execution_count": 32,
   "metadata": {},
   "outputs": [
    {
     "name": "stdin",
     "output_type": "stream",
     "text": [
      " 10\n",
      " 23\n"
     ]
    },
    {
     "name": "stdout",
     "output_type": "stream",
     "text": [
      "10\n"
     ]
    }
   ],
   "source": [
    "# Example \n",
    "def add(a, /, b=0): # Function Definition\n",
    "    return a+b # returns the sum\n",
    "x = int(input())\n",
    "y = int(input())\n",
    "print(add(x)) # Function Calling \n",
    "# Input: 10\n",
    "# 23"
   ]
  },
  {
   "cell_type": "markdown",
   "metadata": {},
   "source": [
    "#### 4. Variable Length Arguments:\n",
    "Args that are used when the number of arguments is not known.\n",
    "The arguments passed are stored as a tuple. The arguments that start with ' * ' indicate Variable length arguments and are called **gather**"
   ]
  },
  {
   "cell_type": "code",
   "execution_count": 34,
   "metadata": {},
   "outputs": [
    {
     "name": "stdin",
     "output_type": "stream",
     "text": [
      " 10\n",
      " 23\n"
     ]
    },
    {
     "name": "stdout",
     "output_type": "stream",
     "text": [
      "(23,)\n",
      "33\n",
      "\n",
      "(23, 10)\n",
      "43\n",
      "\n",
      "(23, 10, 20)\n",
      "63\n"
     ]
    }
   ],
   "source": [
    "#Example\n",
    "# Example \n",
    "def add(a, *b): # Function Definition -  * incicates variable length arguments\n",
    "    print(b)\n",
    "    return a + sum(b) # returns the sum; sum is a built in function that returns sum of elements in an iterable\n",
    "x = int(input())\n",
    "y = int(input())\n",
    "# 2 arguments\n",
    "print(add(x, y))\n",
    "print()\n",
    "# 3 args\n",
    "print(add(x, y, 10))\n",
    "print()\n",
    "# 4 args\n",
    "print(add(x, y, 10, 20)) # Function Calling - no. of args passed\n",
    "\n",
    "# Input: 10\n",
    "# 23"
   ]
  },
  {
   "cell_type": "markdown",
   "metadata": {},
   "source": [
    "#### Types:\n",
    "1. *args\n",
    "2. **kwargs\n",
    "\n",
    "#### 1. &#42;args:\n",
    "Variable length arguements that are most commonly used. Stores the values as tuple\n",
    "\n",
    "#### 2. &#42;&#42;kwargs:\n",
    "Variable length arguments of the form key = value. Stores the values as key-value mapping or dictionary."
   ]
  },
  {
   "cell_type": "markdown",
   "metadata": {},
   "source": [
    "### Scope of variable:\n",
    "The part of code where a variable can be accessed.\n",
    "Scopes: \n",
    "1. Global Variable\n",
    "2. Local Variable\n",
    "\n",
    "### 1. Global Variable:\n",
    "Variable that can be acessed in any part of the program.\n",
    "\n",
    "### 2. Local Variable:\n",
    "Variable that can be accessed only inside a specific block or part of a program."
   ]
  },
  {
   "cell_type": "code",
   "execution_count": 2,
   "metadata": {},
   "outputs": [
    {
     "name": "stdin",
     "output_type": "stream",
     "text": [
      "x: 10\n",
      "y: 23\n"
     ]
    },
    {
     "name": "stdout",
     "output_type": "stream",
     "text": [
      "33\n",
      "Hello\n",
      "Hello\n",
      "Hello\n",
      "Hello\n",
      "Hello\n",
      "Hello\n",
      "10 23 10 -100\n"
     ]
    },
    {
     "ename": "NameError",
     "evalue": "name 'c' is not defined",
     "output_type": "error",
     "traceback": [
      "\u001b[1;31m---------------------------------------------------------------------------\u001b[0m",
      "\u001b[1;31mNameError\u001b[0m                                 Traceback (most recent call last)",
      "\u001b[1;32m<ipython-input-2-2716aba99fc1>\u001b[0m in \u001b[0;36m<module>\u001b[1;34m\u001b[0m\n\u001b[0;32m     18\u001b[0m     \u001b[0mprint\u001b[0m\u001b[1;33m(\u001b[0m\u001b[0mk\u001b[0m\u001b[1;33m)\u001b[0m\u001b[1;33m\u001b[0m\u001b[1;33m\u001b[0m\u001b[0m\n\u001b[0;32m     19\u001b[0m \u001b[0mprint\u001b[0m\u001b[1;33m(\u001b[0m\u001b[0mx\u001b[0m\u001b[1;33m,\u001b[0m\u001b[0my\u001b[0m\u001b[1;33m,\u001b[0m\u001b[0ms\u001b[0m\u001b[1;33m,\u001b[0m\u001b[0mz\u001b[0m\u001b[1;33m)\u001b[0m\u001b[1;33m\u001b[0m\u001b[1;33m\u001b[0m\u001b[0m\n\u001b[1;32m---> 20\u001b[1;33m \u001b[0mprint\u001b[0m\u001b[1;33m(\u001b[0m\u001b[0mc\u001b[0m\u001b[1;33m)\u001b[0m\u001b[1;33m\u001b[0m\u001b[1;33m\u001b[0m\u001b[0m\n\u001b[0m\u001b[0;32m     21\u001b[0m \u001b[0mprintf\u001b[0m\u001b[1;33m(\u001b[0m\u001b[1;33m)\u001b[0m\u001b[1;33m\u001b[0m\u001b[1;33m\u001b[0m\u001b[0m\n\u001b[0;32m     22\u001b[0m \u001b[0mprint\u001b[0m\u001b[1;33m(\u001b[0m\u001b[0mk\u001b[0m\u001b[1;33m)\u001b[0m\u001b[1;33m\u001b[0m\u001b[1;33m\u001b[0m\u001b[0m\n",
      "\u001b[1;31mNameError\u001b[0m: name 'c' is not defined"
     ]
    }
   ],
   "source": [
    "#Example\n",
    "def add(a, b): \n",
    "    c = a+b\n",
    "    print(c)\n",
    "    #return a+b\n",
    "\n",
    "def printf():\n",
    "    print(k)\n",
    "\n",
    "x = int(input('x:'))\n",
    "y = int(input('y:'))\n",
    "add(x,y)\n",
    "print('Hello')\n",
    "s = 10\n",
    "z = -100\n",
    "for i in range(5):\n",
    "    k = 'Hello'\n",
    "    print(k)\n",
    "print(x,y,s,z)\n",
    "print(c)\n",
    "printf()\n",
    "print(k)\n",
    "\n",
    "# Input:\n",
    "# 10\n",
    "# 23"
   ]
  },
  {
   "cell_type": "code",
   "execution_count": 13,
   "metadata": {},
   "outputs": [
    {
     "name": "stdout",
     "output_type": "stream",
     "text": [
      "Hello\n",
      "Hello\n",
      "Hello\n",
      "Hello\n",
      "Hello\n",
      "Hi\n",
      "Hi\n"
     ]
    }
   ],
   "source": [
    "def printf(): # Function definition\n",
    "    global k\n",
    "    k = 'Hi' #Local Variable Gloablized\n",
    "    print(k)\n",
    "\n",
    "for i in range(5):\n",
    "    k = 'Hello' # Global Variable\n",
    "    print(k) \n",
    "\n",
    "printf()\n",
    "print(k)"
   ]
  },
  {
   "cell_type": "markdown",
   "metadata": {},
   "source": [
    "### Docstrings in Function:\n",
    "Docstrings are most commonly used in a function.\n",
    "They act as descriptor of function, i.e., they describe the function.\n",
    "\n",
    "Calling docstings:\n",
    "*function_name.&#95;&#95;doc&#95;&#95;*"
   ]
  },
  {
   "cell_type": "code",
   "execution_count": 1,
   "metadata": {},
   "outputs": [
    {
     "name": "stdout",
     "output_type": "stream",
     "text": [
      "This is a docstring\n"
     ]
    }
   ],
   "source": [
    "def fn():\n",
    "    '''This is a docstring'''\n",
    "print(fn.__doc__) # Calls docstring"
   ]
  },
  {
   "cell_type": "markdown",
   "metadata": {},
   "source": [
    "## Recursion vs Iteration:\n",
    "\n",
    "Recursion involves calling function repeatedly to breakdown a problem.  \n",
    "Iteration is solving the problem by breaking down using loops.\n",
    "\n",
    "Recursion is a easy way to solve a problem. But it is a bit time consuming.\n",
    "Iteration is hard coding but is efficient in solving the problems.\n",
    "\n",
    "This brings in a new programming stream called Dynamic Programming."
   ]
  },
  {
   "cell_type": "markdown",
   "metadata": {},
   "source": []
  },
  {
   "cell_type": "markdown",
   "metadata": {},
   "source": [
    "### Functions seen so far:\n",
    "1. print\n",
    "2. input\n",
    "3. int\n",
    "4. float"
   ]
  },
  {
   "cell_type": "markdown",
   "metadata": {},
   "source": [
    "### 1. print:  \n",
    "Syntax:\n",
    "`print(values, [end=”\\n”, sep=” ”])`"
   ]
  },
  {
   "cell_type": "code",
   "execution_count": 3,
   "metadata": {},
   "outputs": [
    {
     "name": "stdout",
     "output_type": "stream",
     "text": [
      "123\n"
     ]
    }
   ],
   "source": [
    "print(1,2,3, sep = \"\") # no separation between the values"
   ]
  },
  {
   "cell_type": "code",
   "execution_count": 4,
   "metadata": {},
   "outputs": [
    {
     "name": "stdout",
     "output_type": "stream",
     "text": [
      "1 2 3\n"
     ]
    }
   ],
   "source": [
    "print(1,2,3)"
   ]
  },
  {
   "cell_type": "code",
   "execution_count": 5,
   "metadata": {},
   "outputs": [
    {
     "name": "stdout",
     "output_type": "stream",
     "text": [
      "1\t2\t3\n"
     ]
    }
   ],
   "source": [
    "print(1,2,3, sep = '\\t')"
   ]
  },
  {
   "cell_type": "code",
   "execution_count": 6,
   "metadata": {},
   "outputs": [
    {
     "name": "stdout",
     "output_type": "stream",
     "text": [
      "1 2 3\n",
      "4 5\n"
     ]
    }
   ],
   "source": [
    "print(1,2,3)\n",
    "print(4,5)"
   ]
  },
  {
   "cell_type": "code",
   "execution_count": 7,
   "metadata": {},
   "outputs": [
    {
     "name": "stdout",
     "output_type": "stream",
     "text": [
      "1 2 34 5\n"
     ]
    }
   ],
   "source": [
    "print(1,2,3, end='')# end of print is <none>\n",
    "print(4,5)"
   ]
  },
  {
   "cell_type": "code",
   "execution_count": 8,
   "metadata": {},
   "outputs": [
    {
     "name": "stdout",
     "output_type": "stream",
     "text": [
      "1 2 3 4 5\n"
     ]
    }
   ],
   "source": [
    "print(1,2,3, end=' ') # end of print is <space>\n",
    "print(4,5)"
   ]
  },
  {
   "cell_type": "markdown",
   "metadata": {},
   "source": [
    "### 2. input:\n",
    "Syntax: `input(prompt=\"\")`"
   ]
  },
  {
   "cell_type": "code",
   "execution_count": 10,
   "metadata": {},
   "outputs": [
    {
     "name": "stdin",
     "output_type": "stream",
     "text": [
      " 20\n"
     ]
    }
   ],
   "source": [
    "n = input()\n",
    "\n",
    "# Input: 20"
   ]
  },
  {
   "cell_type": "code",
   "execution_count": 12,
   "metadata": {},
   "outputs": [
    {
     "name": "stdin",
     "output_type": "stream",
     "text": [
      "Prompt 10\n"
     ]
    }
   ],
   "source": [
    "a = input(prompt = 'Prompt')\n",
    "\n",
    "# Input: 10"
   ]
  },
  {
   "cell_type": "markdown",
   "metadata": {},
   "source": [
    "### 3. int:\n",
    "Syntax: `int(x, base = 10)`"
   ]
  },
  {
   "cell_type": "code",
   "execution_count": 13,
   "metadata": {},
   "outputs": [
    {
     "data": {
      "text/plain": [
       "10"
      ]
     },
     "execution_count": 13,
     "metadata": {},
     "output_type": "execute_result"
    }
   ],
   "source": [
    "int('10')"
   ]
  },
  {
   "cell_type": "code",
   "execution_count": 14,
   "metadata": {},
   "outputs": [
    {
     "data": {
      "text/plain": [
       "6"
      ]
     },
     "execution_count": 14,
     "metadata": {},
     "output_type": "execute_result"
    }
   ],
   "source": [
    "b = '110'\n",
    "int(b, 2)"
   ]
  },
  {
   "cell_type": "code",
   "execution_count": 15,
   "metadata": {},
   "outputs": [
    {
     "data": {
      "text/plain": [
       "1967"
      ]
     },
     "execution_count": 15,
     "metadata": {},
     "output_type": "execute_result"
    }
   ],
   "source": [
    "x = '7af'\n",
    "int(x, 16)"
   ]
  },
  {
   "cell_type": "code",
   "execution_count": 17,
   "metadata": {},
   "outputs": [
    {
     "data": {
      "text/plain": [
       "61"
      ]
     },
     "execution_count": 17,
     "metadata": {},
     "output_type": "execute_result"
    }
   ],
   "source": [
    "o = '75'\n",
    "int(o, 8)"
   ]
  },
  {
   "cell_type": "markdown",
   "metadata": {},
   "source": [
    "### 4. float:\n",
    "Syntax: `float(x = 0)`"
   ]
  },
  {
   "cell_type": "code",
   "execution_count": 20,
   "metadata": {},
   "outputs": [
    {
     "data": {
      "text/plain": [
       "0.0"
      ]
     },
     "execution_count": 20,
     "metadata": {},
     "output_type": "execute_result"
    }
   ],
   "source": [
    "float()"
   ]
  },
  {
   "cell_type": "code",
   "execution_count": 21,
   "metadata": {},
   "outputs": [
    {
     "data": {
      "text/plain": [
       "1.2"
      ]
     },
     "execution_count": 21,
     "metadata": {},
     "output_type": "execute_result"
    }
   ],
   "source": [
    "float ('1.2')"
   ]
  },
  {
   "cell_type": "code",
   "execution_count": 22,
   "metadata": {},
   "outputs": [
    {
     "data": {
      "text/plain": [
       "1.0"
      ]
     },
     "execution_count": 22,
     "metadata": {},
     "output_type": "execute_result"
    }
   ],
   "source": [
    "float(1)"
   ]
  },
  {
   "cell_type": "code",
   "execution_count": 24,
   "metadata": {},
   "outputs": [
    {
     "data": {
      "text/plain": [
       "12.0"
      ]
     },
     "execution_count": 24,
     "metadata": {},
     "output_type": "execute_result"
    }
   ],
   "source": [
    "float('12') "
   ]
  },
  {
   "cell_type": "markdown",
   "metadata": {},
   "source": [
    "## Multiple Functions with same name:\n",
    "\n",
    "Python does not allows multiple functions with different parameters with same name. If so exist, the last function definition replaces the first."
   ]
  },
  {
   "cell_type": "code",
   "execution_count": 25,
   "metadata": {},
   "outputs": [
    {
     "ename": "TypeError",
     "evalue": "fn() missing 2 required positional arguments: 'x' and 'y'",
     "output_type": "error",
     "traceback": [
      "\u001b[1;31m---------------------------------------------------------------------------\u001b[0m",
      "\u001b[1;31mTypeError\u001b[0m                                 Traceback (most recent call last)",
      "\u001b[1;32m<ipython-input-25-1b56bd1f0423>\u001b[0m in \u001b[0;36m<module>\u001b[1;34m\u001b[0m\n\u001b[0;32m      3\u001b[0m \u001b[1;32mdef\u001b[0m \u001b[0mfn\u001b[0m\u001b[1;33m(\u001b[0m\u001b[0mx\u001b[0m\u001b[1;33m,\u001b[0m\u001b[0my\u001b[0m\u001b[1;33m)\u001b[0m\u001b[1;33m:\u001b[0m\u001b[1;33m\u001b[0m\u001b[1;33m\u001b[0m\u001b[0m\n\u001b[0;32m      4\u001b[0m     \u001b[1;32mreturn\u001b[0m \u001b[0mx\u001b[0m\u001b[1;33m+\u001b[0m\u001b[0my\u001b[0m\u001b[1;33m\u001b[0m\u001b[1;33m\u001b[0m\u001b[0m\n\u001b[1;32m----> 5\u001b[1;33m \u001b[0mprint\u001b[0m\u001b[1;33m(\u001b[0m\u001b[0mfn\u001b[0m\u001b[1;33m(\u001b[0m\u001b[1;33m)\u001b[0m\u001b[1;33m)\u001b[0m\u001b[1;33m\u001b[0m\u001b[1;33m\u001b[0m\u001b[0m\n\u001b[0m\u001b[0;32m      6\u001b[0m \u001b[0mprint\u001b[0m\u001b[1;33m(\u001b[0m\u001b[0mfn\u001b[0m\u001b[1;33m(\u001b[0m\u001b[1;36m10\u001b[0m\u001b[1;33m,\u001b[0m \u001b[1;36m5\u001b[0m\u001b[1;33m)\u001b[0m\u001b[1;33m)\u001b[0m\u001b[1;33m\u001b[0m\u001b[1;33m\u001b[0m\u001b[0m\n",
      "\u001b[1;31mTypeError\u001b[0m: fn() missing 2 required positional arguments: 'x' and 'y'"
     ]
    }
   ],
   "source": [
    "def fn():\n",
    "    return 'Hi'\n",
    "def fn(x,y):\n",
    "    return x+y\n",
    "print(fn())\n",
    "print(fn(10, 5))"
   ]
  },
  {
   "cell_type": "markdown",
   "metadata": {},
   "source": [
    "## Gather vs Scatter:\n",
    "Argument given to var. args are gathered and stored together to form a tuple. This is called gather.\n",
    "\n",
    "Argument given as a list/tuple is split across required variable. This is called scatter"
   ]
  }
 ],
 "metadata": {
  "kernelspec": {
   "display_name": "Python 3",
   "language": "python",
   "name": "python3"
  },
  "language_info": {
   "codemirror_mode": {
    "name": "ipython",
    "version": 3
   },
   "file_extension": ".py",
   "mimetype": "text/x-python",
   "name": "python",
   "nbconvert_exporter": "python",
   "pygments_lexer": "ipython3",
   "version": "3.8.6"
  }
 },
 "nbformat": 4,
 "nbformat_minor": 4
}
