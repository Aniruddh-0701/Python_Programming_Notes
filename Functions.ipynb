{
 "cells": [
  {
   "cell_type": "markdown",
   "metadata": {},
   "source": [
    "## Functions in Python:\n",
    "Function is a set of organized lines of code that performs a specific, well defined task.\n",
    "\n",
    "It is used reduce the number of lines of code and improve reusability."
   ]
  },
  {
   "cell_type": "markdown",
   "metadata": {},
   "source": [
    "Syntax:  \n",
    "*def* function_name(parameters): => function definition  \n",
    "&nbsp; &nbsp; &nbsp;Statements  \n",
    "&nbsp; &nbsp; &nbsp; *return* value(s)\n",
    "\n",
    "...  \n",
    "...  \n",
    "function_name(parameters) => Caller"
   ]
  },
  {
   "cell_type": "markdown",
   "metadata": {},
   "source": [
    "#### Return statement:(*return*)\n",
    "Returns back a value as specified. It marks the end of a function\n"
   ]
  },
  {
   "cell_type": "markdown",
   "metadata": {},
   "source": [
    "## Fruitful function\n",
    "A fruitful function is a function that returns a value"
   ]
  },
  {
   "cell_type": "code",
   "execution_count": 4,
   "metadata": {},
   "outputs": [
    {
     "name": "stdin",
     "output_type": "stream",
     "text": [
      " 12\n",
      " 13\n"
     ]
    },
    {
     "name": "stdout",
     "output_type": "stream",
     "text": [
      "25\n"
     ]
    }
   ],
   "source": [
    "# Example 1:\n",
    "def add(a, b): # Function Definition\n",
    "    return a+b # returns the sum\n",
    "x = int(input())\n",
    "y = int(input())\n",
    "print(add(x, y)) # Function Calling"
   ]
  },
  {
   "cell_type": "markdown",
   "metadata": {},
   "source": [
    "## Lambda function (Inline or Anonymous function):\n",
    "One liner of a function\n",
    "\n",
    "Syntax:  \n",
    "*lambda* parameters: Statement\n"
   ]
  },
  {
   "cell_type": "code",
   "execution_count": 6,
   "metadata": {},
   "outputs": [
    {
     "name": "stdin",
     "output_type": "stream",
     "text": [
      " 10\n"
     ]
    },
    {
     "name": "stdout",
     "output_type": "stream",
     "text": [
      "True\n"
     ]
    }
   ],
   "source": [
    "# Example 1\n",
    "# def c(x):\n",
    "#     return x % 2 == 0 #One line function\n",
    "a = int(input())\n",
    "c = lambda x: x % 2 == 0 # Equivalent lambda function\n",
    "print(c(a))"
   ]
  },
  {
   "cell_type": "markdown",
   "metadata": {},
   "source": [
    "## Recursion:\n",
    "Recursion is a method of solving a problem where the solution depends on solutions to smaller instances of the same problem.\n",
    "\n",
    "## Recursive function:\n",
    "A function that performs recursion.\n",
    "\n",
    "A recursive function calls itself repeatedly by dividing the problem into sub problems until the solution is obtained for the smallest sub-problem.\n",
    "\n",
    ">*def* function(paramters1):  \n",
    "&nbsp;&nbsp;&nbsp; function(parameters2)"
   ]
  },
  {
   "cell_type": "code",
   "execution_count": 14,
   "metadata": {},
   "outputs": [
    {
     "name": "stdin",
     "output_type": "stream",
     "text": [
      " 6\n"
     ]
    },
    {
     "name": "stdout",
     "output_type": "stream",
     "text": [
      "720\n"
     ]
    }
   ],
   "source": [
    "# Example using factorial\n",
    "def factorial(n):\n",
    "    if -1<n<=1: return 1\n",
    "    else: return n*factorial(n-1)\n",
    "\n",
    "n = int(input())\n",
    "print(factorial(n))"
   ]
  },
  {
   "cell_type": "markdown",
   "metadata": {},
   "source": [
    "Breaking down of problem:\n",
    "\n",
    "n = 6  \n",
    "n <= 1 False  \n",
    "6 * factorial(5)  \n",
    "\n",
    "n = 5  \n",
    "n <= 1 False  \n",
    "5 * factorial(4)  \n",
    "\n",
    "n = 4  \n",
    "n <= 1 False  \n",
    "4 * factorial(3)  \n",
    "\n",
    "n = 3  \n",
    "n <= 1 False  \n",
    "3 * factorial(2)  \n",
    "\n",
    "n = 2  \n",
    "n <= 1 False  \n",
    "2 * factorial(1)  \n",
    "\n",
    "n = 1  \n",
    "n <= 1 (n==1) True  \n",
    "1\n",
    "\n",
    "Building up:\n",
    "\n",
    "1 <br>\n",
    "2 * 1  \n",
    "3 * 2 * 1  \n",
    "4 * 3 * 2 * 1  \n",
    "5 * 4 * 3 * 2 * 1  \n",
    "6 * 5 * 4 * 3 * 2 * 1  \n",
    "\n",
    "720"
   ]
  },
  {
   "cell_type": "markdown",
   "metadata": {},
   "source": [
    "#### Function Arguments or Parameters: (args or params)\n",
    "Values passed into a function. They are optional\n",
    "##### Types:  \n",
    "1. Required Arguments\n",
    "2. Keyword Arguements\n",
    "3. Default Arguments\n",
    "4. Variable length Arguments\n"
   ]
  },
  {
   "cell_type": "markdown",
   "metadata": {},
   "source": [
    "#### 1. Required Arguments:\n",
    "\n",
    "Positional Arguements.\n",
    "These are arguements required to execute a function.  \n",
    "The number of required arguements should be equal to the number of arguements passed.\n",
    "If not, it will result in error"
   ]
  },
  {
   "cell_type": "code",
   "execution_count": 29,
   "metadata": {},
   "outputs": [
    {
     "name": "stdin",
     "output_type": "stream",
     "text": [
      " 12\n",
      " 23\n"
     ]
    },
    {
     "name": "stdout",
     "output_type": "stream",
     "text": [
      "35\n"
     ]
    }
   ],
   "source": [
    "# Example \n",
    "def add(a, b): # Function Definition - no. of required arguements\n",
    "    return a+b # returns the sum\n",
    "x = int(input())\n",
    "y = int(input())\n",
    "print(add(x, y)) # Function Calling - no. of args passed"
   ]
  },
  {
   "cell_type": "code",
   "execution_count": 30,
   "metadata": {},
   "outputs": [
    {
     "name": "stdin",
     "output_type": "stream",
     "text": [
      " 10\n",
      " 23\n"
     ]
    },
    {
     "ename": "TypeError",
     "evalue": "add() missing 1 required positional argument: 'b'",
     "output_type": "error",
     "traceback": [
      "\u001b[1;31m---------------------------------------------------------------------------\u001b[0m",
      "\u001b[1;31mTypeError\u001b[0m                                 Traceback (most recent call last)",
      "\u001b[1;32m<ipython-input-30-34688768ab06>\u001b[0m in \u001b[0;36m<module>\u001b[1;34m\u001b[0m\n\u001b[0;32m      5\u001b[0m \u001b[0mx\u001b[0m \u001b[1;33m=\u001b[0m \u001b[0mint\u001b[0m\u001b[1;33m(\u001b[0m\u001b[0minput\u001b[0m\u001b[1;33m(\u001b[0m\u001b[1;33m)\u001b[0m\u001b[1;33m)\u001b[0m\u001b[1;33m\u001b[0m\u001b[1;33m\u001b[0m\u001b[0m\n\u001b[0;32m      6\u001b[0m \u001b[0my\u001b[0m \u001b[1;33m=\u001b[0m \u001b[0mint\u001b[0m\u001b[1;33m(\u001b[0m\u001b[0minput\u001b[0m\u001b[1;33m(\u001b[0m\u001b[1;33m)\u001b[0m\u001b[1;33m)\u001b[0m\u001b[1;33m\u001b[0m\u001b[1;33m\u001b[0m\u001b[0m\n\u001b[1;32m----> 7\u001b[1;33m \u001b[0mprint\u001b[0m\u001b[1;33m(\u001b[0m\u001b[0madd\u001b[0m\u001b[1;33m(\u001b[0m\u001b[0mx\u001b[0m\u001b[1;33m)\u001b[0m\u001b[1;33m)\u001b[0m \u001b[1;31m# Function Calling - no. of args passed < no. of required args\u001b[0m\u001b[1;33m\u001b[0m\u001b[1;33m\u001b[0m\u001b[0m\n\u001b[0m",
      "\u001b[1;31mTypeError\u001b[0m: add() missing 1 required positional argument: 'b'"
     ]
    }
   ],
   "source": [
    "#Example\n",
    "# Example \n",
    "def add(a, b): # Function Definition - no. of required arguements\n",
    "    return a+b # returns the sum\n",
    "x = int(input())\n",
    "y = int(input())\n",
    "print(add(x)) # Function Calling - no. of args passed < no. of required args"
   ]
  },
  {
   "cell_type": "markdown",
   "metadata": {},
   "source": [
    "#### 2. Keyword arguements (kwargs):\n",
    "These arguements are not positional but are required."
   ]
  },
  {
   "cell_type": "code",
   "execution_count": 20,
   "metadata": {},
   "outputs": [
    {
     "name": "stdin",
     "output_type": "stream",
     "text": [
      " 10\n",
      " 23\n"
     ]
    },
    {
     "name": "stdout",
     "output_type": "stream",
     "text": [
      "23 10\n",
      "33\n"
     ]
    }
   ],
   "source": [
    "# Example 2\n",
    "def add(a, b): # Function Definition - Parameters\n",
    "    print(a, b)\n",
    "    return a+b # returns the sum\n",
    "x = int(input())\n",
    "y = int(input())\n",
    "print(add(b = x, a = y)) # Function Calling - Keywords are names of params used in definition"
   ]
  },
  {
   "cell_type": "markdown",
   "metadata": {},
   "source": [
    "#### 3. Default arguements:\n",
    "Arguements which are optional. They have values by default."
   ]
  },
  {
   "cell_type": "code",
   "execution_count": 31,
   "metadata": {},
   "outputs": [
    {
     "name": "stdin",
     "output_type": "stream",
     "text": [
      " 12\n",
      " 23\n"
     ]
    },
    {
     "name": "stdout",
     "output_type": "stream",
     "text": [
      "B given\n",
      "12 23\n",
      "35\n",
      "\n",
      "B not given default = 0\n",
      "12 0\n",
      "12\n"
     ]
    }
   ],
   "source": [
    "#Example \n",
    "def add(a, b = 0): # Function Definition - b is default args\n",
    "    print(a, b)\n",
    "    return a+b # returns the sum\n",
    "x = int(input())\n",
    "y = int(input())\n",
    "\n",
    "# b given in function call\n",
    "print('B given')\n",
    "print(add(x, y)) # Function Calling\n",
    "\n",
    "print()\n",
    "\n",
    "# b not given in function call\n",
    "print('B not given default = 0')\n",
    "print(add(x)) # Function Calling"
   ]
  },
  {
   "cell_type": "markdown",
   "metadata": {},
   "source": [
    "### Defining or indicating the difference in the type of args:\n",
    "From python 3.8, '/' is used to Separate positional args from non positional."
   ]
  },
  {
   "cell_type": "code",
   "execution_count": 32,
   "metadata": {},
   "outputs": [
    {
     "name": "stdin",
     "output_type": "stream",
     "text": [
      " 10\n",
      " 23\n"
     ]
    },
    {
     "name": "stdout",
     "output_type": "stream",
     "text": [
      "10\n"
     ]
    }
   ],
   "source": [
    "# Example \n",
    "def add(a, /, b=0): # Function Definition\n",
    "    return a+b # returns the sum\n",
    "x = int(input())\n",
    "y = int(input())\n",
    "print(add(x)) # Function Calling "
   ]
  },
  {
   "cell_type": "markdown",
   "metadata": {},
   "source": [
    "#### 4. Variable Length Arguements:\n",
    "Args that are used when the number of arguements is not known.\n",
    "The arguements passed are stored as a tuple."
   ]
  },
  {
   "cell_type": "code",
   "execution_count": 34,
   "metadata": {},
   "outputs": [
    {
     "name": "stdin",
     "output_type": "stream",
     "text": [
      " 10\n",
      " 23\n"
     ]
    },
    {
     "name": "stdout",
     "output_type": "stream",
     "text": [
      "(23,)\n",
      "33\n",
      "\n",
      "(23, 10)\n",
      "43\n",
      "\n",
      "(23, 10, 20)\n",
      "63\n"
     ]
    }
   ],
   "source": [
    "#Example\n",
    "# Example \n",
    "def add(a, *b): # Function Definition -  * incicates variable length arguements\n",
    "    print(b)\n",
    "    return a + sum(b) # returns the sum; sum is a built in function that returns sum of elements in an iterable\n",
    "x = int(input())\n",
    "y = int(input())\n",
    "# 2 arguments\n",
    "print(add(x, y))\n",
    "print()\n",
    "# 3 args\n",
    "print(add(x, y, 10))\n",
    "print()\n",
    "# 4 args\n",
    "print(add(x, y, 10, 20)) # Function Calling - no. of args passed"
   ]
  },
  {
   "cell_type": "markdown",
   "metadata": {},
   "source": [
    "### Scope of variable:\n",
    "The part of code where a variable can be accessed.\n",
    "Scopes: \n",
    "1. Global Variable\n",
    "2. Local Variable\n",
    "\n",
    "### 1. Global Variable:\n",
    "Variable that can be acessed in any part of the program.\n",
    "\n",
    "### 2. Local Variable:\n",
    "Variable that can be accessed only inside a specific block or part of a program."
   ]
  },
  {
   "cell_type": "code",
   "execution_count": 11,
   "metadata": {},
   "outputs": [
    {
     "name": "stdout",
     "output_type": "stream",
     "text": [
      "Hello\n",
      "Hello\n",
      "Hello\n",
      "Hello\n",
      "Hello\n",
      "Hi\n",
      "Hello\n"
     ]
    }
   ],
   "source": [
    "#Example\n",
    "def add(a, b): \n",
    "    c = a+b\n",
    "    print(c)\n",
    "    #return a+b\n",
    "\n",
    "def printf():\n",
    "    print(k)\n",
    "\n",
    "x = int(input('x:'))\n",
    "y = int(input('y:'))\n",
    "add(x,y)\n",
    "print('Hello')\n",
    "s = 10\n",
    "z = -100\n",
    "for i in range(5):\n",
    "    k = 'Hello'\n",
    "    print(k)\n",
    "print(x,y,s,z)\n",
    "print(c)\n",
    "printf()\n",
    "print(k)"
   ]
  },
  {
   "cell_type": "code",
   "execution_count": 13,
   "metadata": {},
   "outputs": [
    {
     "name": "stdout",
     "output_type": "stream",
     "text": [
      "Hello\n",
      "Hello\n",
      "Hello\n",
      "Hello\n",
      "Hello\n",
      "Hi\n",
      "Hi\n"
     ]
    }
   ],
   "source": [
    "def printf(): # Function definition\n",
    "    global k\n",
    "    k = 'Hi' #Local Variable Gloablized\n",
    "    print(k)\n",
    "\n",
    "for i in range(5):\n",
    "    k = 'Hello' # Global Variable\n",
    "    print(k) \n",
    "\n",
    "printf()\n",
    "print(k)"
   ]
  },
  {
   "cell_type": "markdown",
   "metadata": {},
   "source": [
    "### Docstrings in Function:"
   ]
  },
  {
   "cell_type": "code",
   "execution_count": null,
   "metadata": {},
   "outputs": [],
   "source": []
  }
 ],
 "metadata": {
  "kernelspec": {
   "display_name": "Python 3",
   "language": "python",
   "name": "python3"
  },
  "language_info": {
   "codemirror_mode": {
    "name": "ipython",
    "version": 3
   },
   "file_extension": ".py",
   "mimetype": "text/x-python",
   "name": "python",
   "nbconvert_exporter": "python",
   "pygments_lexer": "ipython3",
   "version": "3.8.6rc1"
  }
 },
 "nbformat": 4,
 "nbformat_minor": 4
}
