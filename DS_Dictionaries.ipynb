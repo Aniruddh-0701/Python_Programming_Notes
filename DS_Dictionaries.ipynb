{
 "cells": [
  {
   "cell_type": "markdown",
   "metadata": {},
   "source": [
    "# Data Structures or Derived data Types in Python:\n",
    "\n",
    "Storing multiple values of same or different types under a single name.\n",
    "They are collection of data.\n",
    "\n",
    "1. List\n",
    "2. Tuple\n",
    "3. String\n",
    "4. Dictionary\n",
    "5. Set  \n",
    "In this notebook, we'll discuss indepth on Dictionaries"
   ]
  },
  {
   "cell_type": "markdown",
   "metadata": {},
   "source": [
    "## Dictionary:\n",
    "Dictionaries are unordered collection of data.\n",
    "They are key-value mapping.  \n",
    "Represented by Curly braces '{ }'  \n",
    "`dictionary : {1:10, 2:20, 3:30, 4:'Hello', 5:-2.0}`\n",
    "\n",
    "|Keys| 1| 2| 3|4| 5|  \n",
    "|---|---|---|---|---|---|  \n",
    "|Values| 10| 20| 30| 40| 50|  "
   ]
  },
  {
   "cell_type": "markdown",
   "metadata": {},
   "source": [
    "## Defining a list:\n",
    "\n",
    "1. '{ }'\n",
    "2. dict()\n",
    "\n",
    "### 1. '{}'\n",
    "l = [10, 20, 30]\n",
    "### 2. dict()\n",
    "Syntax: `list(iterable = None)`  \n",
    "iterable: any data structures listed above  "
   ]
  }
 ],
 "metadata": {
  "kernelspec": {
   "display_name": "Python 3",
   "language": "python",
   "name": "python3"
  },
  "language_info": {
   "codemirror_mode": {
    "name": "ipython",
    "version": 3
   },
   "file_extension": ".py",
   "mimetype": "text/x-python",
   "name": "python",
   "nbconvert_exporter": "python",
   "pygments_lexer": "ipython3",
   "version": "3.8.6"
  }
 },
 "nbformat": 4,
 "nbformat_minor": 4
}
