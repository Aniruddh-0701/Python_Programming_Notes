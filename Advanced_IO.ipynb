{
 "cells": [
  {
   "cell_type": "markdown",
   "metadata": {},
   "source": [
    "# Some Indepth concepts on I/O:\n",
    "I/O - Input/Output.\n",
    "Input and Output are integral part of a program. This makes the program interactive (dynamic) and user friendly.\n",
    "\n",
    "Input conditions and values may vary depending on situation / constraints. So handling Inputs is important.\n"
   ]
  },
  {
   "cell_type": "markdown",
   "metadata": {},
   "source": [
    "## Variations:\n",
    "1. One line Input of multiple values"
   ]
  },
  {
   "cell_type": "markdown",
   "metadata": {},
   "source": [
    "### 1. One line input:\n",
    "Multiple values can be given in one line as input which needs to be processed differently. This brings in the need for a method to work with them.\n",
    "\n",
    "1. variable length input\n",
    "2. fixed type input"
   ]
  }
 ],
 "metadata": {
  "kernelspec": {
   "display_name": "Python 3",
   "language": "python",
   "name": "python3"
  },
  "language_info": {
   "codemirror_mode": {
    "name": "ipython",
    "version": 3
   },
   "file_extension": ".py",
   "mimetype": "text/x-python",
   "name": "python",
   "nbconvert_exporter": "python",
   "pygments_lexer": "ipython3",
   "version": "3.8.6"
  }
 },
 "nbformat": 4,
 "nbformat_minor": 4
}
