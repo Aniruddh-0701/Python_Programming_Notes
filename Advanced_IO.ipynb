{
 "cells": [
  {
   "cell_type": "markdown",
   "metadata": {},
   "source": [
    "# Some Indepth concepts on I/O:\n",
    "I/O - Input/Output.\n",
    "Input and Output are integral part of a program. This makes the program interactive (dynamic) and user friendly.\n",
    "\n",
    "Input conditions and values may vary depending on situation / constraints. So handling Inputs is important.\n"
   ]
  },
  {
   "cell_type": "markdown",
   "metadata": {},
   "source": [
    "## Variations:\n",
    "1. One line Input of multiple values"
   ]
  },
  {
   "cell_type": "markdown",
   "metadata": {},
   "source": [
    "### 1. One line input:\n",
    "Multiple values can be given in one line as input which needs to be processed differently. This brings in the need for a method to work with them.\n",
    "\n",
    "1. fixed type input\n",
    "2. variable length input\n",
    "\n",
    "Generally one line input uses multiple assignment by splitting the values down (or scattering) to the required variables.  \n",
    "*map* functions are used to assign a function or change the data type of the variables."
   ]
  },
  {
   "source": [
    "#### 1. Fixed type:\n",
    "In this type, the number of inputs in the line is fixed and known. A simple input statements has the required no. of variables in the LHS and input command with string splitting on the RHS.\n",
    "\n",
    "#### 2. Variable length type\n",
    "In this type, the number of inputs in the line is variable and only minimum count is known. A simple input statements has the required no. of variables with last variable working as gather variable (with * before its name) in the LHS and input command with string splitting on the RHS."
   ],
   "cell_type": "markdown",
   "metadata": {}
  },
  {
   "cell_type": "code",
   "execution_count": 2,
   "metadata": {},
   "outputs": [
    {
     "output_type": "stream",
     "name": "stdout",
     "text": [
      "Hi Hello\n"
     ]
    }
   ],
   "source": [
    "# Example for two inputs\n",
    "a, b = input().split()\n",
    "print(a, b)"
   ]
  }
 ],
 "metadata": {
  "kernelspec": {
   "name": "Python 3.8.6 64-bit",
   "display_name": "Python 3.8.6 64-bit",
   "metadata": {
    "interpreter": {
     "hash": "74718df1314853026bb0cce840d2c630e8ec111d58e1e1a520de7c3ec0bea69b"
    }
   }
  },
  "language_info": {
   "codemirror_mode": {
    "name": "ipython",
    "version": 3
   },
   "file_extension": ".py",
   "mimetype": "text/x-python",
   "name": "python",
   "nbconvert_exporter": "python",
   "pygments_lexer": "ipython3",
   "version": "3.8.6-final"
  }
 },
 "nbformat": 4,
 "nbformat_minor": 4
}