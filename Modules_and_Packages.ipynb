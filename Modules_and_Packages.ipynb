{
 "cells": [
  {
   "cell_type": "markdown",
   "metadata": {},
   "source": [
    "# Modules and Packages\n",
    "Modules are files that contain functions, constants or classes that can be used with redefining them. They're generally written in C, Python or C++.\n",
    "\n",
    "Packages are folders which conatin a number of modules or packages in them."
   ]
  },
  {
   "cell_type": "markdown",
   "metadata": {},
   "source": [
    "Few built-in Modules are:\n",
    "1. math\n",
    "2. cmath\n",
    "3. sys\n",
    "4. os\n",
    "5. itertools\n",
    "6. string"
   ]
  },
  {
   "cell_type": "markdown",
   "metadata": {},
   "source": [
    "The basics of working with module are discussed using a file *prime_gen.py*\n",
    "\n",
    "Code:  \n",
    ">from time import * <br>\n",
    "from itertools import *  <br>\n",
    "from math import * <br>\n",
    "<br>\n",
    "def prime_gen(n): <br> \n",
    "&nbsp;&nbsp;&nbsp;&nbsp; num = 2<br>\n",
    "&nbsp;&nbsp;&nbsp;&nbsp; while num <= n: <br>\n",
    "&nbsp;&nbsp;&nbsp;&nbsp;&nbsp;&nbsp;&nbsp;&nbsp; k = 2 <br>\n",
    "&nbsp;&nbsp;&nbsp;&nbsp;&nbsp;&nbsp;&nbsp;&nbsp; while k * k <= num: <br>\n",
    "&nbsp;&nbsp;&nbsp;&nbsp;&nbsp;&nbsp;&nbsp;&nbsp;&nbsp;&nbsp;&nbsp;&nbsp; if num % k == 0: <br>\n",
    "&nbsp;&nbsp;&nbsp;&nbsp;&nbsp;&nbsp;&nbsp;&nbsp;&nbsp;&nbsp;&nbsp;&nbsp;&nbsp;&nbsp;&nbsp;&nbsp; break <br>\n",
    "&nbsp;&nbsp;&nbsp;&nbsp;&nbsp;&nbsp;&nbsp;&nbsp;&nbsp;&nbsp;&nbsp;&nbsp; k += 1 <br>\n",
    "&nbsp;&nbsp;&nbsp;&nbsp;&nbsp;&nbsp;&nbsp;&nbsp; else: <br>\n",
    "&nbsp;&nbsp;&nbsp;&nbsp;&nbsp;&nbsp;&nbsp;&nbsp;&nbsp;&nbsp;&nbsp;&nbsp; yield num <br>\n",
    "&nbsp;&nbsp;&nbsp;&nbsp;&nbsp;&nbsp;&nbsp;&nbsp; num += 1 <br>\n",
    "<br>\n",
    "prime = 2 <br>\n",
    "prime_square = 4 <br>\n",
    "<br>\n",
    "if \\_\\_name\\_\\_ == '\\_\\_main\\_\\_': <br>\n",
    "&nbsp;&nbsp;&nbsp;&nbsp; t = time()<br>\n",
    "&nbsp;&nbsp;&nbsp;&nbsp; for i in prime_gen(10 ** 2):<br>\n",
    "&nbsp;&nbsp;&nbsp;&nbsp;&nbsp;&nbsp;&nbsp;&nbsp; print(i)<br>\n",
    "&nbsp;&nbsp;&nbsp;&nbsp; print(time()-t)\n",
    "\n",
    "Contents:\n",
    "1. prime_gen - function\n",
    "2. prime - varaiable (constant when imported)\n",
    "3. prime_square - variable (constant when imported)"
   ]
  },
  {
   "cell_type": "markdown",
   "metadata": {},
   "source": [
    "## import statement:\n",
    "The *import* keyword is used to import a module or package.\n",
    "\n",
    "Syntax: `import module_name`"
   ]
  },
  {
   "cell_type": "code",
   "execution_count": 1,
   "metadata": {},
   "outputs": [
    {
     "name": "stdout",
     "output_type": "stream",
     "text": [
      "2 3 5 7 11 13 17 19 "
     ]
    }
   ],
   "source": [
    "import prime_gen\n",
    "\n",
    "for i in prime_gen.prime_gen(20):\n",
    "    print(i, end=' ')"
   ]
  },
  {
   "cell_type": "markdown",
   "metadata": {},
   "source": [
    "## from statement:\n",
    "The *from* keyword is used to import a specific set of functions or classes from a module.\n",
    "\n",
    "Syntax: `from module_name import function_name`"
   ]
  },
  {
   "cell_type": "code",
   "execution_count": 2,
   "metadata": {},
   "outputs": [
    {
     "name": "stdout",
     "output_type": "stream",
     "text": [
      "2 3 5 7 11 13 17 19 "
     ]
    }
   ],
   "source": [
    "from prime_gen import prime_gen\n",
    "\n",
    "for i in prime_gen(20):\n",
    "    print(i, end=' ')"
   ]
  },
  {
   "cell_type": "markdown",
   "metadata": {},
   "source": [
    "## Importing all the objects from the module:\n",
    "To import all the functions or objects, use * .\n",
    "\n",
    "Syntax: `from module_name import *`"
   ]
  },
  {
   "cell_type": "code",
   "execution_count": 1,
   "metadata": {},
   "outputs": [
    {
     "name": "stdout",
     "output_type": "stream",
     "text": [
      "2 3 5 7 11 13 17 19 "
     ]
    }
   ],
   "source": [
    "from prime_gen import *\n",
    "\n",
    "for i in prime_gen.prime_gen(20):\n",
    "    print(i, end=' ')\n"
   ]
  },
  {
   "cell_type": "markdown",
   "metadata": {},
   "source": [
    "## **as** Keyword:\n",
    "*as* Keyword is used to have a custom name for imported module or function.\n",
    "\n",
    "Syntax:  \n",
    "`import moule_name as custom_name`  \n",
    "`from module_name import function_name as custom_name`"
   ]
  },
  {
   "cell_type": "code",
   "execution_count": 3,
   "metadata": {},
   "outputs": [
    {
     "name": "stdout",
     "output_type": "stream",
     "text": [
      "2 3 5 7 11 13 17 19 "
     ]
    }
   ],
   "source": [
    "import prime_gen as pg\n",
    "\n",
    "for i in pg.prime_gen(20):\n",
    "    print(i, end=' ')"
   ]
  },
  {
   "cell_type": "code",
   "execution_count": 4,
   "metadata": {},
   "outputs": [
    {
     "name": "stdout",
     "output_type": "stream",
     "text": [
      "2 3 5 7 11 13 17 19 "
     ]
    }
   ],
   "source": [
    "from prime_gen import prime_gen as pgf\n",
    "\n",
    "for i in pgf(20):\n",
    "    print(i, end=' ')"
   ]
  },
  {
   "cell_type": "markdown",
   "metadata": {},
   "source": [
    "## \\_\\_name\\_\\_ method:\n",
    "It returns the name of the module without the extension. If called for main executing program, it returns '\\_\\_main\\_\\_'\n",
    "\n",
    "Syntax: `module_name.__name__`"
   ]
  },
  {
   "cell_type": "code",
   "execution_count": 5,
   "metadata": {},
   "outputs": [
    {
     "name": "stdout",
     "output_type": "stream",
     "text": [
      "prime_gen\n",
      "__main__\n"
     ]
    }
   ],
   "source": [
    "import prime_gen\n",
    "\n",
    "print(prime_gen.__name__)\n",
    "print(__name__)"
   ]
  },
  {
   "cell_type": "code",
   "execution_count": null,
   "metadata": {},
   "outputs": [],
   "source": []
  }
 ],
 "metadata": {
  "kernelspec": {
   "display_name": "Python 3",
   "language": "python",
   "name": "python3"
  },
  "language_info": {
   "codemirror_mode": {
    "name": "ipython",
    "version": 3
   },
   "file_extension": ".py",
   "mimetype": "text/x-python",
   "name": "python",
   "nbconvert_exporter": "python",
   "pygments_lexer": "ipython3",
   "version": "3.8.6"
  }
 },
 "nbformat": 4,
 "nbformat_minor": 4
}
