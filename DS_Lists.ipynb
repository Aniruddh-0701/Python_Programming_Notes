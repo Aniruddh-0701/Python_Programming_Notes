{
 "cells": [
  {
   "cell_type": "markdown",
   "metadata": {},
   "source": [
    "# Data Structures or Derived data Types in Python:\n",
    "\n",
    "Storing multiple values of same or different types under a single name.\n",
    "They are collection of data.\n",
    "\n",
    "1. List\n",
    "2. Tuple\n",
    "3. String\n",
    "4. Dictionary\n",
    "5. Set  \n",
    "In this notebook, we'll discuss indepth on Lists"
   ]
  },
  {
   "cell_type": "markdown",
   "metadata": {},
   "source": [
    "## Lists:\n",
    "Lists are ordered collection of data.\n",
    "Represented by square brackets '[ ]'  \n",
    "`list : [10, 20, 30, 'Hello', -2.0]`\n",
    "\n",
    "Each value in the list is called a element  \n",
    "order of elements: index of element  \n",
    "Index - may be positive or negative  \n",
    "\n",
    "|Order (element) | First | Second | Third |...|Last|  \n",
    "|---|---|---|---|---|---|  \n",
    "|Positive Index| 0| 1| 2| ...| n-1|  \n",
    "|Negative Index| -n| -n+1| -n+2| ...| -1|  "
   ]
  },
  {
   "cell_type": "markdown",
   "metadata": {},
   "source": [
    "## Defining a list:\n",
    "\n",
    "1. '[ ]'\n",
    "2. list()\n",
    "\n",
    "### 1. '[ ]'\n",
    "l = [10, 20, 30]\n",
    "### 2. list()\n",
    "Syntax: `list(iterable = None)`  \n",
    "iterable: any data structures listed above  "
   ]
  },
  {
   "cell_type": "code",
   "execution_count": 1,
   "metadata": {},
   "outputs": [
    {
     "data": {
      "text/plain": [
       "list"
      ]
     },
     "execution_count": 1,
     "metadata": {},
     "output_type": "execute_result"
    }
   ],
   "source": [
    "l = [10, 'Hello', -3.9]\n",
    "type(l)"
   ]
  },
  {
   "cell_type": "code",
   "execution_count": 2,
   "metadata": {},
   "outputs": [
    {
     "data": {
      "text/plain": [
       "[]"
      ]
     },
     "execution_count": 2,
     "metadata": {},
     "output_type": "execute_result"
    }
   ],
   "source": [
    "list1 = list()\n",
    "list1"
   ]
  },
  {
   "cell_type": "code",
   "execution_count": 3,
   "metadata": {},
   "outputs": [
    {
     "ename": "TypeError",
     "evalue": "'int' object is not iterable",
     "output_type": "error",
     "traceback": [
      "\u001b[1;31m---------------------------------------------------------------------------\u001b[0m",
      "\u001b[1;31mTypeError\u001b[0m                                 Traceback (most recent call last)",
      "\u001b[1;32m<ipython-input-3-2f4d7a16774a>\u001b[0m in \u001b[0;36m<module>\u001b[1;34m\u001b[0m\n\u001b[1;32m----> 1\u001b[1;33m \u001b[0mlist2\u001b[0m \u001b[1;33m=\u001b[0m \u001b[0mlist\u001b[0m\u001b[1;33m(\u001b[0m\u001b[1;36m1\u001b[0m\u001b[1;33m)\u001b[0m\u001b[1;33m\u001b[0m\u001b[1;33m\u001b[0m\u001b[0m\n\u001b[0m",
      "\u001b[1;31mTypeError\u001b[0m: 'int' object is not iterable"
     ]
    }
   ],
   "source": [
    "list2 = list(1)"
   ]
  },
  {
   "cell_type": "markdown",
   "metadata": {},
   "source": [
    "### Getting list as input:\n",
    "list1 = list(input())  \n",
    "list1 = list(input().split())"
   ]
  },
  {
   "cell_type": "code",
   "execution_count": 4,
   "metadata": {},
   "outputs": [
    {
     "name": "stdin",
     "output_type": "stream",
     "text": [
      " Hello\n"
     ]
    },
    {
     "data": {
      "text/plain": [
       "['H', 'e', 'l', 'l', 'o']"
      ]
     },
     "execution_count": 4,
     "metadata": {},
     "output_type": "execute_result"
    }
   ],
   "source": [
    "list1 = list(input())\n",
    "list1\n",
    "\n",
    "# Input: Hello"
   ]
  },
  {
   "cell_type": "code",
   "execution_count": 5,
   "metadata": {},
   "outputs": [
    {
     "name": "stdin",
     "output_type": "stream",
     "text": [
      " 10 20 30 40.0\n"
     ]
    },
    {
     "data": {
      "text/plain": [
       "['10', '20', '30', '40.0']"
      ]
     },
     "execution_count": 5,
     "metadata": {},
     "output_type": "execute_result"
    }
   ],
   "source": [
    "list2 = list(input().split())\n",
    "list2\n",
    "# Input: 10 20 30 40.0"
   ]
  },
  {
   "cell_type": "code",
   "execution_count": 7,
   "metadata": {},
   "outputs": [
    {
     "name": "stdin",
     "output_type": "stream",
     "text": [
      " Hello Python\n"
     ]
    },
    {
     "data": {
      "text/plain": [
       "['Hello', 'Python']"
      ]
     },
     "execution_count": 7,
     "metadata": {},
     "output_type": "execute_result"
    }
   ],
   "source": [
    "list3 = list(input().split())\n",
    "list3\n",
    "# Input: Hello Python"
   ]
  },
  {
   "cell_type": "markdown",
   "metadata": {},
   "source": [
    "## Methods or Functions in list:\n",
    "There are various methods or functions that are used to work on lists.  \n",
    "1. append\n",
    "2. insert\n",
    "3. pop\n",
    "4. map\n",
    "5. filter\n",
    "6. sort\n",
    "7. sorted\n",
    "8. extend\n",
    "9. index\n",
    "10. remove\n",
    "11. reduce\n",
    "12. reverse\n",
    "13. length"
   ]
  },
  {
   "cell_type": "markdown",
   "metadata": {},
   "source": [
    "### 1. append:\n",
    "Adds the given element to the end of the list.  \n",
    "Syntax: `list.append(element)`"
   ]
  },
  {
   "cell_type": "code",
   "execution_count": 12,
   "metadata": {},
   "outputs": [
    {
     "name": "stdout",
     "output_type": "stream",
     "text": [
      "[10, 15, 'Hello', 1]\n"
     ]
    }
   ],
   "source": [
    "# Example\n",
    "l = []\n",
    "n = 1\n",
    "l.append(10)\n",
    "l.append(15)\n",
    "l.append('Hello')\n",
    "l.append(n)\n",
    "print(l)"
   ]
  },
  {
   "cell_type": "markdown",
   "metadata": {},
   "source": [
    "### 2. insert:\n",
    "Inserts the element at the index specified  \n",
    "Syntax: `list.insert(index, element)`"
   ]
  },
  {
   "cell_type": "code",
   "execution_count": 15,
   "metadata": {},
   "outputs": [
    {
     "data": {
      "text/plain": [
       "[10, 15, 20, 25, 35, 30]"
      ]
     },
     "execution_count": 15,
     "metadata": {},
     "output_type": "execute_result"
    }
   ],
   "source": [
    "# Example\n",
    "list1 = [10, 15, 25, 30]\n",
    "n = 35\n",
    "list1.insert(2, 20)\n",
    "list1.insert(-1, n)\n",
    "list1"
   ]
  },
  {
   "cell_type": "markdown",
   "metadata": {},
   "source": [
    "### 3. pop:\n",
    "Removes and returns the element from the index specified. Default is last element\n",
    "\n",
    "Syntax: `list.pop(index = -1)`"
   ]
  },
  {
   "cell_type": "code",
   "execution_count": 18,
   "metadata": {},
   "outputs": [
    {
     "name": "stdout",
     "output_type": "stream",
     "text": [
      "Hi\n",
      "[10, 100, 1000]\n",
      "100\n"
     ]
    },
    {
     "data": {
      "text/plain": [
       "[10, 1000]"
      ]
     },
     "execution_count": 18,
     "metadata": {},
     "output_type": "execute_result"
    }
   ],
   "source": [
    "list2 = [10, 100, 1000, 'Hi']\n",
    "print(list2.pop())\n",
    "print(list2)\n",
    "print(list2.pop(1))\n",
    "list2"
   ]
  },
  {
   "cell_type": "markdown",
   "metadata": {},
   "source": [
    "### 4. map:\n",
    "Apllies the given function to every element in a list or iterable.\n",
    "\n",
    "Syntax: `map(function, iterable)`"
   ]
  },
  {
   "cell_type": "code",
   "execution_count": 1,
   "metadata": {},
   "outputs": [
    {
     "data": {
      "text/plain": [
       "[3, 4, 5, 6]"
      ]
     },
     "execution_count": 1,
     "metadata": {},
     "output_type": "execute_result"
    }
   ],
   "source": [
    "def sample_fn(x):\n",
    "    return x+2\n",
    "l = [1, 2, 3, 4]\n",
    "l = list(map(sample_fn, l))\n",
    "l"
   ]
  },
  {
   "cell_type": "markdown",
   "metadata": {},
   "source": [
    "### Getting a list of integers or float as input:\n",
    "Use map function to map int function to each value"
   ]
  },
  {
   "cell_type": "code",
   "execution_count": 4,
   "metadata": {},
   "outputs": [
    {
     "name": "stdin",
     "output_type": "stream",
     "text": [
      " 10 20 30 40\n"
     ]
    },
    {
     "name": "stdout",
     "output_type": "stream",
     "text": [
      "<class 'int'>\n"
     ]
    },
    {
     "data": {
      "text/plain": [
       "[10, 20, 30, 40]"
      ]
     },
     "execution_count": 4,
     "metadata": {},
     "output_type": "execute_result"
    }
   ],
   "source": [
    "list1 = list(map(int, input().split()))\n",
    "print(type(list1[0]))\n",
    "list1\n",
    "\n",
    "# Input: 10 20 30 40"
   ]
  },
  {
   "cell_type": "markdown",
   "metadata": {},
   "source": [
    "### 5. filter:\n",
    "Filters out the elements that match the given condition\n",
    "\n",
    "Syntax: `filter(condition, iterable)`\n",
    "\n",
    "The condition should be given as a function definition which can be mapped to each variable. "
   ]
  },
  {
   "cell_type": "code",
   "execution_count": 5,
   "metadata": {},
   "outputs": [
    {
     "name": "stdout",
     "output_type": "stream",
     "text": [
      "[1, 3, 100]\n"
     ]
    }
   ],
   "source": [
    "l = [1, -1, 0, 3, -10, 100]\n",
    "list2 = list(filter(lambda x: x>0, l)) # A Lambda function used for condition\n",
    "print(list2)"
   ]
  },
  {
   "cell_type": "markdown",
   "metadata": {},
   "source": [
    "### 6. sort:\n",
    "Sorts the list as per the given condition\n",
    "\n",
    "Syntax: `list.sort(key = None, reverse = False)`"
   ]
  },
  {
   "cell_type": "code",
   "execution_count": 8,
   "metadata": {},
   "outputs": [
    {
     "name": "stdout",
     "output_type": "stream",
     "text": [
      "[-100, 0, 10, 40, 60]\n",
      "[60, 40, 10, 0, -100]\n"
     ]
    }
   ],
   "source": [
    "l = [10, 60, 0, 40, -100]\n",
    "l.sort() # Ascending order\n",
    "print(l)\n",
    "l.sort(reverse = True) # Descending Order\n",
    "print(l)"
   ]
  },
  {
   "cell_type": "code",
   "execution_count": 14,
   "metadata": {},
   "outputs": [
    {
     "name": "stdout",
     "output_type": "stream",
     "text": [
      "['Data', 'Hi', 'Python', 'Sorting Strings', 'String', 'how']\n",
      "['Sorting Strings', 'Python', 'String', 'Data', 'how', 'Hi']\n"
     ]
    }
   ],
   "source": [
    "l1 = ['Hi', 'Python', 'how', 'String', 'Data', 'Sorting Strings']\n",
    "l1.sort()\n",
    "print(l1)\n",
    "l1.sort(key = len, reverse = True)\n",
    "print(l1)"
   ]
  },
  {
   "cell_type": "markdown",
   "metadata": {},
   "source": [
    "### 7. sorted:\n",
    "It is also function used to sort. Difference is that the sorted list should be reassigned to a variable.\n",
    "\n",
    "Syntax: `sorted(iterable, key = None, reverse = False)`"
   ]
  },
  {
   "cell_type": "code",
   "execution_count": 17,
   "metadata": {},
   "outputs": [
    {
     "data": {
      "text/plain": [
       "[-10, -1, 0, 10, 20, 50, 100]"
      ]
     },
     "execution_count": 17,
     "metadata": {},
     "output_type": "execute_result"
    }
   ],
   "source": [
    "l2 = [10, 20, 50, 0, -10, -1, 100]\n",
    "l2 = sorted(l2)\n",
    "l2"
   ]
  },
  {
   "cell_type": "markdown",
   "metadata": {},
   "source": [
    "## Accessing Elements in a list:"
   ]
  },
  {
   "cell_type": "code",
   "execution_count": null,
   "metadata": {},
   "outputs": [],
   "source": []
  }
 ],
 "metadata": {
  "kernelspec": {
   "display_name": "Python 3",
   "language": "python",
   "name": "python3"
  },
  "language_info": {
   "codemirror_mode": {
    "name": "ipython",
    "version": 3
   },
   "file_extension": ".py",
   "mimetype": "text/x-python",
   "name": "python",
   "nbconvert_exporter": "python",
   "pygments_lexer": "ipython3",
   "version": "3.8.6"
  }
 },
 "nbformat": 4,
 "nbformat_minor": 4
}
