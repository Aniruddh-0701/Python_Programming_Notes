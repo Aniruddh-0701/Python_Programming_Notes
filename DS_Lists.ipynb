{
 "cells": [
  {
   "cell_type": "markdown",
   "metadata": {},
   "source": [
    "# Data Structures or Derived data Types in Python:\n",
    "\n",
    "Storing multiple values of same or different types under a single name.\n",
    "They are collection of data.\n",
    "\n",
    "1. List\n",
    "2. Tuple\n",
    "3. String\n",
    "4. Dictionary\n",
    "5. Set  \n",
    "In this notebook, we'll discuss indepth on Lists"
   ]
  },
  {
   "cell_type": "markdown",
   "metadata": {},
   "source": [
    "## Lists:\n",
    "Lists are ordered collection of data.\n",
    "Represented by square brackets '[ ]'  \n",
    "`list : [10, 20, 30, 'Hello', -2.0]`\n",
    "\n",
    "Each value in the list is called a element  \n",
    "order of elements: index of element  \n",
    "Index - may be positive or negative  \n",
    "\n",
    "|Order (element) | First | Second | Third |...|Last|  \n",
    "|---|---|---|---|---|---|  \n",
    "|Positive Index| 0| 1| 2| ...| n-1|  \n",
    "|Negative Index| -n| -n+1| -n+2| ...| -1|  "
   ]
  },
  {
   "cell_type": "markdown",
   "metadata": {},
   "source": [
    "## Defining a list:\n",
    "\n",
    "1. '[ ]'\n",
    "2. list()\n",
    "\n",
    "### 1. '[ ]'\n",
    "l = [10, 20, 30]\n",
    "### 2. list()\n",
    "Syntax: `list(iterable = None)`  \n",
    "iterable: any data structures listed above  "
   ]
  },
  {
   "cell_type": "code",
   "execution_count": 1,
   "metadata": {},
   "outputs": [
    {
     "data": {
      "text/plain": [
       "list"
      ]
     },
     "execution_count": 1,
     "metadata": {},
     "output_type": "execute_result"
    }
   ],
   "source": [
    "l = [10, 'Hello', -3.9]\n",
    "type(l)"
   ]
  },
  {
   "cell_type": "code",
   "execution_count": 2,
   "metadata": {},
   "outputs": [
    {
     "data": {
      "text/plain": [
       "[]"
      ]
     },
     "execution_count": 2,
     "metadata": {},
     "output_type": "execute_result"
    }
   ],
   "source": [
    "list1 = list()\n",
    "list1"
   ]
  },
  {
   "cell_type": "code",
   "execution_count": 3,
   "metadata": {},
   "outputs": [
    {
     "ename": "TypeError",
     "evalue": "'int' object is not iterable",
     "output_type": "error",
     "traceback": [
      "\u001b[1;31m---------------------------------------------------------------------------\u001b[0m",
      "\u001b[1;31mTypeError\u001b[0m                                 Traceback (most recent call last)",
      "\u001b[1;32m<ipython-input-3-2f4d7a16774a>\u001b[0m in \u001b[0;36m<module>\u001b[1;34m\u001b[0m\n\u001b[1;32m----> 1\u001b[1;33m \u001b[0mlist2\u001b[0m \u001b[1;33m=\u001b[0m \u001b[0mlist\u001b[0m\u001b[1;33m(\u001b[0m\u001b[1;36m1\u001b[0m\u001b[1;33m)\u001b[0m\u001b[1;33m\u001b[0m\u001b[1;33m\u001b[0m\u001b[0m\n\u001b[0m",
      "\u001b[1;31mTypeError\u001b[0m: 'int' object is not iterable"
     ]
    }
   ],
   "source": [
    "list2 = list(1)"
   ]
  },
  {
   "cell_type": "markdown",
   "metadata": {},
   "source": [
    "### Getting list as input:\n",
    "list1 = list(input())  \n",
    "list1 = list(input().split())"
   ]
  },
  {
   "cell_type": "code",
   "execution_count": 4,
   "metadata": {},
   "outputs": [
    {
     "name": "stdin",
     "output_type": "stream",
     "text": [
      " Hello\n"
     ]
    },
    {
     "data": {
      "text/plain": [
       "['H', 'e', 'l', 'l', 'o']"
      ]
     },
     "execution_count": 4,
     "metadata": {},
     "output_type": "execute_result"
    }
   ],
   "source": [
    "list1 = list(input())\n",
    "list1\n",
    "\n",
    "# Input: Hello"
   ]
  },
  {
   "cell_type": "code",
   "execution_count": 5,
   "metadata": {},
   "outputs": [
    {
     "name": "stdin",
     "output_type": "stream",
     "text": [
      " 10 20 30 40.0\n"
     ]
    },
    {
     "data": {
      "text/plain": [
       "['10', '20', '30', '40.0']"
      ]
     },
     "execution_count": 5,
     "metadata": {},
     "output_type": "execute_result"
    }
   ],
   "source": [
    "list2 = list(input().split())\n",
    "list2\n",
    "# Input: 10 20 30 40.0"
   ]
  },
  {
   "cell_type": "code",
   "execution_count": 7,
   "metadata": {},
   "outputs": [
    {
     "name": "stdin",
     "output_type": "stream",
     "text": [
      " Hello Python\n"
     ]
    },
    {
     "data": {
      "text/plain": [
       "['Hello', 'Python']"
      ]
     },
     "execution_count": 7,
     "metadata": {},
     "output_type": "execute_result"
    }
   ],
   "source": [
    "list3 = list(input().split())\n",
    "list3\n",
    "# Input: Hello Python"
   ]
  },
  {
   "cell_type": "markdown",
   "metadata": {},
   "source": [
    "## Methods or Functions in list:\n",
    "There are various methods or functions that are used to work on lists.  \n",
    "1. append\n",
    "2. insert\n",
    "3. pop\n",
    "4. map\n",
    "5. filter\n",
    "6. sort\n",
    "7. sorted\n",
    "8. extend\n",
    "9. index\n",
    "10. remove\n",
    "11. reduce\n",
    "12. reverse\n",
    "13. len\n",
    "14. count\n",
    "15. sum\n",
    "16. max\n",
    "17. min\n",
    "18. enumerate"
   ]
  },
  {
   "cell_type": "markdown",
   "metadata": {},
   "source": [
    "### 1. append:\n",
    "Adds the given element to the end of the list.  \n",
    "Syntax: `list.append(element)`"
   ]
  },
  {
   "cell_type": "code",
   "execution_count": 12,
   "metadata": {},
   "outputs": [
    {
     "name": "stdout",
     "output_type": "stream",
     "text": [
      "[10, 15, 'Hello', 1]\n"
     ]
    }
   ],
   "source": [
    "# Example\n",
    "l = []\n",
    "n = 1\n",
    "l.append(10)\n",
    "l.append(15)\n",
    "l.append('Hello')\n",
    "l.append(n)\n",
    "print(l)"
   ]
  },
  {
   "cell_type": "markdown",
   "metadata": {},
   "source": [
    "### 2. insert:\n",
    "Inserts the element at the index specified  \n",
    "Syntax: `list.insert(index, element)`"
   ]
  },
  {
   "cell_type": "code",
   "execution_count": 15,
   "metadata": {},
   "outputs": [
    {
     "data": {
      "text/plain": [
       "[10, 15, 20, 25, 35, 30]"
      ]
     },
     "execution_count": 15,
     "metadata": {},
     "output_type": "execute_result"
    }
   ],
   "source": [
    "# Example\n",
    "list1 = [10, 15, 25, 30]\n",
    "n = 35\n",
    "list1.insert(2, 20)\n",
    "list1.insert(-1, n)\n",
    "list1"
   ]
  },
  {
   "cell_type": "markdown",
   "metadata": {},
   "source": [
    "### 3. pop:\n",
    "Removes and returns the element from the index specified. Default is last element\n",
    "\n",
    "Syntax: `list.pop(index = -1)`"
   ]
  },
  {
   "cell_type": "code",
   "execution_count": 18,
   "metadata": {},
   "outputs": [
    {
     "name": "stdout",
     "output_type": "stream",
     "text": [
      "Hi\n",
      "[10, 100, 1000]\n",
      "100\n"
     ]
    },
    {
     "data": {
      "text/plain": [
       "[10, 1000]"
      ]
     },
     "execution_count": 18,
     "metadata": {},
     "output_type": "execute_result"
    }
   ],
   "source": [
    "list2 = [10, 100, 1000, 'Hi']\n",
    "print(list2.pop())\n",
    "print(list2)\n",
    "print(list2.pop(1))\n",
    "list2"
   ]
  },
  {
   "cell_type": "markdown",
   "metadata": {},
   "source": [
    "### 4. map:\n",
    "Applies the given function to every element in a list or iterable.\n",
    "\n",
    "Syntax: `map(function, iterable)`"
   ]
  },
  {
   "cell_type": "code",
   "execution_count": 1,
   "metadata": {},
   "outputs": [
    {
     "data": {
      "text/plain": [
       "[3, 4, 5, 6]"
      ]
     },
     "execution_count": 1,
     "metadata": {},
     "output_type": "execute_result"
    }
   ],
   "source": [
    "def sample_fn(x):\n",
    "    return x+2\n",
    "l = [1, 2, 3, 4]\n",
    "l = list(map(sample_fn, l))\n",
    "l"
   ]
  },
  {
   "cell_type": "markdown",
   "metadata": {},
   "source": [
    "### Getting a list of integers or float as input:\n",
    "Use map function to map int function to each value"
   ]
  },
  {
   "cell_type": "code",
   "execution_count": 4,
   "metadata": {},
   "outputs": [
    {
     "name": "stdin",
     "output_type": "stream",
     "text": [
      " 10 20 30 40\n"
     ]
    },
    {
     "name": "stdout",
     "output_type": "stream",
     "text": [
      "<class 'int'>\n"
     ]
    },
    {
     "data": {
      "text/plain": [
       "[10, 20, 30, 40]"
      ]
     },
     "execution_count": 4,
     "metadata": {},
     "output_type": "execute_result"
    }
   ],
   "source": [
    "list1 = list(map(int, input().split()))\n",
    "print(type(list1[0]))\n",
    "list1\n",
    "\n",
    "# Input: 10 20 30 40"
   ]
  },
  {
   "cell_type": "markdown",
   "metadata": {},
   "source": [
    "### 5. filter:\n",
    "Filters out the elements that match the given condition\n",
    "\n",
    "Syntax: `filter(condition, iterable)`\n",
    "\n",
    "The condition should be given as a function definition which can be mapped to each variable. "
   ]
  },
  {
   "cell_type": "code",
   "execution_count": 5,
   "metadata": {},
   "outputs": [
    {
     "name": "stdout",
     "output_type": "stream",
     "text": [
      "[1, 3, 100]\n"
     ]
    }
   ],
   "source": [
    "l = [1, -1, 0, 3, -10, 100]\n",
    "list2 = list(filter(lambda x: x>0, l)) # A Lambda function used for condition\n",
    "print(list2)"
   ]
  },
  {
   "cell_type": "markdown",
   "metadata": {},
   "source": [
    "### 6. sort:\n",
    "Sorts the list as per the given condition\n",
    "\n",
    "Syntax: `list.sort(key = None, reverse = False)`"
   ]
  },
  {
   "cell_type": "code",
   "execution_count": 8,
   "metadata": {},
   "outputs": [
    {
     "name": "stdout",
     "output_type": "stream",
     "text": [
      "[-100, 0, 10, 40, 60]\n",
      "[60, 40, 10, 0, -100]\n"
     ]
    }
   ],
   "source": [
    "l = [10, 60, 0, 40, -100]\n",
    "l.sort() # Ascending order\n",
    "print(l)\n",
    "l.sort(reverse = True) # Descending Order\n",
    "print(l)"
   ]
  },
  {
   "cell_type": "code",
   "execution_count": 14,
   "metadata": {},
   "outputs": [
    {
     "name": "stdout",
     "output_type": "stream",
     "text": [
      "['Data', 'Hi', 'Python', 'Sorting Strings', 'String', 'how']\n",
      "['Sorting Strings', 'Python', 'String', 'Data', 'how', 'Hi']\n"
     ]
    }
   ],
   "source": [
    "l1 = ['Hi', 'Python', 'how', 'String', 'Data', 'Sorting Strings']\n",
    "l1.sort()\n",
    "print(l1)\n",
    "l1.sort(key = len, reverse = True)\n",
    "print(l1)"
   ]
  },
  {
   "cell_type": "markdown",
   "metadata": {},
   "source": [
    "### 7. sorted:\n",
    "It is also function used to sort. Difference is that the sorted list should be reassigned to a variable.\n",
    "\n",
    "Syntax: `sorted(iterable, key = None, reverse = False)`"
   ]
  },
  {
   "cell_type": "code",
   "execution_count": 17,
   "metadata": {},
   "outputs": [
    {
     "data": {
      "text/plain": [
       "[-10, -1, 0, 10, 20, 50, 100]"
      ]
     },
     "execution_count": 17,
     "metadata": {},
     "output_type": "execute_result"
    }
   ],
   "source": [
    "l2 = [10, 20, 50, 0, -10, -1, 100]\n",
    "l2 = sorted(l2)\n",
    "l2"
   ]
  },
  {
   "cell_type": "markdown",
   "metadata": {},
   "source": [
    "### 8. extend:\n",
    "Extends the given list using the elements of iterable, i.e. appends the elements of iterable to the given list  \n",
    "\n",
    "Syntax: `list.extend(iterable)`"
   ]
  },
  {
   "cell_type": "code",
   "execution_count": 1,
   "metadata": {},
   "outputs": [
    {
     "data": {
      "text/plain": [
       "[10, 20, 30, 40, 50, 60, 70]"
      ]
     },
     "execution_count": 1,
     "metadata": {},
     "output_type": "execute_result"
    }
   ],
   "source": [
    "l = [10, 20, 30, 40]\n",
    "l.extend([50, 60, 70])\n",
    "l"
   ]
  },
  {
   "cell_type": "code",
   "execution_count": 2,
   "metadata": {},
   "outputs": [
    {
     "data": {
      "text/plain": [
       "['H', 'e', 'l', 'l', 'o', 'W', 'e', 'l', 'c', 'o', 'm', 'e']"
      ]
     },
     "execution_count": 2,
     "metadata": {},
     "output_type": "execute_result"
    }
   ],
   "source": [
    "l1 = ['H','e', 'l', 'l', 'o']\n",
    "l1.extend('Welcome')\n",
    "l1"
   ]
  },
  {
   "cell_type": "markdown",
   "metadata": {},
   "source": [
    "### 9. index:\n",
    "Returns the index of the element in the list. If multiple elements exist, it gives the index of first occurrence. If the element is not in the list, it raises an error\n",
    "\n",
    "Syntax: `list.index(element)`"
   ]
  },
  {
   "cell_type": "code",
   "execution_count": 5,
   "metadata": {},
   "outputs": [
    {
     "data": {
      "text/plain": [
       "0"
      ]
     },
     "execution_count": 5,
     "metadata": {},
     "output_type": "execute_result"
    }
   ],
   "source": [
    "l = [10, 20, 30, 40, 10]\n",
    "l.index(10)"
   ]
  },
  {
   "cell_type": "markdown",
   "metadata": {},
   "source": [
    "### 10. remove:\n",
    "Removes the first occurence of the element if present. Raises error when element not present\n",
    "\n",
    "Syntax: `list.remove(value)`"
   ]
  },
  {
   "cell_type": "code",
   "execution_count": 6,
   "metadata": {},
   "outputs": [
    {
     "data": {
      "text/plain": [
       "[10, 30, 40]"
      ]
     },
     "execution_count": 6,
     "metadata": {},
     "output_type": "execute_result"
    }
   ],
   "source": [
    "l = [10, 20, 30, 40]\n",
    "l.remove(20)\n",
    "l"
   ]
  },
  {
   "cell_type": "code",
   "execution_count": 7,
   "metadata": {},
   "outputs": [
    {
     "ename": "ValueError",
     "evalue": "list.remove(x): x not in list",
     "output_type": "error",
     "traceback": [
      "\u001b[1;31m---------------------------------------------------------------------------\u001b[0m",
      "\u001b[1;31mValueError\u001b[0m                                Traceback (most recent call last)",
      "\u001b[1;32m<ipython-input-7-39403d13bd0b>\u001b[0m in \u001b[0;36m<module>\u001b[1;34m\u001b[0m\n\u001b[1;32m----> 1\u001b[1;33m \u001b[0ml\u001b[0m\u001b[1;33m.\u001b[0m\u001b[0mremove\u001b[0m\u001b[1;33m(\u001b[0m\u001b[1;36m20\u001b[0m\u001b[1;33m)\u001b[0m\u001b[1;33m\u001b[0m\u001b[1;33m\u001b[0m\u001b[0m\n\u001b[0m",
      "\u001b[1;31mValueError\u001b[0m: list.remove(x): x not in list"
     ]
    }
   ],
   "source": [
    "l.remove(20) # Removing element that is not present"
   ]
  },
  {
   "cell_type": "markdown",
   "metadata": {},
   "source": [
    "### 11. reduce:\n",
    "Sequentially applies the elements in the list to a function to give the final value. To use this we need to call *functools* module. In depth study of modules will be dealt later\n",
    "\n",
    "Syntax: `reduce(function, list)`"
   ]
  },
  {
   "cell_type": "code",
   "execution_count": 8,
   "metadata": {},
   "outputs": [
    {
     "data": {
      "text/plain": [
       "100"
      ]
     },
     "execution_count": 8,
     "metadata": {},
     "output_type": "execute_result"
    }
   ],
   "source": [
    "from functools import reduce\n",
    "\n",
    "def add(x, y):\n",
    "    return x+y\n",
    "\n",
    "l = [10, 20, 30, 40]\n",
    "c = reduce(add, l)\n",
    "c"
   ]
  },
  {
   "cell_type": "markdown",
   "metadata": {},
   "source": [
    "#### Explanation:\n",
    "*Step 1:*\n",
    "applies 10 and 20 to the function. result = 30\n",
    "\n",
    "*Step 2:*\n",
    "applies the result and next element (30). result = 60\n",
    "\n",
    "*Step 3:*\n",
    "applies the result and next element (40). result = 100\n",
    "\n",
    "List end is reached. so the result 100 is returned"
   ]
  },
  {
   "cell_type": "markdown",
   "metadata": {},
   "source": [
    "### 12. reverse:\n",
    "Used to reverse the list.\n",
    "\n",
    "Syntax: `list.reverse()`"
   ]
  },
  {
   "cell_type": "code",
   "execution_count": 10,
   "metadata": {},
   "outputs": [
    {
     "data": {
      "text/plain": [
       "[60, 50, 30, 20, 10]"
      ]
     },
     "execution_count": 10,
     "metadata": {},
     "output_type": "execute_result"
    }
   ],
   "source": [
    "list1 = [10, 20, 30, 50, 60]\n",
    "list1.reverse()\n",
    "list1"
   ]
  },
  {
   "cell_type": "markdown",
   "metadata": {},
   "source": [
    "### 13. len:\n",
    "Returns the length of the given iterable\n",
    "\n",
    "Syntax: `len(iterable)`"
   ]
  },
  {
   "cell_type": "code",
   "execution_count": 11,
   "metadata": {},
   "outputs": [
    {
     "data": {
      "text/plain": [
       "5"
      ]
     },
     "execution_count": 11,
     "metadata": {},
     "output_type": "execute_result"
    }
   ],
   "source": [
    "list2 = [10, 20, 30, -1, 123]\n",
    "len(list2)"
   ]
  },
  {
   "cell_type": "markdown",
   "metadata": {},
   "source": [
    "### 14. count:\n",
    "Returns the count of the element specified\n",
    "\n",
    "Syntax: `list.count(element)`"
   ]
  },
  {
   "cell_type": "code",
   "execution_count": 14,
   "metadata": {},
   "outputs": [
    {
     "name": "stdout",
     "output_type": "stream",
     "text": [
      "3\n"
     ]
    },
    {
     "data": {
      "text/plain": [
       "2"
      ]
     },
     "execution_count": 14,
     "metadata": {},
     "output_type": "execute_result"
    }
   ],
   "source": [
    "l = [10, 20, 30, 10, 20, 25, 20, 50]\n",
    "print(l.count(20))\n",
    "l.count(10)"
   ]
  },
  {
   "cell_type": "markdown",
   "metadata": {},
   "source": [
    "### 15. sum:\n",
    "returns the sum elements in the list or tuple.\n",
    "\n",
    "Syntax: `sum(list, start = 0)`"
   ]
  },
  {
   "cell_type": "code",
   "execution_count": 1,
   "metadata": {},
   "outputs": [
    {
     "data": {
      "text/plain": [
       "30"
      ]
     },
     "execution_count": 1,
     "metadata": {},
     "output_type": "execute_result"
    }
   ],
   "source": [
    "l = [10, -10, 20, -30, 40]\n",
    "sum(l)"
   ]
  },
  {
   "cell_type": "code",
   "execution_count": 2,
   "metadata": {},
   "outputs": [
    {
     "ename": "TypeError",
     "evalue": "unsupported operand type(s) for +: 'int' and 'str'",
     "output_type": "error",
     "traceback": [
      "\u001b[1;31m---------------------------------------------------------------------------\u001b[0m",
      "\u001b[1;31mTypeError\u001b[0m                                 Traceback (most recent call last)",
      "\u001b[1;32m<ipython-input-2-4f5edc0ac672>\u001b[0m in \u001b[0;36m<module>\u001b[1;34m\u001b[0m\n\u001b[0;32m      1\u001b[0m \u001b[0ml\u001b[0m \u001b[1;33m=\u001b[0m \u001b[1;33m[\u001b[0m\u001b[1;34m'Hello'\u001b[0m\u001b[1;33m,\u001b[0m \u001b[1;34m'World'\u001b[0m\u001b[1;33m]\u001b[0m\u001b[1;33m\u001b[0m\u001b[1;33m\u001b[0m\u001b[0m\n\u001b[1;32m----> 2\u001b[1;33m \u001b[0msum\u001b[0m\u001b[1;33m(\u001b[0m\u001b[0ml\u001b[0m\u001b[1;33m)\u001b[0m\u001b[1;33m\u001b[0m\u001b[1;33m\u001b[0m\u001b[0m\n\u001b[0m",
      "\u001b[1;31mTypeError\u001b[0m: unsupported operand type(s) for +: 'int' and 'str'"
     ]
    }
   ],
   "source": [
    "l = ['Hello', 'World'] # Non Numeric data raise error.\n",
    "sum(l)"
   ]
  },
  {
   "cell_type": "markdown",
   "metadata": {},
   "source": [
    "### 16. max:\n",
    "Returns the maximum value in the list.\n",
    "\n",
    "Syntax: `max(list, key = None)`"
   ]
  },
  {
   "cell_type": "code",
   "execution_count": 5,
   "metadata": {},
   "outputs": [
    {
     "data": {
      "text/plain": [
       "50"
      ]
     },
     "execution_count": 5,
     "metadata": {},
     "output_type": "execute_result"
    }
   ],
   "source": [
    "l = [10, 15, 50, 21, -7]\n",
    "max(l)"
   ]
  },
  {
   "cell_type": "code",
   "execution_count": 9,
   "metadata": {},
   "outputs": [
    {
     "data": {
      "text/plain": [
       "-7"
      ]
     },
     "execution_count": 9,
     "metadata": {},
     "output_type": "execute_result"
    }
   ],
   "source": [
    "l = [10, 15, 50, 21, -7, 7]\n",
    "max(l, key = lambda x: x % 5) # Maximum reminder when divided by 5"
   ]
  },
  {
   "cell_type": "markdown",
   "metadata": {},
   "source": [
    "### 17. min:\n",
    "Returns minimum value in the iterable\n",
    "\n",
    "Syntax: `min(iterable, key = None)`"
   ]
  },
  {
   "cell_type": "code",
   "execution_count": 11,
   "metadata": {},
   "outputs": [
    {
     "data": {
      "text/plain": [
       "-7"
      ]
     },
     "execution_count": 11,
     "metadata": {},
     "output_type": "execute_result"
    }
   ],
   "source": [
    "l = [10, 15, 50, 21, -7]\n",
    "min(l)"
   ]
  },
  {
   "cell_type": "markdown",
   "metadata": {},
   "source": [
    "### 18. enumerate:\n",
    "Returns the enumerate object for given list. An enumerate object is an iterable which contains ordered pair of the form `(index, value)`  \n",
    "\n",
    "Syntax: `enumerate(iterable, start = 0)`"
   ]
  },
  {
   "cell_type": "code",
   "execution_count": 14,
   "metadata": {},
   "outputs": [
    {
     "data": {
      "text/plain": [
       "[(0, 10), (1, 20), (2, 'Hello'), (3, 'a'), (4, -1)]"
      ]
     },
     "execution_count": 14,
     "metadata": {},
     "output_type": "execute_result"
    }
   ],
   "source": [
    "l = [10, 20, 'Hello', 'a', -1]\n",
    "list(enumerate(l))"
   ]
  },
  {
   "cell_type": "markdown",
   "metadata": {},
   "source": [
    "## Accessing Elements in a list:\n",
    "\n",
    "Elements of a list can be accessed using index.\n",
    "\n",
    "*Example:*  \n",
    "Consider a list, `l = [10, 20, 30, 40, 50]`. Length = 5\n",
    "\n",
    "| Element | 10 | 20 | 30 | 40 | 50 |  \n",
    "|---|---|---|---|---|---|  \n",
    "|Position| 1| 2| 3| 4| 5|  \n",
    "|Positive Index| 0 | 1 | 2 | 3 | 4 |  \n",
    "|Negative Index| -5 | -4 | -3 | -2 | -1|  \n",
    "\n",
    "Calling $i^{th}$ element:   \n",
    "positive index: l [i-1]  \n",
    "negative index: l [i - 1 - length]"
   ]
  },
  {
   "cell_type": "code",
   "execution_count": 1,
   "metadata": {},
   "outputs": [
    {
     "name": "stdout",
     "output_type": "stream",
     "text": [
      "4 -2\n",
      "-2\n",
      "20\n"
     ]
    }
   ],
   "source": [
    "l = [10, 50, 20, 30, -2]\n",
    "n = len(l) # length\n",
    "print(n-1, l[n-1]) # Last Element Positive index\n",
    "print(l[-1]) # Last Element negative index\n",
    "print(l[2]) # third element"
   ]
  },
  {
   "cell_type": "code",
   "execution_count": 15,
   "metadata": {},
   "outputs": [
    {
     "name": "stdout",
     "output_type": "stream",
     "text": [
      "0 10\n",
      "1 50\n",
      "2 20\n",
      "3 30\n",
      "4 -2\n"
     ]
    }
   ],
   "source": [
    "l = [10, 50, 20, 30, -2]\n",
    "for index, element in enumerate(l):\n",
    "    print(index, element)"
   ]
  },
  {
   "cell_type": "markdown",
   "metadata": {},
   "source": [
    "## Slicing operator:\n",
    "Used to get / set a sublist of a list. Denoted by '[ ]'\n",
    "\n",
    "Syntax: `list_name[start = 0 : stop = length : step = 1]`"
   ]
  },
  {
   "cell_type": "code",
   "execution_count": 19,
   "metadata": {},
   "outputs": [
    {
     "name": "stdout",
     "output_type": "stream",
     "text": [
      "[50, 20, 30]\n",
      "[50, 30]\n",
      "[10, 20, -2]\n"
     ]
    }
   ],
   "source": [
    "# Getting sublist in forward direction\n",
    "l = [10, 50, 20, 30, -2]\n",
    "print(l[1:-1])\n",
    "print(l[1::2])\n",
    "print(l[::2])"
   ]
  },
  {
   "cell_type": "code",
   "execution_count": 24,
   "metadata": {},
   "outputs": [
    {
     "name": "stdout",
     "output_type": "stream",
     "text": [
      "[-2, 30, 20, 50]\n",
      "[-2, 30, 20, 50, 10]\n",
      "[-2, 20, 10]\n"
     ]
    }
   ],
   "source": [
    "# Getting Sublist in reverse:\n",
    "l = [10, 50, 20, 30, -2]\n",
    "print(l[4:0:-1])\n",
    "print(l[::-1]) # reverse of the list\n",
    "print(l[::-2]) # reverse list every alternate term"
   ]
  },
  {
   "cell_type": "markdown",
   "metadata": {},
   "source": [
    "## Printing the elements in a list:\n",
    "1. Using loops\n",
    "2. Using Variable length argument ( * )\n",
    "\n",
    "### 1. Looping:\n",
    "Use for or while loop to access element or list.\n",
    "\n",
    "### 2. Using * :\n",
    "Using * will convert the elements of the list into arguements of print method"
   ]
  },
  {
   "cell_type": "code",
   "execution_count": 2,
   "metadata": {},
   "outputs": [
    {
     "name": "stdout",
     "output_type": "stream",
     "text": [
      "10 20 30 40 50 "
     ]
    }
   ],
   "source": [
    "# for loop to get index\n",
    "l = [10, 20, 30, 40, 50]\n",
    "for i in range(len(l)):\n",
    "    print(l[i], end= ' ')"
   ]
  },
  {
   "cell_type": "code",
   "execution_count": 3,
   "metadata": {},
   "outputs": [
    {
     "name": "stdout",
     "output_type": "stream",
     "text": [
      "10 20 30 40 50 "
     ]
    }
   ],
   "source": [
    "# for loop to get elements\n",
    "l = [10, 20, 30, 40, 50]\n",
    "for i in l:\n",
    "    print(i, end = ' ')"
   ]
  },
  {
   "cell_type": "code",
   "execution_count": 5,
   "metadata": {},
   "outputs": [
    {
     "name": "stdout",
     "output_type": "stream",
     "text": [
      "10 20 30 40 50 "
     ]
    }
   ],
   "source": [
    "# while loop to get index\n",
    "l = [10, 20, 30, 40, 50]\n",
    "i = 0\n",
    "while i<len(l):\n",
    "    print(l[i], end= ' ')\n",
    "    i += 1"
   ]
  },
  {
   "cell_type": "code",
   "execution_count": 6,
   "metadata": {},
   "outputs": [
    {
     "name": "stdout",
     "output_type": "stream",
     "text": [
      "10 20 30 40 50\n"
     ]
    }
   ],
   "source": [
    "# Using *\n",
    "l = [10, 20, 30, 40, 50]\n",
    "print(*l)"
   ]
  },
  {
   "cell_type": "markdown",
   "metadata": {},
   "source": [
    "## List Comprehension: \n",
    "It follows the form of the mathematical set-builder notation unlike the use of map and filter functions. It is used to create lists from either an existing like or a completely new list.\n",
    " \n",
    "Set bulider form:\n",
    "{$x: x ~\\rm{\\epsilon~ list}$}  \n",
    "Example: `list1 = [expression (loops)]`"
   ]
  },
  {
   "cell_type": "code",
   "execution_count": 9,
   "metadata": {},
   "outputs": [
    {
     "name": "stdout",
     "output_type": "stream",
     "text": [
      "100 400 900 1600 2500\n",
      "100 400 900 1600 2500\n"
     ]
    }
   ],
   "source": [
    "# map vs comprehension\n",
    "l = [10, 20, 30, 40, 50]\n",
    "s = [i**2 for i in l] # squares of elements in list l using comprehension\n",
    "sq = list(map(lambda x: x**2, l)) # Using map\n",
    "print(*s)\n",
    "print(*sq)"
   ]
  },
  {
   "cell_type": "code",
   "execution_count": 13,
   "metadata": {},
   "outputs": [
    {
     "name": "stdout",
     "output_type": "stream",
     "text": [
      "100 400 900 1600 2500\n"
     ]
    }
   ],
   "source": [
    "# Equivalent of above comprehension\n",
    "l = [10, 20, 30, 40, 50]\n",
    "s = list()\n",
    "for i in l:\n",
    "    s.append(i ** 2)\n",
    "print(*s)"
   ]
  },
  {
   "cell_type": "code",
   "execution_count": 10,
   "metadata": {},
   "outputs": [
    {
     "name": "stdout",
     "output_type": "stream",
     "text": [
      "20 40\n",
      "20 40\n"
     ]
    }
   ],
   "source": [
    "# filter vs comprehension\n",
    "l = [10, 20, 30, 40, 50]\n",
    "mul_t = [i for i in l if i % 20 == 0] # Multiples o twenty in l Using Comprehension\n",
    "mul_tc = list(filter(lambda x: x % 20 == 0, l )) #Using filter\n",
    "print(*mul_t)\n",
    "print(*mul_tc)"
   ]
  },
  {
   "cell_type": "code",
   "execution_count": 14,
   "metadata": {},
   "outputs": [
    {
     "name": "stdout",
     "output_type": "stream",
     "text": [
      "20 40\n"
     ]
    }
   ],
   "source": [
    "# Equivalent of above comprehension\n",
    "l = [10, 20, 30, 40, 50]\n",
    "mul = list()\n",
    "for i in l:\n",
    "    if i % 20 == 0: mul.append(i)\n",
    "print(*mul)"
   ]
  },
  {
   "cell_type": "markdown",
   "metadata": {},
   "source": [
    "## List Aliasing:\n",
    "Aliasing a list variable with another name. Referring a single list by multiple names.  \n",
    "Syntax: `new_name = old_name`"
   ]
  },
  {
   "cell_type": "code",
   "execution_count": 15,
   "metadata": {},
   "outputs": [
    {
     "data": {
      "text/plain": [
       "[10, 20, 0]"
      ]
     },
     "execution_count": 15,
     "metadata": {},
     "output_type": "execute_result"
    }
   ],
   "source": [
    "a = [10, 20, 0]\n",
    "b = a # aliasing list a\n",
    "b"
   ]
  },
  {
   "cell_type": "markdown",
   "metadata": {},
   "source": [
    "## List Copying or Cloning:\n",
    "Create a new instance of list with same value. It is used to copy a list to a new variable by new memory allocation.\n",
    "\n",
    "### Types:\n",
    "1. Shallow Copy\n",
    "2. Deep copy\n",
    "\n",
    "### Methods:\n",
    "1. copy method\n",
    "2. slicing operator\n",
    "3. list method\n",
    "4. copy module"
   ]
  },
  {
   "cell_type": "markdown",
   "metadata": {},
   "source": [
    "### 1. Copy method:\n",
    "Creates a shallow copy of variable  \n",
    "\n",
    "Syntax: `new_list = list.copy(list_name)`"
   ]
  },
  {
   "cell_type": "code",
   "execution_count": 8,
   "metadata": {},
   "outputs": [
    {
     "data": {
      "text/plain": [
       "[10, 20, 30, 40]"
      ]
     },
     "execution_count": 8,
     "metadata": {},
     "output_type": "execute_result"
    }
   ],
   "source": [
    "l = [10, 20, 30, 40]\n",
    "list1 = l.copy()\n",
    "list1"
   ]
  },
  {
   "cell_type": "markdown",
   "metadata": {},
   "source": [
    "### 2. slicing operator:\n",
    "Another method for shallow copy\n",
    "\n",
    "Syntax: `new_list = old_list[:]`"
   ]
  },
  {
   "cell_type": "code",
   "execution_count": 16,
   "metadata": {},
   "outputs": [
    {
     "data": {
      "text/plain": [
       "[10, 20, 30]"
      ]
     },
     "execution_count": 16,
     "metadata": {},
     "output_type": "execute_result"
    }
   ],
   "source": [
    "l = [10, 20, 30]\n",
    "list2 = l[:]\n",
    "list2"
   ]
  },
  {
   "cell_type": "markdown",
   "metadata": {},
   "source": [
    "### 3. list function:\n",
    "Create a new instance using list function. It also results in shallow copy\n",
    "\n",
    "Syntax: `list_new = list(old_list)`"
   ]
  },
  {
   "cell_type": "code",
   "execution_count": 17,
   "metadata": {},
   "outputs": [
    {
     "data": {
      "text/plain": [
       "[10, 20, 30]"
      ]
     },
     "execution_count": 17,
     "metadata": {},
     "output_type": "execute_result"
    }
   ],
   "source": [
    "l = [10, 20, 30]\n",
    "m = list(l)\n",
    "m"
   ]
  },
  {
   "cell_type": "markdown",
   "metadata": {},
   "source": [
    "### 4. Copy module:\n",
    "Copy module can be used to copy list to new variable\n",
    "\n",
    "Functions:\n",
    "1. copy\n",
    "2. deepcopy\n",
    "\n",
    "#### 1. copy:\n",
    "creates shallow copy\n",
    "\n",
    "Syntax: `new_list = copy(list_name)`\n",
    "\n",
    "#### 2. deepcopy:\n",
    "Creates a deep copy\n",
    "\n",
    "Syntax: `new_list = deepcopy(list_name)`"
   ]
  },
  {
   "cell_type": "code",
   "execution_count": 18,
   "metadata": {},
   "outputs": [
    {
     "name": "stdout",
     "output_type": "stream",
     "text": [
      "[10, 20, 30]\n"
     ]
    },
    {
     "data": {
      "text/plain": [
       "[10, 20, 30]"
      ]
     },
     "execution_count": 18,
     "metadata": {},
     "output_type": "execute_result"
    }
   ],
   "source": [
    "import copy\n",
    "\n",
    "l = [10, 20, 30]\n",
    "m = copy.copy(l)\n",
    "s = copy.deepcopy(l)\n",
    "print(m)\n",
    "s"
   ]
  },
  {
   "cell_type": "markdown",
   "metadata": {},
   "source": [
    "## Multi-dimensional lists or matrices:\n",
    "Lists in a list is called a multidimensional list or nested lists. They are generally used to work with matrices.\n",
    "\n",
    "Example: `list = [[10, 20, 30], [40, 50, 60]]` - Two dimensional list\n",
    "\n",
    "### Accessing elements using index:\n",
    "Syntax: `list_name[outermost list index][inner list index]...`"
   ]
  },
  {
   "cell_type": "code",
   "execution_count": 25,
   "metadata": {},
   "outputs": [
    {
     "name": "stdout",
     "output_type": "stream",
     "text": [
      "[10, 20, 30]\n",
      "10\n"
     ]
    }
   ],
   "source": [
    "m = [[10, 20, 30], [40, 50, 60]] # two dimensional\n",
    "print(m[0]) # first element in outermost list\n",
    "print(m[0][0]) # first element in first inner list"
   ]
  },
  {
   "cell_type": "code",
   "execution_count": 31,
   "metadata": {},
   "outputs": [
    {
     "name": "stdout",
     "output_type": "stream",
     "text": [
      "[[10, 20], [30]]\n",
      "[10, 20]\n",
      "10\n"
     ]
    }
   ],
   "source": [
    "l = [ [[10, 20], [30]], \n",
    "     [[40, 50,], [60]] ] # three dimensional\n",
    "print(l[0]) # first element in outermost list\n",
    "print(l[0][0]) # first element in first inner list\n",
    "print(l[0][0][0]) # first element in first innermost list in first inner list"
   ]
  },
  {
   "cell_type": "markdown",
   "metadata": {},
   "source": [
    "## Matrix:\n",
    "A rectangular array of elements. Two dimensional lists or tuples are used to work with matrices.\n",
    "\n",
    "Each row of matrix is stored as a list\n",
    "\n",
    "Example: `matrix = [[10, 20, 30], [40, 50, 60]]`\n",
    "\n",
    "### Matrix input:\n",
    "Matrix can be taken as input using loops or list comprehension."
   ]
  },
  {
   "cell_type": "code",
   "execution_count": 2,
   "metadata": {},
   "outputs": [
    {
     "name": "stdin",
     "output_type": "stream",
     "text": [
      " 3\n",
      " 10 2 -3\n",
      " -2 1 0\n",
      " 3 9 11\n"
     ]
    },
    {
     "data": {
      "text/plain": [
       "[[10, 2, -3], [-2, 1, 0], [3, 9, 11]]"
      ]
     },
     "execution_count": 2,
     "metadata": {},
     "output_type": "execute_result"
    }
   ],
   "source": [
    "# Using loops and append function:\n",
    "matrix1 = list()\n",
    "n = int(input()) # no. of rows\n",
    "for i in range(n):\n",
    "    matrix1.append(list(map(int, input().split()))) # a row of integer input\n",
    "matrix1\n",
    "# Input: 3\n",
    "# 10 2 -3\n",
    "# -2 1 0\n",
    "# 3 9 11"
   ]
  },
  {
   "cell_type": "code",
   "execution_count": 3,
   "metadata": {},
   "outputs": [
    {
     "name": "stdin",
     "output_type": "stream",
     "text": [
      " 3\n",
      " 10 2 -3\n",
      " -2 1 0\n",
      " 3 9 11\n"
     ]
    },
    {
     "data": {
      "text/plain": [
       "[[10, 2, -3], [-2, 1, 0], [3, 9, 11]]"
      ]
     },
     "execution_count": 3,
     "metadata": {},
     "output_type": "execute_result"
    }
   ],
   "source": [
    "# Using list comprehension:\n",
    "m = int(input()) # no. of rows\n",
    "matrix2 = [ list(map(int, input().split())) for i in range(m)] # a matrix input\n",
    "matrix2\n",
    "# Input: 3\n",
    "# 10 2 -3\n",
    "# -2 1 0\n",
    "# 3 9 11"
   ]
  },
  {
   "cell_type": "markdown",
   "metadata": {},
   "source": [
    "### Output:\n",
    "Output is printed using for loop"
   ]
  },
  {
   "cell_type": "code",
   "execution_count": 4,
   "metadata": {},
   "outputs": [
    {
     "name": "stdout",
     "output_type": "stream",
     "text": [
      "1 2\n",
      "4 3\n"
     ]
    }
   ],
   "source": [
    "# Using iterable:\n",
    "matrix3 = [[1, 2],[4, 3]] # A 2x2 matrix \n",
    "for i in matrix3:\n",
    "    print(*i)"
   ]
  },
  {
   "cell_type": "code",
   "execution_count": 5,
   "metadata": {},
   "outputs": [
    {
     "name": "stdout",
     "output_type": "stream",
     "text": [
      "1 2\n",
      "4 3\n"
     ]
    }
   ],
   "source": [
    "# Using range:\n",
    "matrix3 = [[1, 2],[4, 3]] # A 2x2 matrix \n",
    "for i in range(len(matrix3)):\n",
    "    print(*matrix3[i])"
   ]
  },
  {
   "cell_type": "code",
   "execution_count": 6,
   "metadata": {},
   "outputs": [
    {
     "name": "stdout",
     "output_type": "stream",
     "text": [
      "1 2 \n",
      "4 3 \n"
     ]
    }
   ],
   "source": [
    "# Using nested loop:\n",
    "matrix3 = [[1, 2],[4, 3]] # A 2x2 matrix \n",
    "for i in range(len(matrix3)):\n",
    "    for j in range(len(matrix3[0])):\n",
    "        print(matrix3[i][j], end=' ')\n",
    "    print()"
   ]
  },
  {
   "cell_type": "markdown",
   "metadata": {},
   "source": [
    "## Stack:\n",
    "A data type where elements are arranged such that the elements can only be added to and removed from the last.  \n",
    "It follows the principle *FILO* - First In Last Out\n",
    "\n",
    "**Methods used:** append() and pop()"
   ]
  },
  {
   "cell_type": "markdown",
   "metadata": {},
   "source": [
    "## Queue\n",
    "A data type where elements are arranged such that the elements can only be added to the last and removed from the first.  \n",
    "It follows the principle *FIFO* - First In First Out\n",
    "\n",
    "**Methods Used:** append() and pop(0)"
   ]
  },
  {
   "cell_type": "markdown",
   "metadata": {},
   "source": [
    "## Mutability:\n",
    "It is the ability to change the value of an element in a Data structure during execution.\n",
    "\n",
    "### 1. Mutables:\n",
    "1. List\n",
    "2. Dictionary\n",
    "\n",
    "### 2. Immutable:\n",
    "1. Tuple\n",
    "2. String\n",
    "3. Sets"
   ]
  },
  {
   "cell_type": "markdown",
   "metadata": {},
   "source": [
    "## Working with lists:\n",
    "\n",
    "1. Concatenation\n",
    "2. Appending\n",
    "3. Multiplication"
   ]
  },
  {
   "cell_type": "markdown",
   "metadata": {},
   "source": [
    "### 1. Concatenation:\n",
    "Two lists can be concatenated by using '+' operator."
   ]
  },
  {
   "cell_type": "code",
   "execution_count": 2,
   "metadata": {},
   "outputs": [
    {
     "data": {
      "text/plain": [
       "['list', 'Concatenation']"
      ]
     },
     "execution_count": 2,
     "metadata": {},
     "output_type": "execute_result"
    }
   ],
   "source": [
    "l1 = ['list']\n",
    "l2 = ['Concatenation']\n",
    "l1 + l2 # Concatenation"
   ]
  },
  {
   "cell_type": "markdown",
   "metadata": {},
   "source": [
    "### 2. Appending:\n",
    "A list can be appended to string using '+=' operator or by reassignment."
   ]
  },
  {
   "cell_type": "code",
   "execution_count": 3,
   "metadata": {},
   "outputs": [
    {
     "data": {
      "text/plain": [
       "['Let', 's']"
      ]
     },
     "execution_count": 3,
     "metadata": {},
     "output_type": "execute_result"
    }
   ],
   "source": [
    "l3 = ['Let']\n",
    "ch = ['s']\n",
    "l3 += ch # str3 = str3 + ch\n",
    "l3"
   ]
  },
  {
   "cell_type": "markdown",
   "metadata": {},
   "source": [
    "### 3. List Multiplication:\n",
    "List multiplication results a list with repitition. It can be done using ' * ' operator."
   ]
  },
  {
   "cell_type": "code",
   "execution_count": 5,
   "metadata": {},
   "outputs": [
    {
     "data": {
      "text/plain": [
       "['Namaste ',\n",
       " 'Hello',\n",
       " 'Namaste ',\n",
       " 'Hello',\n",
       " 'Namaste ',\n",
       " 'Hello',\n",
       " 'Namaste ',\n",
       " 'Hello',\n",
       " 'Namaste ',\n",
       " 'Hello']"
      ]
     },
     "execution_count": 5,
     "metadata": {},
     "output_type": "execute_result"
    }
   ],
   "source": [
    "l4 = ['Namaste ', 'Hello']\n",
    "l4*5"
   ]
  }
 ],
 "metadata": {
  "kernelspec": {
   "display_name": "Python 3",
   "language": "python",
   "name": "python3"
  },
  "language_info": {
   "codemirror_mode": {
    "name": "ipython",
    "version": 3
   },
   "file_extension": ".py",
   "mimetype": "text/x-python",
   "name": "python",
   "nbconvert_exporter": "python",
   "pygments_lexer": "ipython3",
   "version": "3.8.6"
  }
 },
 "nbformat": 4,
 "nbformat_minor": 4
}
