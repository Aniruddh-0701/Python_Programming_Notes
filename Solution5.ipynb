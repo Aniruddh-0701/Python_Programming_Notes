{
 "cells": [
  {
   "cell_type": "markdown",
   "metadata": {},
   "source": [
    "# Solution for [Code Practice 5](Practice_code5.md)"
   ]
  },
  {
   "cell_type": "code",
   "execution_count": 1,
   "metadata": {},
   "outputs": [
    {
     "name": "stdin",
     "output_type": "stream",
     "text": [
      " 3\n",
      " 5\n",
      " 2\n",
      " -20\n"
     ]
    },
    {
     "name": "stdout",
     "output_type": "stream",
     "text": [
      "[5, 2, -20]\n"
     ]
    }
   ],
   "source": [
    "# Question 1:\n",
    "n = int(input())\n",
    "list1 = list()\n",
    "for i in range(n):\n",
    "    list1.append(int(input()))\n",
    "print(list1)\n",
    "\n",
    "# Input: 3\n",
    "# 5\n",
    "# 2\n",
    "# -20"
   ]
  },
  {
   "cell_type": "code",
   "execution_count": 2,
   "metadata": {},
   "outputs": [
    {
     "name": "stdin",
     "output_type": "stream",
     "text": [
      " 4\n",
      " 4\n",
      " 9 13 5 2\n",
      " 1 11 7 6\n",
      " 3 7 4 1\n",
      " 6 0 7 10 \n",
      " -2 4 7 31\n",
      " 6 9 12 6\n",
      " 12 11 0 1\n",
      " 9 10 2 3\n"
     ]
    },
    {
     "name": "stdout",
     "output_type": "stream",
     "text": [
      "7 17 12 33 \n",
      "7 20 19 12 \n",
      "15 18 4 2 \n",
      "15 10 9 13 \n"
     ]
    }
   ],
   "source": [
    "# Question 19\n",
    "r = int(input())\n",
    "c = int(input())\n",
    "\n",
    "matrix1 = [list(map(int,input().split())) for i in range(r)]\n",
    "matrix2 = [list(map(int,input().split())) for i in range(r)]\n",
    "\n",
    "for i in range(r): \n",
    "    for j in range(c): \n",
    "        print(matrix1[i][j] + matrix2[i][j], end=\" \")  \n",
    "    print()"
   ]
  },
  {
   "cell_type": "code",
   "execution_count": 1,
   "metadata": {},
   "outputs": [
    {
     "name": "stdin",
     "output_type": "stream",
     "text": [
      " 4\n",
      " 4\n",
      " 9 13 5 2\n",
      " 1 11 7 6\n",
      " 3 7 4 1\n",
      " 6 0 7 10\n",
      " -2 4 7 31\n",
      " 6 9 12 6\n",
      " 12 11 0 1\n",
      " 9 10 2 3\n",
      " 0 2 8 6\n",
      " 3 7 1 0\n",
      " 0 0 1 2\n",
      " 10 1 0 11\n"
     ]
    },
    {
     "name": "stdout",
     "output_type": "stream",
     "text": [
      "7 19 20 39 \n",
      "10 27 20 12 \n",
      "15 18 5 4 \n",
      "25 11 9 24 \n"
     ]
    }
   ],
   "source": [
    "# Question 20\n",
    "r = int(input())\n",
    "c = int(input())\n",
    "\n",
    "matrix1 = [list(map(int,input().split())) for i in range(r)] \n",
    "matrix2 = [list(map(int,input().split())) for i in range(r)]  \n",
    "matrix3 = [list(map(int,input().split())) for i in range(r)]\n",
    "\n",
    "for i in range(r): \n",
    "    for j in range(c): \n",
    "        print(matrix1[i][j] + matrix2[i][j] + matrix3[i][j], end=\" \")  \n",
    "    print()"
   ]
  }
 ],
 "metadata": {
  "kernelspec": {
   "display_name": "Python 3",
   "language": "python",
   "name": "python3"
  },
  "language_info": {
   "codemirror_mode": {
    "name": "ipython",
    "version": 3
   },
   "file_extension": ".py",
   "mimetype": "text/x-python",
   "name": "python",
   "nbconvert_exporter": "python",
   "pygments_lexer": "ipython3",
   "version": "3.8.6"
  }
 },
 "nbformat": 4,
 "nbformat_minor": 4
}
