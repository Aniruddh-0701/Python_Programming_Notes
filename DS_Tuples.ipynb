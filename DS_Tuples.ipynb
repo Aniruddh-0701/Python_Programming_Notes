{
 "cells": [
  {
   "cell_type": "markdown",
   "metadata": {},
   "source": [
    "# Data Structures or Derived data Types in Python:\n",
    "\n",
    "Storing multiple values of same or different types under a single name.\n",
    "They are collection of data.\n",
    "\n",
    "1. List\n",
    "2. Tuple\n",
    "3. String\n",
    "4. Dictionary\n",
    "5. Set  \n",
    "In this notebook, we'll discuss indepth on Tuples"
   ]
  },
  {
   "cell_type": "markdown",
   "metadata": {},
   "source": [
    "## Tuple:\n",
    "Tuples are ordered collection of data. Unlike Lists they are immutable.\n",
    "Represented by square brackets '( )'  \n",
    "`tuple : (10, 20, 30, 'Hello', -2.0)`\n",
    "\n",
    "Each value in the tuple is called a element  \n",
    "order of elements: index of element  \n",
    "Index - may be positive or negative  \n",
    "\n",
    "|Order (element) | First | Second | Third |...|Last|  \n",
    "|---|---|---|---|---|---|  \n",
    "|Positive Index| 0| 1| 2| ...| n-1|  \n",
    "|Negative Index| -n| -n+1| -n+2| ...| -1|  "
   ]
  },
  {
   "cell_type": "markdown",
   "metadata": {},
   "source": [
    "## Defining a tuple:\n",
    "\n",
    "1. '( )'\n",
    "2. tuple()\n",
    "\n",
    "### 1. '( )'\n",
    "l = (10, 20, 30)\n",
    "### 2. tuple()\n",
    "Syntax: `tuple(iterable = None)`  \n",
    "iterable: any data structures listed above  "
   ]
  },
  {
   "cell_type": "markdown",
   "metadata": {},
   "source": [
    "## Working with lists:\n",
    "\n",
    "1. Concatenation\n",
    "2. Appending\n",
    "3. Multiplication"
   ]
  },
  {
   "cell_type": "markdown",
   "metadata": {},
   "source": [
    "### 1. Concatenation:\n",
    "Two tuples can be concatenated by using '+' operator."
   ]
  },
  {
   "cell_type": "markdown",
   "metadata": {},
   "source": [
    "### 2. Appending:\n",
    "A tuples can be appended to string using '+=' operator or by reassignment."
   ]
  },
  {
   "cell_type": "markdown",
   "metadata": {},
   "source": [
    "### 3. Tuple Multiplication:\n",
    "Tuple multiplication results a new tuple with repitition. It can be done using ' * ' operator."
   ]
  },
  {
   "cell_type": "markdown",
   "metadata": {},
   "source": [
    "## Methods or Functions in list:\n",
    "There are various methods or functions that are used to work on lists.  \n",
    "\n",
    "1. map\n",
    "5. filter\n",
    "7. sorted\n",
    "9. index\n",
    "11. reduce\n",
    "12. reversed\n",
    "13. len\n",
    "14. count\n",
    "15. sum\n",
    "16. max\n",
    "17. min\n",
    "18. enumerate\n",
    "20. zip"
   ]
  },
  {
   "cell_type": "code",
   "execution_count": null,
   "metadata": {},
   "outputs": [],
   "source": []
  },
  {
   "cell_type": "markdown",
   "metadata": {},
   "source": [
    "## Accessing Elements in a tuple:\n",
    "\n",
    "Elements of a tuple can be accessed using index.\n",
    "\n",
    "*Example:*  \n",
    "Consider a tuple, `t = (10, 20, 30, 40, 50])`. Length = 5\n",
    "\n",
    "| Element | 10 | 20 | 30 | 40 | 50 |  \n",
    "|---|---|---|---|---|---|  \n",
    "|Position| 1| 2| 3| 4| 5|  \n",
    "|Positive Index| 0 | 1 | 2 | 3 | 4 |  \n",
    "|Negative Index| -5 | -4 | -3 | -2 | -1|  \n",
    "\n",
    "Calling $i^{th}$ element:   \n",
    "positive index: t [i-1]  \n",
    "negative index: t [i - 1 - length]"
   ]
  },
  {
   "cell_type": "markdown",
   "metadata": {},
   "source": [
    "## Slicing operator:\n",
    "Used to get / set a sublist of a list. Denoted by '[ ]'\n",
    "\n",
    "Syntax: `tuple_name[start = 0 : stop = length : step = 1]`"
   ]
  },
  {
   "cell_type": "markdown",
   "metadata": {},
   "source": [
    "## Printing the elements in a tuples:\n",
    "1. Using loops\n",
    "2. Using Variable length argument ( * )\n",
    "\n",
    "### 1. Looping:\n",
    "Use for or while loop to access elements.\n",
    "\n",
    "### 2. Using * :\n",
    "Using * will convert the tuple elements into individual arguments of print method"
   ]
  },
  {
   "cell_type": "markdown",
   "metadata": {},
   "source": [
    "## List Comprehension: \n",
    "It follows the form of the mathematical set-builder notation unlike the use of map and filter functions. It is used to create lists from either an existing like or a completely new list.\n",
    " \n",
    "Set bulider form:\n",
    "{$x: x ~\\rm{\\epsilon~ list}$}  \n",
    "Example: `list1 = [expression (loops)]`"
   ]
  },
  {
   "cell_type": "markdown",
   "metadata": {},
   "source": [
    "## List Aliasing:\n",
    "Aliasing a list variable with another name. Referring a single list by multiple names.  \n",
    "Syntax: `new_name = old_name`"
   ]
  },
  {
   "cell_type": "markdown",
   "metadata": {},
   "source": [
    "## Multi-dimensional lists or matrices:\n",
    "Lists in a list is called a multidimensional list or nested lists. They are generally used to work with matrices.\n",
    "\n",
    "Example: `list = [[10, 20, 30], [40, 50, 60]]` - Two dimensional list\n",
    "\n",
    "### Accessing elements using index:\n",
    "Syntax: `list_name[outermost list index][inner list index]...`"
   ]
  },
  {
   "cell_type": "markdown",
   "metadata": {},
   "source": [
    "## Matrix:\n",
    "A rectangular array of elements. Two dimensional lists or tuples are used to work with matrices.\n",
    "\n",
    "Each row of matrix is stored as a list\n",
    "\n",
    "Example: `matrix = [[10, 20, 30], [40, 50, 60]]`\n",
    "\n",
    "### Matrix input:\n",
    "Matrix can be taken as input using loops or list comprehension."
   ]
  },
  {
   "cell_type": "markdown",
   "metadata": {},
   "source": [
    "### Output:\n",
    "Output is printed using for loop"
   ]
  },
  {
   "cell_type": "markdown",
   "metadata": {},
   "source": [
    "## Variable length argument Tuples:"
   ]
  },
  {
   "cell_type": "markdown",
   "metadata": {},
   "source": [
    "## Gather vs Scatter:"
   ]
  }
 ],
 "metadata": {
  "kernelspec": {
   "display_name": "Python 3",
   "language": "python",
   "name": "python3"
  },
  "language_info": {
   "codemirror_mode": {
    "name": "ipython",
    "version": 3
   },
   "file_extension": ".py",
   "mimetype": "text/x-python",
   "name": "python",
   "nbconvert_exporter": "python",
   "pygments_lexer": "ipython3",
   "version": "3.8.6"
  }
 },
 "nbformat": 4,
 "nbformat_minor": 4
}
