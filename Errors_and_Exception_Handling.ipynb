{
 "cells": [
  {
   "cell_type": "markdown",
   "id": "199a314e-264d-40a7-9acc-cf6e1843dba7",
   "metadata": {},
   "source": [
    "# Errors and Exception"
   ]
  },
  {
   "cell_type": "markdown",
   "id": "e6044ca7-f38b-492b-b869-23f5409ac9e1",
   "metadata": {},
   "source": [
    "## Error:\n",
    "\n",
    "Errors are the problems in a program due to which the program will stop the execution.\n",
    "\n",
    "[Some Common Errors](https://www.thecrazyprogrammer.com/2014/08/types-of-errors-in-programming.html)\n",
    "\n",
    "1. Syntax Errors\n",
    "2. Run-time Errors\n",
    "3. Logical Errors\n",
    "4. Latent Errors"
   ]
  },
  {
   "cell_type": "code",
   "execution_count": 10,
   "id": "35bf50f2-6901-4407-a684-415f7ba3f569",
   "metadata": {},
   "outputs": [
    {
     "name": "stdout",
     "output_type": "stream",
     "text": [
      "ArithmeticError\n",
      "AssertionError\n",
      "AttributeError\n",
      "BlockingIOError\n",
      "BrokenPipeError\n",
      "BufferError\n",
      "ChildProcessError\n",
      "ConnectionAbortedError\n",
      "ConnectionError\n",
      "ConnectionRefusedError\n",
      "ConnectionResetError\n",
      "EOFError\n",
      "EnvironmentError\n",
      "FileExistsError\n",
      "FileNotFoundError\n",
      "FloatingPointError\n",
      "IOError\n",
      "ImportError\n",
      "IndentationError\n",
      "IndexError\n",
      "InterruptedError\n",
      "IsADirectoryError\n",
      "KeyError\n",
      "LookupError\n",
      "MemoryError\n",
      "ModuleNotFoundError\n",
      "NameError\n",
      "NotADirectoryError\n",
      "NotImplementedError\n",
      "OSError\n",
      "OverflowError\n",
      "PermissionError\n",
      "ProcessLookupError\n",
      "RecursionError\n",
      "ReferenceError\n",
      "RuntimeError\n",
      "SyntaxError\n",
      "SystemError\n",
      "TabError\n",
      "TimeoutError\n",
      "TypeError\n",
      "UnboundLocalError\n",
      "UnicodeDecodeError\n",
      "UnicodeEncodeError\n",
      "UnicodeError\n",
      "UnicodeTranslateError\n",
      "ValueError\n",
      "WindowsError\n",
      "ZeroDivisionError\n",
      "ArithmeticError\n",
      "AssertionError\n",
      "AttributeError\n",
      "BlockingIOError\n",
      "BrokenPipeError\n",
      "BufferError\n",
      "ChildProcessError\n",
      "ConnectionAbortedError\n",
      "ConnectionError\n",
      "ConnectionRefusedError\n",
      "ConnectionResetError\n",
      "EOFError\n",
      "EnvironmentError\n",
      "FileExistsError\n",
      "FileNotFoundError\n",
      "FloatingPointError\n",
      "IOError\n",
      "ImportError\n",
      "IndentationError\n",
      "IndexError\n",
      "InterruptedError\n",
      "IsADirectoryError\n",
      "KeyError\n",
      "LookupError\n",
      "MemoryError\n",
      "ModuleNotFoundError\n",
      "NameError\n",
      "NotADirectoryError\n",
      "NotImplementedError\n",
      "OSError\n",
      "OverflowError\n",
      "PermissionError\n",
      "ProcessLookupError\n",
      "RecursionError\n",
      "ReferenceError\n",
      "RuntimeError\n",
      "SyntaxError\n",
      "SystemError\n",
      "TabError\n",
      "TimeoutError\n",
      "TypeError\n",
      "UnboundLocalError\n",
      "UnicodeDecodeError\n",
      "UnicodeEncodeError\n",
      "UnicodeError\n",
      "UnicodeTranslateError\n",
      "ValueError\n",
      "WindowsError\n",
      "ZeroDivisionError\n"
     ]
    }
   ],
   "source": [
    "# list of Errors and exceptions\n",
    "for i in dir(__builtins__) + dir(__builtin__):\n",
    "    if \"Error\" in i:\n",
    "        print(i)"
   ]
  },
  {
   "cell_type": "markdown",
   "id": "de9d7e7b-70f5-444f-88b5-a1f77d213d76",
   "metadata": {},
   "source": [
    "## Exception:\n",
    "\n",
    "Exceptions are raised when the some internal events occur which changes the normal flow of the program."
   ]
  },
  {
   "cell_type": "code",
   "execution_count": 9,
   "id": "2b604b7f-9acf-4196-9ce3-45214b38adc8",
   "metadata": {},
   "outputs": [
    {
     "name": "stdout",
     "output_type": "stream",
     "text": [
      "BaseException\n",
      "Exception\n",
      "BaseException\n",
      "Exception\n"
     ]
    }
   ],
   "source": [
    "# list of Errors and exceptions\n",
    "for i in dir(__builtins__) + dir(__builtin__):\n",
    "    if \"Exception\" in i:\n",
    "        print(i)"
   ]
  },
  {
   "cell_type": "markdown",
   "id": "4e8439e0-145b-46a5-9f3f-4624aa99b605",
   "metadata": {},
   "source": [
    "## Traceback\n",
    "The script used below is present [here](Errors_and_Exception.py)"
   ]
  },
  {
   "cell_type": "code",
   "execution_count": 11,
   "id": "5e69d208-e867-431e-a8b1-58669ad3a798",
   "metadata": {},
   "outputs": [
    {
     "name": "stdout",
     "output_type": "stream",
     "text": [
      "In a\n",
      "In b\n"
     ]
    },
    {
     "ename": "ZeroDivisionError",
     "evalue": "division by zero",
     "output_type": "error",
     "traceback": [
      "\u001b[1;31m---------------------------------------------------------------------------\u001b[0m",
      "\u001b[1;31mZeroDivisionError\u001b[0m                         Traceback (most recent call last)",
      "\u001b[1;32m<ipython-input-11-cabfeb6b5ae6>\u001b[0m in \u001b[0;36m<module>\u001b[1;34m\u001b[0m\n\u001b[0;32m      8\u001b[0m     \u001b[1;32mreturn\u001b[0m \u001b[1;36m42\u001b[0m\u001b[1;33m/\u001b[0m\u001b[1;36m0\u001b[0m\u001b[1;33m\u001b[0m\u001b[1;33m\u001b[0m\u001b[0m\n\u001b[0;32m      9\u001b[0m \u001b[1;33m\u001b[0m\u001b[0m\n\u001b[1;32m---> 10\u001b[1;33m \u001b[0ma\u001b[0m\u001b[1;33m(\u001b[0m\u001b[1;33m)\u001b[0m\u001b[1;33m\u001b[0m\u001b[1;33m\u001b[0m\u001b[0m\n\u001b[0m",
      "\u001b[1;32m<ipython-input-11-cabfeb6b5ae6>\u001b[0m in \u001b[0;36ma\u001b[1;34m()\u001b[0m\n\u001b[0;32m      1\u001b[0m \u001b[1;32mdef\u001b[0m \u001b[0ma\u001b[0m\u001b[1;33m(\u001b[0m\u001b[1;33m)\u001b[0m\u001b[1;33m:\u001b[0m\u001b[1;33m\u001b[0m\u001b[1;33m\u001b[0m\u001b[0m\n\u001b[0;32m      2\u001b[0m     \u001b[0mprint\u001b[0m\u001b[1;33m(\u001b[0m\u001b[1;34m\"In a\"\u001b[0m\u001b[1;33m)\u001b[0m\u001b[1;33m\u001b[0m\u001b[1;33m\u001b[0m\u001b[0m\n\u001b[1;32m----> 3\u001b[1;33m     \u001b[0mb\u001b[0m\u001b[1;33m(\u001b[0m\u001b[1;33m)\u001b[0m\u001b[1;33m\u001b[0m\u001b[1;33m\u001b[0m\u001b[0m\n\u001b[0m\u001b[0;32m      4\u001b[0m     \u001b[0mprint\u001b[0m\u001b[1;33m(\u001b[0m\u001b[1;34m\"Back in a\"\u001b[0m\u001b[1;33m)\u001b[0m\u001b[1;33m\u001b[0m\u001b[1;33m\u001b[0m\u001b[0m\n\u001b[0;32m      5\u001b[0m \u001b[1;33m\u001b[0m\u001b[0m\n",
      "\u001b[1;32m<ipython-input-11-cabfeb6b5ae6>\u001b[0m in \u001b[0;36mb\u001b[1;34m()\u001b[0m\n\u001b[0;32m      6\u001b[0m \u001b[1;32mdef\u001b[0m \u001b[0mb\u001b[0m\u001b[1;33m(\u001b[0m\u001b[1;33m)\u001b[0m\u001b[1;33m:\u001b[0m\u001b[1;33m\u001b[0m\u001b[1;33m\u001b[0m\u001b[0m\n\u001b[0;32m      7\u001b[0m     \u001b[0mprint\u001b[0m\u001b[1;33m(\u001b[0m\u001b[1;34m\"In b\"\u001b[0m\u001b[1;33m)\u001b[0m\u001b[1;33m\u001b[0m\u001b[1;33m\u001b[0m\u001b[0m\n\u001b[1;32m----> 8\u001b[1;33m     \u001b[1;32mreturn\u001b[0m \u001b[1;36m42\u001b[0m\u001b[1;33m/\u001b[0m\u001b[1;36m0\u001b[0m\u001b[1;33m\u001b[0m\u001b[1;33m\u001b[0m\u001b[0m\n\u001b[0m\u001b[0;32m      9\u001b[0m \u001b[1;33m\u001b[0m\u001b[0m\n\u001b[0;32m     10\u001b[0m \u001b[0ma\u001b[0m\u001b[1;33m(\u001b[0m\u001b[1;33m)\u001b[0m\u001b[1;33m\u001b[0m\u001b[1;33m\u001b[0m\u001b[0m\n",
      "\u001b[1;31mZeroDivisionError\u001b[0m: division by zero"
     ]
    }
   ],
   "source": [
    "def a():\n",
    "    print(\"In a\")\n",
    "    b()\n",
    "    print(\"Back in a\")\n",
    "\n",
    "def b():\n",
    "    print(\"In b\")\n",
    "    return 42/0\n",
    "\n",
    "a() "
   ]
  },
  {
   "cell_type": "markdown",
   "id": "8eb6ab0f-114b-49d8-8c74-e2739fb27edf",
   "metadata": {},
   "source": [
    "## Exception Handling:\n",
    "\n",
    "Marking the error-prone zone and controlling what happens when an error / exception is raised is Exception Handling.\n",
    "\n",
    "In python, Exception Handling can be done using the following:\n",
    "\n",
    "1. *try* block\n",
    "2. *except* block\n",
    "3. *else* block\n",
    "4. *finally* block\n",
    "\n",
    "Syntax:\n",
    "```python\n",
    "try:\n",
    "    # Statements - Critical or Error Prone statements\n",
    "except ErrorOrExceptionType:\n",
    "    # Statements - What to do to handle errors\n",
    "else:\n",
    "    # Statements - What to do when error is not encountered\n",
    "finally:\n",
    "    # Statements - What to do at the end of Exception Handling\n",
    "```"
   ]
  },
  {
   "cell_type": "markdown",
   "id": "a8ee09fb-d589-4813-b9d2-79c0b12ee419",
   "metadata": {},
   "source": [
    "### 1. *try* block:\n",
    "\n",
    "The critical operation that might not work as indented or may malfunction is enclosed in the `try` block. If the statement(s) raise any Error, the execution proceeding in the try block is terminated and moved to `except` block\n",
    "```python\n",
    "try:\n",
    "    # Statement(s) that may cause Errors\n",
    "```"
   ]
  },
  {
   "cell_type": "markdown",
   "id": "02ec15b9-b1cc-4b32-93d8-edaf77014593",
   "metadata": {},
   "source": [
    "### 2. *except* block\n",
    "\n",
    "The `except` block accepts the error/exception call and works as intended. The except block is used to filter the error that is anticipated.\n",
    "```python\n",
    "except ErrorOrException:\n",
    "```\n",
    "The proper way of defining the except block is as above.  \n",
    "Though leaving out the Error name part works fine, it may cause a lot of confusion in many cases and is not recommended\n",
    "```python\n",
    "except: # Not recommended for use\n",
    "```"
   ]
  },
  {
   "cell_type": "code",
   "execution_count": 2,
   "id": "814e2f34-6404-48a8-8125-7f4b1e6548a9",
   "metadata": {},
   "outputs": [
    {
     "name": "stdin",
     "output_type": "stream",
     "text": [
      " 123\n"
     ]
    },
    {
     "name": "stdout",
     "output_type": "stream",
     "text": [
      "Error occurred\n"
     ]
    }
   ],
   "source": [
    "# Example\n",
    "try:\n",
    "    n = input()\n",
    "    print(n / 10)\n",
    "except TypeError:\n",
    "    print(\"Error occurred\")"
   ]
  },
  {
   "cell_type": "code",
   "execution_count": 3,
   "id": "64e4accd-13a0-4eaa-bcc4-79f693529c18",
   "metadata": {},
   "outputs": [
    {
     "name": "stdin",
     "output_type": "stream",
     "text": [
      " 159\n"
     ]
    },
    {
     "name": "stdout",
     "output_type": "stream",
     "text": [
      "Error occurred\n"
     ]
    }
   ],
   "source": [
    "# Example - not recommended\n",
    "try:\n",
    "    n = input()\n",
    "    print(n / 10)\n",
    "except: # Don't do it this way\n",
    "    print(\"Error occurred\")"
   ]
  },
  {
   "cell_type": "markdown",
   "id": "71a9426e-ce09-4b2e-8189-88ab2b1b0267",
   "metadata": {},
   "source": [
    "### 3. *else* block\n",
    "\n",
    "If there is no error in the code inside `try` block, the `except` block is skipped and the `else` block is executed.\n",
    "\n",
    "```python\n",
    "else:\n",
    "    # Statement(s) to run when no error is caused\n",
    "```"
   ]
  },
  {
   "cell_type": "code",
   "execution_count": 6,
   "id": "ed6c5684-0c6a-435e-b694-b05a10caa1fc",
   "metadata": {},
   "outputs": [
    {
     "name": "stdin",
     "output_type": "stream",
     "text": [
      " 10\n"
     ]
    },
    {
     "name": "stdout",
     "output_type": "stream",
     "text": [
      "1.0\n",
      "Safe\n"
     ]
    }
   ],
   "source": [
    "# Example\n",
    "try:\n",
    "    n = int(input())\n",
    "    print(10 / n)\n",
    "except ZeroDivisionError: # Catch when there is division by zero (0)\n",
    "    print(\"Error occurred\")\n",
    "else:\n",
    "    print(\"Safe\")"
   ]
  },
  {
   "cell_type": "markdown",
   "id": "fb3ba86d-87ff-4c4e-96a8-454f73384a28",
   "metadata": {},
   "source": [
    "### 4. *finally* block\n",
    "This block is executed at all cases, whether or not an error is encountered inside the `try` block\n",
    "```python\n",
    "finally:\n",
    "    # Statement(s)\n",
    "```"
   ]
  },
  {
   "cell_type": "code",
   "execution_count": 1,
   "id": "4d11fabc-2543-4492-9461-ee17fecdea37",
   "metadata": {},
   "outputs": [
    {
     "name": "stdin",
     "output_type": "stream",
     "text": [
      " 0\n"
     ]
    },
    {
     "name": "stdout",
     "output_type": "stream",
     "text": [
      "Error occurred\n",
      "End of Program\n"
     ]
    }
   ],
   "source": [
    "# Example\n",
    "try:\n",
    "    n = int(input())\n",
    "    print(10 / n)\n",
    "except ZeroDivisionError: # Catch when there is division by zero (0)\n",
    "    print(\"Error occurred\")\n",
    "else:\n",
    "    print(\"Safe\")\n",
    "finally:\n",
    "    print(\"End of Program\")"
   ]
  },
  {
   "cell_type": "markdown",
   "id": "fdef2ae9-2552-4a7f-b0b6-151210bb1edf",
   "metadata": {},
   "source": [
    "#### *as* keyword in *except*\n",
    "\n",
    "Almost any case of exceptions returns a message about the cause of the error. The above defined method does not get the message for use.  \n",
    "\n",
    "Using `as` keyword, the error message can stored in a variable for use inside the `except` block.\n",
    "```python\n",
    "except ErrorOrException as err:\n",
    "    # Statement(s)\n",
    "```"
   ]
  },
  {
   "cell_type": "code",
   "execution_count": 2,
   "id": "e01e2dfd-1c55-401e-9190-446b95be8bc3",
   "metadata": {},
   "outputs": [
    {
     "name": "stdin",
     "output_type": "stream",
     "text": [
      " 0\n"
     ]
    },
    {
     "name": "stdout",
     "output_type": "stream",
     "text": [
      "Error occurred - division by zero\n",
      "End of Program\n"
     ]
    }
   ],
   "source": [
    "# Example\n",
    "try:\n",
    "    n = int(input())\n",
    "    print(10 / n)\n",
    "except ZeroDivisionError as e: # Catch when there is division by zero (0)\n",
    "    print(\"Error occurred -\", e) \n",
    "    # The message 'division by zero' is stored in e for use in the except block\n",
    "else:\n",
    "    print(\"Safe\")\n",
    "finally:\n",
    "    print(\"End of Program\")"
   ]
  },
  {
   "cell_type": "markdown",
   "id": "86e73074-5ef3-4e6c-989b-0da629ba7aa6",
   "metadata": {},
   "source": [
    "## Intentionally Raising an Exception:\n",
    "Python allows you to intentionally raise an exceptio at some cases using *raise* keyword.\n",
    "\n",
    "Syntax:\n",
    "```python\n",
    "raise ExceptionName(\"Message\")\n",
    "```\n",
    "\n",
    "It is important to note that the exception following the `raise` keyword should either be an instance of a built-in exception or a class inheriting the same (Custom Exception)."
   ]
  },
  {
   "cell_type": "code",
   "execution_count": 5,
   "id": "5cd07aff-ee0b-48ef-9e54-e9d2bc6bb928",
   "metadata": {},
   "outputs": [
    {
     "name": "stdin",
     "output_type": "stream",
     "text": [
      "Enter temperature in Kelvin -1\n"
     ]
    },
    {
     "ename": "ValueError",
     "evalue": "The minimum temperature in Kelvin is absolute zero (0)",
     "output_type": "error",
     "traceback": [
      "\u001b[1;31m---------------------------------------------------------------------------\u001b[0m",
      "\u001b[1;31mValueError\u001b[0m                                Traceback (most recent call last)",
      "\u001b[1;32m<ipython-input-5-22271cc26b98>\u001b[0m in \u001b[0;36m<module>\u001b[1;34m\u001b[0m\n\u001b[0;32m      2\u001b[0m \u001b[0mt\u001b[0m \u001b[1;33m=\u001b[0m \u001b[0mint\u001b[0m\u001b[1;33m(\u001b[0m\u001b[0minput\u001b[0m\u001b[1;33m(\u001b[0m\u001b[1;34m\"Enter temperature in Kelvin\"\u001b[0m\u001b[1;33m)\u001b[0m\u001b[1;33m)\u001b[0m\u001b[1;33m\u001b[0m\u001b[1;33m\u001b[0m\u001b[0m\n\u001b[0;32m      3\u001b[0m \u001b[1;32mif\u001b[0m \u001b[0mt\u001b[0m \u001b[1;33m<\u001b[0m \u001b[1;36m0\u001b[0m\u001b[1;33m:\u001b[0m\u001b[1;33m\u001b[0m\u001b[1;33m\u001b[0m\u001b[0m\n\u001b[1;32m----> 4\u001b[1;33m     \u001b[1;32mraise\u001b[0m \u001b[0mValueError\u001b[0m\u001b[1;33m(\u001b[0m\u001b[1;34m\"The minimum temperature in Kelvin is absolute zero (0)\"\u001b[0m\u001b[1;33m)\u001b[0m\u001b[1;33m\u001b[0m\u001b[1;33m\u001b[0m\u001b[0m\n\u001b[0m\u001b[0;32m      5\u001b[0m \u001b[1;32melse\u001b[0m\u001b[1;33m:\u001b[0m\u001b[1;33m\u001b[0m\u001b[1;33m\u001b[0m\u001b[0m\n\u001b[0;32m      6\u001b[0m     \u001b[0mprint\u001b[0m\u001b[1;33m(\u001b[0m\u001b[0mt\u001b[0m \u001b[1;33m-\u001b[0m \u001b[1;36m273.15\u001b[0m\u001b[1;33m)\u001b[0m\u001b[1;33m\u001b[0m\u001b[1;33m\u001b[0m\u001b[0m\n",
      "\u001b[1;31mValueError\u001b[0m: The minimum temperature in Kelvin is absolute zero (0)"
     ]
    }
   ],
   "source": [
    "# Example - Kelvin to Celsius Conversion\n",
    "t = int(input(\"Enter temperature in Kelvin\"))\n",
    "if t < 0:\n",
    "    raise ValueError(\"The minimum temperature in Kelvin is absolute zero (0)\")\n",
    "else:\n",
    "    print(t - 273.15)"
   ]
  },
  {
   "cell_type": "markdown",
   "id": "7172133c-191e-4ae3-8fe0-7c9feb3c09e9",
   "metadata": {},
   "source": [
    "## Assertion statement:\n",
    "\n",
    "An assertion is a sanity-check that you can turn on or turn off for testing your program.\n",
    "\n",
    "The easiest way to think of an assertion is to liken it to a `raise-if` statement (or to be more accurate, a raise-if-not statement). An expression or condition is tested, and if the result comes up false, an exception is raised.\n",
    "\n",
    "### *assert* Statement:\n",
    "\n",
    "When it encounters an assert statement, Python evaluates the accompanying expression, which is hopefully true. If the expression is false, Python raises an AssertionError exception.\n",
    "\n",
    "```python\n",
    "assert expression, \"Error message\"\n",
    "```\n",
    "The `assert` statement is usually enclosed by a `try` block and the exception is handled. In some cases to terminate the execution, they may not be used."
   ]
  },
  {
   "cell_type": "code",
   "execution_count": 7,
   "id": "dacfe853-1368-42ca-a88a-a0c71d25d8bc",
   "metadata": {},
   "outputs": [
    {
     "name": "stdin",
     "output_type": "stream",
     "text": [
      "Enter temperature in Kelvin -1\n"
     ]
    },
    {
     "name": "stdout",
     "output_type": "stream",
     "text": [
      "The minimum temperature in Kelvin is absolute zero (0)\n"
     ]
    }
   ],
   "source": [
    "# Example - Kelvin to Celsius Conversion\n",
    "t = int(input(\"Enter temperature in Kelvin\"))\n",
    "try:\n",
    "    assert t > 0, \"The minimum temperature in Kelvin is absolute zero (0)\"\n",
    "except AssertionError as err:\n",
    "    print(err)\n",
    "else:\n",
    "    print(t - 273.15)"
   ]
  },
  {
   "cell_type": "markdown",
   "id": "3181c04a-2ad4-414c-9f6d-355e3dcf9aa3",
   "metadata": {},
   "source": [
    "## Creating custom Errors/Exception from built-ins:\n",
    "Python has numerous built-in exceptions that force your program to output an error when something in the program goes wrong.\n",
    "\n",
    "However, sometimes you may need to create your own custom exceptions that serve your purpose.\n",
    "\n",
    "In Python, users can define custom exceptions by creating a new class. This exception class has to be derived, either directly or indirectly, from the built-in `Exception` class. Most of the built-in exceptions are also derived from this class.\n",
    "\n",
    "```python\n",
    "class My_exception(Exception):\n",
    "    pass\n",
    "```\n",
    "To know more about classes, visit [Object Oriented Programming](OOPS.ipynb)"
   ]
  },
  {
   "cell_type": "code",
   "execution_count": 8,
   "id": "e31d9751-d85b-4a95-8832-f925e53e15a0",
   "metadata": {},
   "outputs": [
    {
     "name": "stdin",
     "output_type": "stream",
     "text": [
      " 101\n"
     ]
    },
    {
     "ename": "My_exception",
     "evalue": "Number is large",
     "output_type": "error",
     "traceback": [
      "\u001b[1;31m---------------------------------------------------------------------------\u001b[0m",
      "\u001b[1;31mMy_exception\u001b[0m                              Traceback (most recent call last)",
      "\u001b[1;32m<ipython-input-8-23cb8deef93a>\u001b[0m in \u001b[0;36m<module>\u001b[1;34m\u001b[0m\n\u001b[0;32m      4\u001b[0m \u001b[0mn\u001b[0m \u001b[1;33m=\u001b[0m \u001b[0mint\u001b[0m\u001b[1;33m(\u001b[0m\u001b[0minput\u001b[0m\u001b[1;33m(\u001b[0m\u001b[1;33m)\u001b[0m\u001b[1;33m)\u001b[0m\u001b[1;33m\u001b[0m\u001b[1;33m\u001b[0m\u001b[0m\n\u001b[0;32m      5\u001b[0m \u001b[1;32mif\u001b[0m \u001b[0mn\u001b[0m \u001b[1;33m>\u001b[0m \u001b[1;36m100\u001b[0m\u001b[1;33m:\u001b[0m\u001b[1;33m\u001b[0m\u001b[1;33m\u001b[0m\u001b[0m\n\u001b[1;32m----> 6\u001b[1;33m     \u001b[1;32mraise\u001b[0m \u001b[0mMy_exception\u001b[0m\u001b[1;33m(\u001b[0m\u001b[1;34m\"Number is large\"\u001b[0m\u001b[1;33m)\u001b[0m\u001b[1;33m\u001b[0m\u001b[1;33m\u001b[0m\u001b[0m\n\u001b[0m\u001b[0;32m      7\u001b[0m \u001b[1;32melse\u001b[0m\u001b[1;33m:\u001b[0m\u001b[1;33m\u001b[0m\u001b[1;33m\u001b[0m\u001b[0m\n\u001b[0;32m      8\u001b[0m     \u001b[0mprint\u001b[0m\u001b[1;33m(\u001b[0m\u001b[1;36m2\u001b[0m \u001b[1;33m*\u001b[0m \u001b[0mn\u001b[0m\u001b[1;33m)\u001b[0m\u001b[1;33m\u001b[0m\u001b[1;33m\u001b[0m\u001b[0m\n",
      "\u001b[1;31mMy_exception\u001b[0m: Number is large"
     ]
    }
   ],
   "source": [
    "class My_exception(Exception):\n",
    "    pass\n",
    "\n",
    "n = int(input())\n",
    "if n > 100:\n",
    "    raise My_exception(\"Number is large\")\n",
    "else:\n",
    "    print(2 * n)"
   ]
  }
 ],
 "metadata": {
  "kernelspec": {
   "display_name": "Python 3",
   "language": "python",
   "name": "python3"
  },
  "language_info": {
   "codemirror_mode": {
    "name": "ipython",
    "version": 3
   },
   "file_extension": ".py",
   "mimetype": "text/x-python",
   "name": "python",
   "nbconvert_exporter": "python",
   "pygments_lexer": "ipython3",
   "version": "3.9.6"
  }
 },
 "nbformat": 4,
 "nbformat_minor": 5
}
