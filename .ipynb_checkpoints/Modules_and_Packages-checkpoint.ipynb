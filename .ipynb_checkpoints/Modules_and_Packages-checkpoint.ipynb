{
 "cells": [
  {
   "cell_type": "markdown",
   "metadata": {},
   "source": [
    "# Modules and Packages\n",
    "Modules are files that contain functions, constants or classes that can be used with redefining them. They're generally written in C, Python or C++.\n",
    "\n",
    "Packages are folders which conatin a number of modules or packages in them."
   ]
  },
  {
   "cell_type": "markdown",
   "metadata": {},
   "source": [
    "Few built-in Modules are:\n",
    "1. math\n",
    "2. cmath\n",
    "3. sys\n",
    "4. os\n",
    "5. itertools\n",
    "6. string"
   ]
  },
  {
   "cell_type": "markdown",
   "metadata": {},
   "source": [
    "## import statement:\n",
    "The *import* keyword is used to import a module or package.\n",
    "\n",
    "Syntax: `import module_name`"
   ]
  },
  {
   "cell_type": "markdown",
   "metadata": {},
   "source": [
    "## from statement:\n",
    "The *from* keyword is used to import a specific set of functions or classes from a module.\n",
    "\n",
    "Syntax: `from module_name import function_name`"
   ]
  },
  {
   "cell_type": "markdown",
   "metadata": {},
   "source": [
    "## Importing all the functions from the module:\n",
    "To import all the functions or objects, use * .\n",
    "\n",
    "Syntax: `from module_name import *`"
   ]
  },
  {
   "cell_type": "markdown",
   "metadata": {},
   "source": [
    "## as Keyword:\n",
    "*as* Keyword is used to have a custom name for imported module or function.\n",
    "\n",
    "Syntax:  \n",
    "`import moule_name as custom_name`  \n",
    "`from module_name import function_name as custom_name`"
   ]
  },
  {
   "cell_type": "markdown",
   "metadata": {},
   "source": [
    "## __name__ method:\n",
    "It returns the name of the module.\n",
    "\n",
    "Syntax: `module_name.__name__`"
   ]
  },
  {
   "cell_type": "code",
   "execution_count": null,
   "metadata": {},
   "outputs": [],
   "source": []
  }
 ],
 "metadata": {
  "kernelspec": {
   "display_name": "Python 3",
   "language": "python",
   "name": "python3"
  },
  "language_info": {
   "codemirror_mode": {
    "name": "ipython",
    "version": 3
   },
   "file_extension": ".py",
   "mimetype": "text/x-python",
   "name": "python",
   "nbconvert_exporter": "python",
   "pygments_lexer": "ipython3",
   "version": "3.8.6"
  }
 },
 "nbformat": 4,
 "nbformat_minor": 4
}
