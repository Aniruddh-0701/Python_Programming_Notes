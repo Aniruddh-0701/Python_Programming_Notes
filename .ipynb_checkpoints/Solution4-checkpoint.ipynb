{
 "cells": [
  {
   "cell_type": "markdown",
   "metadata": {},
   "source": [
    "# Solution for [Code Practice 4](Practice_code4.md)"
   ]
  },
  {
   "cell_type": "code",
   "execution_count": 1,
   "metadata": {},
   "outputs": [
    {
     "name": "stdin",
     "output_type": "stream",
     "text": [
      " 10\n",
      " 20\n"
     ]
    },
    {
     "name": "stdout",
     "output_type": "stream",
     "text": [
      "200\n"
     ]
    }
   ],
   "source": [
    "# Question 1\n",
    "def multiply(x, y):\n",
    "    return x*y\n",
    "m = int(input())\n",
    "n = int(input())\n",
    "print(multiply(m, n))\n",
    "\n",
    "# Input: \n",
    "# 10\n",
    "# 20"
   ]
  },
  {
   "cell_type": "code",
   "execution_count": 2,
   "metadata": {},
   "outputs": [
    {
     "name": "stdin",
     "output_type": "stream",
     "text": [
      " 15\n",
      " 18\n"
     ]
    },
    {
     "name": "stdout",
     "output_type": "stream",
     "text": [
      "66\n",
      "270\n"
     ]
    }
   ],
   "source": [
    "# Question 2\n",
    "def perimeter_area(l, b):\n",
    "    p = 2 * (l+b)\n",
    "    a = l * b\n",
    "    return p,a\n",
    "l = int(input())\n",
    "b = int(input())\n",
    "perimeter, area = perimeter_area(l, b)\n",
    "print(perimeter)\n",
    "print(area)\n",
    "# Input:\n",
    "# 15\n",
    "# 18"
   ]
  },
  {
   "cell_type": "code",
   "execution_count": 3,
   "metadata": {},
   "outputs": [
    {
     "name": "stdin",
     "output_type": "stream",
     "text": [
      " 10\n",
      " Hello\n"
     ]
    },
    {
     "name": "stdout",
     "output_type": "stream",
     "text": [
      "Hello\n",
      "Hello\n",
      "Hello\n",
      "Hello\n",
      "Hello\n",
      "Hello\n",
      "Hello\n",
      "Hello\n",
      "Hello\n",
      "Hello\n"
     ]
    }
   ],
   "source": [
    "# Question 3:\n",
    "def print_times(n, v):\n",
    "    for i in range(n):\n",
    "        print(v)\n",
    "    return\n",
    "\n",
    "n = int(input())\n",
    "s = input()\n",
    "print_times(n, s)"
   ]
  },
  {
   "cell_type": "code",
   "execution_count": null,
   "metadata": {},
   "outputs": [],
   "source": []
  }
 ],
 "metadata": {
  "kernelspec": {
   "display_name": "Python 3",
   "language": "python",
   "name": "python3"
  },
  "language_info": {
   "codemirror_mode": {
    "name": "ipython",
    "version": 3
   },
   "file_extension": ".py",
   "mimetype": "text/x-python",
   "name": "python",
   "nbconvert_exporter": "python",
   "pygments_lexer": "ipython3",
   "version": "3.8.6"
  }
 },
 "nbformat": 4,
 "nbformat_minor": 4
}
