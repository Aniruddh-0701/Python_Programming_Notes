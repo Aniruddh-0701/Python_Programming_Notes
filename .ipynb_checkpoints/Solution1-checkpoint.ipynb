{
 "cells": [
  {
   "cell_type": "markdown",
   "metadata": {},
   "source": [
    "## Solution For [Code Practice 1](Practice_code1.ipynb)"
   ]
  },
  {
   "cell_type": "code",
   "execution_count": 1,
   "metadata": {},
   "outputs": [
    {
     "name": "stdout",
     "output_type": "stream",
     "text": [
      "Hello World\n"
     ]
    }
   ],
   "source": [
    "# Question 1\n",
    "print('Hello World')"
   ]
  },
  {
   "cell_type": "code",
   "execution_count": 2,
   "metadata": {},
   "outputs": [
    {
     "name": "stdin",
     "output_type": "stream",
     "text": [
      "Enter your name\n",
      " Prabhu\n"
     ]
    },
    {
     "name": "stdout",
     "output_type": "stream",
     "text": [
      "Prabhu\n"
     ]
    }
   ],
   "source": [
    "# Question 2\n",
    "name = input('Enter your name\\n')\n",
    "print(name)\n",
    "# Input: Prabhu"
   ]
  },
  {
   "cell_type": "code",
   "execution_count": 3,
   "metadata": {},
   "outputs": [
    {
     "name": "stdin",
     "output_type": "stream",
     "text": [
      "Enter Your name\n",
      " Chandru\n",
      "Enter your age\n",
      " 19\n"
     ]
    },
    {
     "name": "stdout",
     "output_type": "stream",
     "text": [
      "Chandru\n",
      "19\n"
     ]
    }
   ],
   "source": [
    "# Question 3\n",
    "name = input('Enter Your name\\n')\n",
    "age = int(input('Enter your age\\n'))\n",
    "print(name)\n",
    "print(age)\n",
    "# Input: Chandru\n",
    "# 19"
   ]
  },
  {
   "cell_type": "code",
   "execution_count": 4,
   "metadata": {},
   "outputs": [
    {
     "name": "stdin",
     "output_type": "stream",
     "text": [
      " 10\n",
      " 12\n"
     ]
    },
    {
     "name": "stdout",
     "output_type": "stream",
     "text": [
      "22\n"
     ]
    }
   ],
   "source": [
    "# Question 4\n",
    "a = int(input())\n",
    "b=int(input())\n",
    "print(a+b)\n",
    "\n",
    "# Input:\n",
    "# 10\n",
    "# 12"
   ]
  },
  {
   "cell_type": "code",
   "execution_count": 5,
   "metadata": {},
   "outputs": [
    {
     "name": "stdin",
     "output_type": "stream",
     "text": [
      " 14\n",
      " 12\n"
     ]
    },
    {
     "name": "stdout",
     "output_type": "stream",
     "text": [
      "26\n",
      "2\n",
      "168\n",
      "1.1666666666666667\n",
      "1\n",
      "2\n",
      "56693912375296\n"
     ]
    }
   ],
   "source": [
    "# Question 5\n",
    "a = int(input())\n",
    "b = int(input())\n",
    "print(a+b)\n",
    "print(a-b)\n",
    "print(a*b)\n",
    "print(a/b)\n",
    "print(a//b)\n",
    "print(a%b)\n",
    "print(a**b)\n",
    "\n",
    "# Input: 14\n",
    "# 12"
   ]
  },
  {
   "cell_type": "code",
   "execution_count": 6,
   "metadata": {},
   "outputs": [
    {
     "name": "stdin",
     "output_type": "stream",
     "text": [
      " 10\n",
      " 15\n"
     ]
    },
    {
     "name": "stdout",
     "output_type": "stream",
     "text": [
      "Sum of 10 and 15 is 25\n",
      "Sum of 10 and 15 is 25\n",
      "Sum of 10 and 15 is 25\n",
      "Sum of 10 and 15 is 25\n"
     ]
    }
   ],
   "source": [
    "# Question 6\n",
    "a = int(input())\n",
    "b = int(input())\n",
    "print('Sum of',a,'and',b,'is',a+b)\n",
    "print('Sum of %d and %d is %d'%(a,b,a+b))\n",
    "print('Sum of {} and {} is {}'.format(a,b,a+b))\n",
    "print(f'Sum of {a} and {b} is {a+b}')\n",
    "\n",
    "# Input: 10\n",
    "# 15"
   ]
  },
  {
   "cell_type": "code",
   "execution_count": 7,
   "metadata": {},
   "outputs": [
    {
     "name": "stdin",
     "output_type": "stream",
     "text": [
      " Jenyhin\n"
     ]
    },
    {
     "name": "stdout",
     "output_type": "stream",
     "text": [
      "Good Morning, Jenyhin\n"
     ]
    }
   ],
   "source": [
    "# Question 7\n",
    "name = input()\n",
    "print(f'Good Morning, {name}')\n",
    "\n",
    "# Input: Jenyhin"
   ]
  },
  {
   "cell_type": "code",
   "execution_count": 1,
   "metadata": {},
   "outputs": [
    {
     "name": "stdin",
     "output_type": "stream",
     "text": [
      " 4\n"
     ]
    },
    {
     "name": "stdout",
     "output_type": "stream",
     "text": [
      "16\n"
     ]
    }
   ],
   "source": [
    "# Question 8\n",
    "side = int(input())\n",
    "print(4 * side)\n",
    "\n",
    "# Input: 4"
   ]
  },
  {
   "cell_type": "code",
   "execution_count": 2,
   "metadata": {},
   "outputs": [
    {
     "name": "stdin",
     "output_type": "stream",
     "text": [
      " 22\n"
     ]
    },
    {
     "name": "stdout",
     "output_type": "stream",
     "text": [
      "484\n"
     ]
    }
   ],
   "source": [
    "# Question 9\n",
    "side = int(input())\n",
    "print(side * side)\n",
    "\n",
    "# Input: 22"
   ]
  },
  {
   "cell_type": "code",
   "execution_count": 3,
   "metadata": {},
   "outputs": [
    {
     "name": "stdin",
     "output_type": "stream",
     "text": [
      " 22\n",
      " 21\n"
     ]
    },
    {
     "name": "stdout",
     "output_type": "stream",
     "text": [
      "86\n"
     ]
    }
   ],
   "source": [
    "# Question 10\n",
    "length = int(input())\n",
    "breadth = int(input())\n",
    "print(2 * (length + breadth))\n",
    "\n",
    "# Input: 22\n",
    "# 21"
   ]
  },
  {
   "cell_type": "code",
   "execution_count": 4,
   "metadata": {},
   "outputs": [
    {
     "name": "stdin",
     "output_type": "stream",
     "text": [
      " 22\n",
      " 21\n"
     ]
    },
    {
     "name": "stdout",
     "output_type": "stream",
     "text": [
      "462\n"
     ]
    }
   ],
   "source": [
    "# Question 11\n",
    "length = int(input())\n",
    "breadth = int(input())\n",
    "print(length * breadth)\n",
    "\n",
    "# Input: 22\n",
    "# 21"
   ]
  },
  {
   "cell_type": "code",
   "execution_count": 5,
   "metadata": {},
   "outputs": [
    {
     "name": "stdin",
     "output_type": "stream",
     "text": [
      " 7\n",
      " 21\n"
     ]
    },
    {
     "name": "stdout",
     "output_type": "stream",
     "text": [
      "147\n"
     ]
    }
   ],
   "source": [
    "# Question 12\n",
    "number_of_sides = int(input())\n",
    "side = int(input())\n",
    "print(side * number_of_sides)\n",
    "\n",
    "# Input: 7\n",
    "# 21"
   ]
  },
  {
   "cell_type": "code",
   "execution_count": 6,
   "metadata": {},
   "outputs": [
    {
     "name": "stdin",
     "output_type": "stream",
     "text": [
      " 22\n",
      " 21\n"
     ]
    },
    {
     "name": "stdout",
     "output_type": "stream",
     "text": [
      "231.0\n"
     ]
    }
   ],
   "source": [
    "# Question 13\n",
    "base = int(input())\n",
    "height = int(input())\n",
    "print(0.5 * base * height)\n",
    "\n",
    "# Input: 22\n",
    "# 21"
   ]
  },
  {
   "cell_type": "code",
   "execution_count": 7,
   "metadata": {},
   "outputs": [
    {
     "name": "stdin",
     "output_type": "stream",
     "text": [
      " 22\n"
     ]
    },
    {
     "name": "stdout",
     "output_type": "stream",
     "text": [
      " 138.230\n"
     ]
    }
   ],
   "source": [
    "# Question 14\n",
    "radius = int(input())\n",
    "print(f'{2 * 3.14159 * radius: .3f}')\n",
    "\n",
    "# Input:  22"
   ]
  },
  {
   "cell_type": "code",
   "execution_count": 9,
   "metadata": {},
   "outputs": [
    {
     "name": "stdin",
     "output_type": "stream",
     "text": [
      " 21\n"
     ]
    },
    {
     "name": "stdout",
     "output_type": "stream",
     "text": [
      " 1385.441\n"
     ]
    }
   ],
   "source": [
    "# Question 15\n",
    "radius = int(input())\n",
    "print(f'{3.14159 * radius * radius: .3f}')\n",
    "\n",
    "# Input: 21"
   ]
  },
  {
   "cell_type": "code",
   "execution_count": 11,
   "metadata": {},
   "outputs": [
    {
     "name": "stdin",
     "output_type": "stream",
     "text": [
      " 3\n",
      " 4\n",
      " 5\n"
     ]
    },
    {
     "name": "stdout",
     "output_type": "stream",
     "text": [
      " 6.000\n"
     ]
    }
   ],
   "source": [
    "# Question 16\n",
    "a = int(input())\n",
    "b = int(input())\n",
    "c = int(input())\n",
    "s = (a + b + c)/2\n",
    "print(f'{ (s * (s-a) * (s-b) * (s-c))**0.5: .3f}')\n",
    "\n",
    "# Input: 3\n",
    "# 4\n",
    "# 5"
   ]
  },
  {
   "cell_type": "code",
   "execution_count": 12,
   "metadata": {},
   "outputs": [
    {
     "name": "stdin",
     "output_type": "stream",
     "text": [
      " 31\n"
     ]
    },
    {
     "name": "stdout",
     "output_type": "stream",
     "text": [
      " 416.1252\n"
     ]
    }
   ],
   "source": [
    "# Question 17\n",
    "side = int(input())\n",
    "print(f'{ 3**0.5 * side * side / 4: .4f}')\n",
    "# Input: 31"
   ]
  },
  {
   "cell_type": "code",
   "execution_count": 13,
   "metadata": {},
   "outputs": [
    {
     "name": "stdin",
     "output_type": "stream",
     "text": [
      " 12\n",
      " 6\n"
     ]
    },
    {
     "name": "stdout",
     "output_type": "stream",
     "text": [
      " 13.416\n"
     ]
    }
   ],
   "source": [
    "# Question 18\n",
    "base = int(input())\n",
    "height = int(input())\n",
    "print(f'{(base**2 + height**2)**0.5: .3f}')\n",
    "\n",
    "# Input: 12\n",
    "# 6"
   ]
  },
  {
   "cell_type": "code",
   "execution_count": 14,
   "metadata": {},
   "outputs": [
    {
     "name": "stdin",
     "output_type": "stream",
     "text": [
      " 15\n"
     ]
    },
    {
     "name": "stdout",
     "output_type": "stream",
     "text": [
      "3375\n"
     ]
    }
   ],
   "source": [
    "# Question 19 \n",
    "side = int(input())\n",
    "print(side ** 3)\n",
    "\n",
    "# Input: 15"
   ]
  },
  {
   "cell_type": "code",
   "execution_count": 15,
   "metadata": {},
   "outputs": [
    {
     "name": "stdin",
     "output_type": "stream",
     "text": [
      " 15\n"
     ]
    },
    {
     "name": "stdout",
     "output_type": "stream",
     "text": [
      "1350\n"
     ]
    }
   ],
   "source": [
    "# Question 20\n",
    "side = int(input()) \n",
    "print(6 * side ** 2)\n",
    "\n",
    "# Input: 15"
   ]
  },
  {
   "cell_type": "code",
   "execution_count": 16,
   "metadata": {},
   "outputs": [
    {
     "name": "stdin",
     "output_type": "stream",
     "text": [
      " 43\n",
      " 28\n",
      " 35\n"
     ]
    },
    {
     "name": "stdout",
     "output_type": "stream",
     "text": [
      "42140\n"
     ]
    }
   ],
   "source": [
    "# Question 21\n",
    "length = int(input()) \n",
    "breadth = int(input()) \n",
    "height = int(input()) \n",
    "print(length*breadth*height)\n",
    "\n",
    "# Input: 43\n",
    "# 28\n",
    "# 35"
   ]
  },
  {
   "cell_type": "code",
   "execution_count": 17,
   "metadata": {},
   "outputs": [
    {
     "name": "stdin",
     "output_type": "stream",
     "text": [
      " 43\n",
      " 28\n",
      " 35\n"
     ]
    },
    {
     "name": "stdout",
     "output_type": "stream",
     "text": [
      "7378\n"
     ]
    }
   ],
   "source": [
    "# Question 22\n",
    "l = int(input()) \n",
    "b = int(input()) \n",
    "h = int(input()) \n",
    "tsa = 2 * (l * b + b * h + h * l)\n",
    "print(tsa)\n",
    "\n",
    "# Input: 43\n",
    "# 28\n",
    "# 35"
   ]
  },
  {
   "cell_type": "code",
   "execution_count": null,
   "metadata": {},
   "outputs": [],
   "source": []
  }
 ],
 "metadata": {
  "kernelspec": {
   "display_name": "Python 3",
   "language": "python",
   "name": "python3"
  },
  "language_info": {
   "codemirror_mode": {
    "name": "ipython",
    "version": 3
   },
   "file_extension": ".py",
   "mimetype": "text/x-python",
   "name": "python",
   "nbconvert_exporter": "python",
   "pygments_lexer": "ipython3",
   "version": "3.8.6"
  }
 },
 "nbformat": 4,
 "nbformat_minor": 4
}
