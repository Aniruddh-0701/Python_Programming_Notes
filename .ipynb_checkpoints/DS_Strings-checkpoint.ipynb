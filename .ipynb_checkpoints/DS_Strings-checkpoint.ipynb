{
 "cells": [
  {
   "cell_type": "markdown",
   "metadata": {},
   "source": [
    "# Data Structures or Derived data Types in Python:\n",
    "\n",
    "Storing multiple values of same or different types under a single name.\n",
    "They are collection of data.\n",
    "\n",
    "1. List\n",
    "2. Tuple\n",
    "3. String\n",
    "4. Dictionary\n",
    "5. Set  \n",
    "In this notebook, we'll discuss indepth on Strings"
   ]
  },
  {
   "cell_type": "markdown",
   "metadata": {},
   "source": [
    "## Strings:\n",
    "Strings are ordered collection or an array of characters.\n",
    "Represented by quotes either ' ' or \" \".  \n",
    "They are generally immutable. This means individual elements can't be changed.\n",
    "\n",
    "`String : 'Hello', \"Python\"`\n",
    "\n",
    "order of elements: index of element  \n",
    "Index - may be positive or negative  \n",
    "\n",
    "|Order (element) | First | Second | Third |...|Last|  \n",
    "|---|---|---|---|---|---|  \n",
    "|Positive Index| 0| 1| 2| ...| n-1|  \n",
    "|Negative Index| -n| -n+1| -n+2| ...| -1|  "
   ]
  },
  {
   "cell_type": "markdown",
   "metadata": {},
   "source": [
    "## Defining a String:\n",
    "\n",
    "1. '' or \"\"\n",
    "2. str()\n",
    "\n",
    "### 1. Quotes:\n",
    "str = 'String'\n",
    "### 2. str()\n",
    "Syntax: `str(value = None)`  "
   ]
  },
  {
   "cell_type": "code",
   "execution_count": 2,
   "metadata": {},
   "outputs": [
    {
     "data": {
      "text/plain": [
       "str"
      ]
     },
     "execution_count": 2,
     "metadata": {},
     "output_type": "execute_result"
    }
   ],
   "source": [
    "str1 = 'Hello'\n",
    "type(str1)"
   ]
  },
  {
   "cell_type": "code",
   "execution_count": 3,
   "metadata": {},
   "outputs": [
    {
     "name": "stdout",
     "output_type": "stream",
     "text": [
      "[10, 20]\n"
     ]
    },
    {
     "data": {
      "text/plain": [
       "str"
      ]
     },
     "execution_count": 3,
     "metadata": {},
     "output_type": "execute_result"
    }
   ],
   "source": [
    "s = str([10, 20])\n",
    "print(s)\n",
    "type(s)"
   ]
  },
  {
   "cell_type": "markdown",
   "metadata": {},
   "source": [
    "## String Input:\n",
    "All the values that are taken using `input()` method as strings."
   ]
  },
  {
   "cell_type": "code",
   "execution_count": 8,
   "metadata": {},
   "outputs": [
    {
     "name": "stdin",
     "output_type": "stream",
     "text": [
      " String\n"
     ]
    },
    {
     "data": {
      "text/plain": [
       "str"
      ]
     },
     "execution_count": 8,
     "metadata": {},
     "output_type": "execute_result"
    }
   ],
   "source": [
    "s1 = input()\n",
    "type(s1)\n",
    "# Input: String"
   ]
  },
  {
   "cell_type": "markdown",
   "metadata": {},
   "source": [
    "## Working with Strings:\n",
    "\n",
    "1. Concatenation\n",
    "2. Appending\n",
    "3. Multiplication"
   ]
  },
  {
   "cell_type": "markdown",
   "metadata": {},
   "source": [
    "### 1. Concatenation:\n",
    "Two strings can be concatenated by using '+' operator."
   ]
  },
  {
   "cell_type": "code",
   "execution_count": 11,
   "metadata": {},
   "outputs": [
    {
     "data": {
      "text/plain": [
       "'String Concatenation'"
      ]
     },
     "execution_count": 11,
     "metadata": {},
     "output_type": "execute_result"
    }
   ],
   "source": [
    "str1 = 'String '\n",
    "str2 = 'Concatenation'\n",
    "str1+str2 # Concatenation"
   ]
  },
  {
   "cell_type": "markdown",
   "metadata": {},
   "source": [
    "### 2. Appending:\n",
    "A character can be appended to string using '+=' operator or by reassignment."
   ]
  },
  {
   "cell_type": "code",
   "execution_count": 14,
   "metadata": {},
   "outputs": [
    {
     "data": {
      "text/plain": [
       "'Lets'"
      ]
     },
     "execution_count": 14,
     "metadata": {},
     "output_type": "execute_result"
    }
   ],
   "source": [
    "str3 = 'Let'\n",
    "ch = 's'\n",
    "str3 += ch # str3 = str3 + ch\n",
    "str3"
   ]
  },
  {
   "cell_type": "markdown",
   "metadata": {},
   "source": [
    "## 3. String Multiplication:\n",
    "String multiplication results a string with repitition. It can be done using ' * ' operator."
   ]
  },
  {
   "cell_type": "code",
   "execution_count": 16,
   "metadata": {},
   "outputs": [
    {
     "data": {
      "text/plain": [
       "'Namaste Namaste Namaste Namaste '"
      ]
     },
     "execution_count": 16,
     "metadata": {},
     "output_type": "execute_result"
    }
   ],
   "source": [
    "str4 = 'Namaste '\n",
    "str4*4"
   ]
  },
  {
   "cell_type": "markdown",
   "metadata": {},
   "source": [
    "## Built-in String Methods:\n",
    "There are various methods to work with strings. But Unlike lists, string methods don't change strings as ther are immutable. Hence the returned value should always be reassigned.\n",
    "\n",
    "Methods:\n",
    "1. capitalize\n",
    "2. upper\n",
    "3. lower\n",
    "4. Center\n",
    "5. swapcase\n",
    "6. find\n",
    "7. rfind\n",
    "8. index\n",
    "9. startswith\n",
    "10. endswith\n",
    "11. isalnum\n",
    "12. isalpha\n",
    "13. isdigit\n",
    "14. strip\n",
    "15. split\n",
    "16. join\n",
    "17. replace\n",
    "18. zfill\n",
    "19. enumerate\n",
    "20. len\n",
    "21. isupper\n",
    "22. islower\n",
    "23. lstrip\n",
    "24. rstrip\n",
    "25. partition\n",
    "26. ljust\n",
    "27. rjust"
   ]
  },
  {
   "cell_type": "markdown",
   "metadata": {},
   "source": [
    "### 1. capitalize:\n",
    "Capitalize the string. More specifically, first letter of the string in upper case and rest in lower case.\n",
    "\n",
    "Syntax: `str.capitalize()`"
   ]
  },
  {
   "cell_type": "code",
   "execution_count": 18,
   "metadata": {},
   "outputs": [
    {
     "data": {
      "text/plain": [
       "'Hello'"
      ]
     },
     "execution_count": 18,
     "metadata": {},
     "output_type": "execute_result"
    }
   ],
   "source": [
    "s1 = 'hello'\n",
    "s1 = s1.capitalize()\n",
    "s1"
   ]
  },
  {
   "cell_type": "markdown",
   "metadata": {},
   "source": [
    "### 2. upper:\n",
    "Converts the string to upper case\n",
    "\n",
    "Syntax: `str.upper()`"
   ]
  },
  {
   "cell_type": "code",
   "execution_count": 19,
   "metadata": {},
   "outputs": [
    {
     "data": {
      "text/plain": [
       "'HELLO'"
      ]
     },
     "execution_count": 19,
     "metadata": {},
     "output_type": "execute_result"
    }
   ],
   "source": [
    "s1 = 'hello'\n",
    "s1 = s1.upper()\n",
    "s1"
   ]
  },
  {
   "cell_type": "markdown",
   "metadata": {},
   "source": [
    "### 3. lower:\n",
    "Converts the string to lowercase\n",
    "\n",
    "Syntax: `str.lower()`"
   ]
  },
  {
   "cell_type": "code",
   "execution_count": 20,
   "metadata": {},
   "outputs": [
    {
     "data": {
      "text/plain": [
       "'hi'"
      ]
     },
     "execution_count": 20,
     "metadata": {},
     "output_type": "execute_result"
    }
   ],
   "source": [
    "s1 = 'HI'\n",
    "s1.lower()"
   ]
  },
  {
   "cell_type": "markdown",
   "metadata": {},
   "source": [
    "### 4. Center:\n",
    "Returns original string to center of given width. The empty places are filled using fillchar\n",
    "\n",
    "Syntax: `str.center(width, fillchar)`"
   ]
  },
  {
   "cell_type": "code",
   "execution_count": 22,
   "metadata": {},
   "outputs": [
    {
     "data": {
      "text/plain": [
       "'*hii*'"
      ]
     },
     "execution_count": 22,
     "metadata": {},
     "output_type": "execute_result"
    }
   ],
   "source": [
    "s1 = 'hii'\n",
    "s1 = s1.center(5, '*')\n",
    "s1"
   ]
  },
  {
   "cell_type": "code",
   "execution_count": 23,
   "metadata": {},
   "outputs": [
    {
     "data": {
      "text/plain": [
       "'---Well---'"
      ]
     },
     "execution_count": 23,
     "metadata": {},
     "output_type": "execute_result"
    }
   ],
   "source": [
    "s2 = 'Well'\n",
    "s2 = s2.center(10, '-')\n",
    "s2"
   ]
  },
  {
   "cell_type": "markdown",
   "metadata": {},
   "source": [
    "### 5. swapcase:\n",
    "Swaps the case of string to lower if in uppercase, to upper in lowercase\n",
    "\n",
    "Syntax: `str.swapcase()`"
   ]
  },
  {
   "cell_type": "code",
   "execution_count": 24,
   "metadata": {},
   "outputs": [
    {
     "data": {
      "text/plain": [
       "'pYtHON'"
      ]
     },
     "execution_count": 24,
     "metadata": {},
     "output_type": "execute_result"
    }
   ],
   "source": [
    "s1 = 'PyThon'\n",
    "s1.swapcase()"
   ]
  },
  {
   "cell_type": "markdown",
   "metadata": {},
   "source": [
    "### 6. find:\n",
    "Returns the index of start of substring if present in string else -1.\n",
    "\n",
    "Syntax: `str.find(substring, start = 0, end = length)`"
   ]
  },
  {
   "cell_type": "code",
   "execution_count": 32,
   "metadata": {},
   "outputs": [
    {
     "data": {
      "text/plain": [
       "0"
      ]
     },
     "execution_count": 32,
     "metadata": {},
     "output_type": "execute_result"
    }
   ],
   "source": [
    "s1 = 'Python'\n",
    "s1.find('Py')"
   ]
  },
  {
   "cell_type": "markdown",
   "metadata": {},
   "source": [
    "### 7. rfind:\n",
    "Returns index of start of last occurence substring if present in string else -1\n",
    "\n",
    "Syntax: `str.rfind(substring, start = 0, end = length)`"
   ]
  },
  {
   "cell_type": "code",
   "execution_count": 34,
   "metadata": {},
   "outputs": [
    {
     "data": {
      "text/plain": [
       "7"
      ]
     },
     "execution_count": 34,
     "metadata": {},
     "output_type": "execute_result"
    }
   ],
   "source": [
    "s1 = 'Hello Welcome'\n",
    "s1.rfind('el')"
   ]
  },
  {
   "cell_type": "markdown",
   "metadata": {},
   "source": [
    "### 8. index:\n",
    "Returns the index of substring given. Same as find but raises error if absent.\n",
    "\n",
    "Syntax: `str.index(substring, start = 0, end = length)`"
   ]
  },
  {
   "cell_type": "code",
   "execution_count": 37,
   "metadata": {},
   "outputs": [
    {
     "data": {
      "text/plain": [
       "0"
      ]
     },
     "execution_count": 37,
     "metadata": {},
     "output_type": "execute_result"
    }
   ],
   "source": [
    "s1 = 'Python'\n",
    "s1.index('Py')"
   ]
  },
  {
   "cell_type": "markdown",
   "metadata": {},
   "source": [
    "### 9. startswith:\n",
    "Checks if the given string starts with given Prefix.\n",
    "\n",
    "Syntax: `str.startswith(prefix, start = 0, end = length)`"
   ]
  },
  {
   "cell_type": "markdown",
   "metadata": {},
   "source": [
    "### 10. endswith:\n",
    "Checks if the given string ends with the given suffix.\n",
    "\n",
    "Syntax: `str.endswith(suffix, start = 0, end = length)`"
   ]
  },
  {
   "cell_type": "markdown",
   "metadata": {},
   "source": [
    "### 11. isalnum:\n",
    "Checks if the given string is alpha-numeric, i.e., contains only alphabets or numbers.\n",
    "\n",
    "Syntax: `str.isalnum()`"
   ]
  },
  {
   "cell_type": "markdown",
   "metadata": {},
   "source": [
    "### 12. isalpha:\n",
    "Checks if the given string is alphabetic, i.e., contains only alphabets.\n",
    "\n",
    "Syntax: `str.isalpha()`"
   ]
  },
  {
   "cell_type": "markdown",
   "metadata": {},
   "source": [
    "### 13. isdigit:\n",
    "Checks if the given string is numeric, i.e., contains only numbers.\n",
    "\n",
    "Syntax: `str.isdigit()`"
   ]
  },
  {
   "cell_type": "markdown",
   "metadata": {},
   "source": [
    "### 14. strip:\n",
    "Removes the leading and trailing whitespaces by default, if any. If *chars* is given (string only), it removes only the characters in it.\n",
    "\n",
    "Syntax: `str.strip(chars = None)`"
   ]
  },
  {
   "cell_type": "markdown",
   "metadata": {},
   "source": [
    "### 15. split:\n",
    "Return a list of the words in the string, using *sep* as the delimiter. *maxsplit* gives the Maximum no. of splits to be done. The remaining string returned as last element.\n",
    "\n",
    "Syntax: `str.split(/, sep = None, maxsplit = -1)`"
   ]
  },
  {
   "cell_type": "markdown",
   "metadata": {},
   "source": [
    "### 16. join:\n",
    "Returns a concatenated string of iterable (containing only strings) with *char* (string) as delimiter.\n",
    "\n",
    "Syntax: `char.join(iterable)`"
   ]
  },
  {
   "cell_type": "markdown",
   "metadata": {},
   "source": [
    "### 17. replace:\n",
    "Returns a copy of a string with given substring replaced by old substring. *count* is the max no. of occurences to be replaced, all be default.\n",
    "\n",
    "Syntax: `str.replace(old_string, new_string, count = -1)`"
   ]
  },
  {
   "cell_type": "markdown",
   "metadata": {},
   "source": [
    "### 18. zfill:\n",
    "Pads zeroes (0) to the start of the numeric string to fill the given width if width > length of string.\n",
    "\n",
    "Syntax: `str.zfill(width)`"
   ]
  },
  {
   "cell_type": "markdown",
   "metadata": {},
   "source": [
    "### 19. enumerate:\n",
    "Returns the enumeration object of given string.\n",
    "\n",
    "Syntax: `enumerate(str)`"
   ]
  },
  {
   "cell_type": "markdown",
   "metadata": {},
   "source": [
    "### 20. len:\n",
    "Returns the length od given string\n",
    "\n",
    "Syntax: `len(str)`"
   ]
  },
  {
   "cell_type": "markdown",
   "metadata": {},
   "source": [
    "### 21. isupper:\n",
    "Checks if the given string is in uppercase.\n",
    "\n",
    "Syntax: `str.isupper()`"
   ]
  },
  {
   "cell_type": "markdown",
   "metadata": {},
   "source": [
    "### 22. islower:\n",
    "Checks if the given string is in lowercase.\n",
    "\n",
    "Syntax: `str.islower()`"
   ]
  },
  {
   "cell_type": "markdown",
   "metadata": {},
   "source": [
    "### 23. lstrip:\n",
    "Removes the leading whitespaces by default, if any. If *chars* is given (string only), it removes only the characters in it.\n",
    "\n",
    "Syntax: `str.lstrip(chars = None)`"
   ]
  },
  {
   "cell_type": "markdown",
   "metadata": {},
   "source": [
    "### 24. rstrip:\n",
    "Removes the trailing whitespaces by default, if any. If *chars* is given (string only), it removes only the characters in it.\n",
    "\n",
    "Syntax: `str.rstrip(chars = None)`"
   ]
  },
  {
   "cell_type": "markdown",
   "metadata": {},
   "source": [
    "### 25. partition:\n",
    "Partition the string into three parts using the given separator. \n",
    "\n",
    "If the separator is found, returns a 3-tuple containing the part before the separator, the separator itself, and the part after it.\n",
    "\n",
    "If the separator is not found, returns a 3-tuple containing the original string and two empty strings.\n",
    "\n",
    "Syntax: `str.partition(sep)`"
   ]
  },
  {
   "cell_type": "markdown",
   "metadata": {},
   "source": [
    "### 26. ljust:\n",
    "Pads given char (default - space) to the end of the string to fill the given width if width > length of string. Left justified string.\n",
    "\n",
    "Syntax: `str.ljust(width, fillchar = ' ')`"
   ]
  },
  {
   "cell_type": "markdown",
   "metadata": {},
   "source": [
    "### 27. rjust:\n",
    "Pads given char (default - space) to the start of the string to fill the given width if width > length of string. Right justified string.\n",
    "\n",
    "Syntax: `str.rjust(width, fillchar = ' ')`"
   ]
  },
  {
   "cell_type": "code",
   "execution_count": null,
   "metadata": {},
   "outputs": [],
   "source": []
  }
 ],
 "metadata": {
  "kernelspec": {
   "display_name": "Python 3",
   "language": "python",
   "name": "python3"
  },
  "language_info": {
   "codemirror_mode": {
    "name": "ipython",
    "version": 3
   },
   "file_extension": ".py",
   "mimetype": "text/x-python",
   "name": "python",
   "nbconvert_exporter": "python",
   "pygments_lexer": "ipython3",
   "version": "3.8.6"
  }
 },
 "nbformat": 4,
 "nbformat_minor": 4
}
