{
 "cells": [
  {
   "cell_type": "markdown",
   "metadata": {},
   "source": [
    "\n",
    "# Object Oriented Programming - Part 1\n",
    "### OOP:\n",
    "\n",
    "Object Oriented Programming or OOP is working with classes and objects. It involves interaction between objects having various attributes.\n",
    "\n",
    "Python is a object oriented programming language. This means that all the types are representation or instance of a type class."
   ]
  },
  {
   "cell_type": "markdown",
   "metadata": {},
   "source": [
    "## Components:\n",
    "1. Class\n",
    "2. Object\n"
   ]
  },
  {
   "cell_type": "markdown",
   "metadata": {},
   "source": [
    "## Class:\n",
    "\n",
    "It is a structure, a blueprint or a building block (a code block) representing or defining the attributes (features and behaviour) of similar parameters.\n",
    "\n",
    "### Definition:\n",
    "Using `class` keyword.\n",
    "Name of a class should start with an uppercase letter.\n",
    "\n",
    "Syntax: \n",
    "```python\n",
    "class Class_name\n",
    "```"
   ]
  },
  {
   "cell_type": "code",
   "execution_count": 1,
   "metadata": {},
   "outputs": [],
   "source": [
    "class Students:\n",
    "    roll_no = int()\n",
    "    name = str()"
   ]
  },
  {
   "cell_type": "markdown",
   "metadata": {},
   "source": [
    "## Object:\n",
    "\n",
    "It is an instance of a class.\n",
    "\n",
    "Syntax: \n",
    "```python\n",
    "obj_name = Class_name()\n",
    "```"
   ]
  },
  {
   "cell_type": "code",
   "execution_count": 2,
   "metadata": {},
   "outputs": [],
   "source": [
    "student1 = Students() # creating a new object\n",
    "\n",
    "student1.roll_no = 1\n",
    "student1.name = 'Prabhu'"
   ]
  },
  {
   "cell_type": "code",
   "execution_count": 3,
   "metadata": {},
   "outputs": [
    {
     "name": "stdout",
     "output_type": "stream",
     "text": [
      "Prabhu\n",
      "1\n"
     ]
    }
   ],
   "source": [
    "print(student1.name)\n",
    "print(student1.roll_no)"
   ]
  },
  {
   "cell_type": "markdown",
   "metadata": {},
   "source": [
    "## *self* Keyword:\n",
    "\n",
    "Calls the attributes for current instance or object.\n",
    "\n",
    "Syntax: \n",
    "```python\n",
    "self.attribute_name\n",
    "```"
   ]
  },
  {
   "cell_type": "markdown",
   "metadata": {},
   "source": [
    "## Defining attributes and behavior in a class\n",
    "\n",
    "An object is generally defined by the follwing:\n",
    "1. Fields (variables) or Attributes\n",
    "2. Methods (functions) or Behavior\n",
    "\n",
    "### Fields\n",
    "The `fields` are the variables or containers that store data used and related to an object/Class\n",
    "\n",
    "Types:  \n",
    "1. Instance fields\n",
    "2. Class or static fields\n",
    "\n",
    "#### Instance fields:\n",
    "The instance fields are variables that are associated with an object, an instance of the class.\n",
    "\n",
    "The data they have may vary from object to object and are independent. The field of one instance cannot be accessed by the other.  \n",
    "The instance variables are accessed as follows:\n",
    "```python\n",
    "# Inside the class using `self` keyword\n",
    "self.instance_variable\n",
    "\n",
    "# Outside the class using the object name\n",
    "object_name.instance_variable\n",
    "```\n",
    "\n",
    "#### Class fields:\n",
    "The class variables are variables that are common throughout the instances of the defined class and can be accessed by all of them.\n",
    "\n",
    "Modifying data in one object changes it for all the present instances.  \n",
    "They are accessed inside and outside the class definition as follows:\n",
    "```python\n",
    "# Using class name to access static variables\n",
    "Class_name.class_variable\n",
    "```"
   ]
  },
  {
   "cell_type": "code",
   "execution_count": 1,
   "metadata": {},
   "outputs": [
    {
     "name": "stdout",
     "output_type": "stream",
     "text": [
      "Prabhu\n",
      "Mano\n",
      "2\n"
     ]
    }
   ],
   "source": [
    "class Student_details:\n",
    "    student_count = 0\n",
    "    def __init__(self, name):\n",
    "        self.name = name # Instance variable\n",
    "        Student_details.student_count += 1 # Class Variable\n",
    "\n",
    "s = Student_details(\"Prabhu\")\n",
    "print(s.name) # Instance variable\n",
    "s1 = Student_details(\"Mano\")\n",
    "print(s1.name) # Instance variable\n",
    "print(Student_details.student_count) # Class variable"
   ]
  },
  {
   "cell_type": "markdown",
   "metadata": {},
   "source": [
    "### Methods\n",
    "\n",
    "The `methods` are block of code that, like functions, execute a specific task\n",
    "\n",
    "Though a method and function are defined in the same way, they have differences.\n",
    "\n",
    "A **function** is a piece of code that is called by name. It can be passed data to operate on (i.e. the parameters) and can optionally return data (the return value). All data that is passed to a function is explicitly passed.\n",
    "\n",
    "A **method** is a piece of code that is called by a name that is associated with an object. \n",
    "\n",
    "In most respects it is identical to a function except for two key differences:\n",
    "\n",
    "1. A method is implicitly passed the object on which it was called.\n",
    "2. A method is able to operate on data that is contained within the class \n",
    "\n",
    "(remembering that an object is an instance of a class - the class is the definition, the object is an instance of that data).\n",
    "\n",
    "Source: [What's the difference between a method and a function? - StackOverflow](https://stackoverflow.com/questions/155609/whats-the-difference-between-a-method-and-a-function#155655)\n",
    "\n",
    "Types:\n",
    "\n",
    "1. Instance methods\n",
    "2. Static methods\n",
    "\n",
    "#### Instance methods\n",
    "\n",
    "Instance methods are methods/behavior that are associated with objects. When an object calls one of its instnace methods, the instance method gets implicitly passed object and uses the data it gets with other required parameters to do the task.  \n",
    "Definition and access:\n",
    "\n",
    "```python\n",
    "# Definition\n",
    "def instance_method(self[, ...]): # the self keyword indicates the implicit passing of the object\n",
    "    # Statements\n",
    "\n",
    "# access inside the class (in another instance method)\n",
    "self.instance_method(...)\n",
    "\n",
    "# Access outside the class\n",
    "obj.instance_method(...)\n",
    "```\n",
    "\n",
    "***Note:*** It is to be noted that an instance method can be called only inside another instance method\n",
    "\n",
    "#### Static or Class method\n",
    "\n",
    "A static method is a method that is common for all objects. It is equivalent of function being defined outside the class.\n",
    "\n",
    "A static method is identified by the decorator `@staticmethod` and has implicit object passing using `self` keyword.\n",
    "\n",
    "Definition and Access:\n",
    "\n",
    "```python\n",
    "@staticmethod\n",
    "def class_method([...]):\n",
    "    #Statement(s)\n",
    "\n",
    "# accessing the method using class name\n",
    "Class_name.class_method([...])\n",
    "```\n",
    "The static method can be called inside another static method or instance method(s)"
   ]
  },
  {
   "cell_type": "markdown",
   "metadata": {},
   "source": [
    "### Constructor:\n",
    "A method that executes a set of code whenever a new object/instance is created.\n",
    "\n",
    "Defined as `__new__()`. Generally, this is not defined/overridden and follows the default definition as in the `object` class\n",
    "\n",
    "```python\n",
    "def __new__(cls, *args, **kwargs):\n",
    "    # Custom constructor\n",
    "```\n",
    "\n",
    "### Initializer:\n",
    "An instance method that initializes the object (instance) created by call with the parameters passed.  \n",
    "\n",
    "The `__new__()` method calls this automatically.\n",
    "\n",
    "Defined as `__init__()`.\n",
    "\n",
    "```python\n",
    "def __init__(self, *args, **kwargs):\n",
    "    # Statements for object Initialization\n",
    "```"
   ]
  },
  {
   "cell_type": "code",
   "execution_count": 7,
   "metadata": {},
   "outputs": [],
   "source": [
    "class Student:\n",
    "    def __init__(self): # default constructor\n",
    "        self.roll_no = 0\n",
    "        self.name = 'Name'\n",
    "#         print('__init__ file')\n",
    "    \n",
    "    def study(self):\n",
    "        print('Studying....')"
   ]
  },
  {
   "cell_type": "code",
   "execution_count": 8,
   "metadata": {},
   "outputs": [
    {
     "name": "stdout",
     "output_type": "stream",
     "text": [
      "__init__ file\n",
      "Roll No: 1, Name: Ravi\n"
     ]
    }
   ],
   "source": [
    "st1 = Student()\n",
    "st1.roll_no = 1\n",
    "st1.name = 'Ravi'\n",
    "print(f'Roll No: {st1.roll_no}, Name: {st1.name}')"
   ]
  },
  {
   "cell_type": "code",
   "execution_count": 2,
   "metadata": {},
   "outputs": [],
   "source": [
    "class Student_details:\n",
    "    def __init__(self, rn = 0, st_name = 'Name'): # Parametric Constructor\n",
    "        self.roll_no = rn\n",
    "        self.name = st_name\n",
    "        # print('__init__ file')\n",
    "    \n",
    "    def study(self):\n",
    "        print('Studying....')\n",
    "    @staticmethod\n",
    "    def work():\n",
    "        print(\"Working...\")"
   ]
  },
  {
   "cell_type": "code",
   "execution_count": 3,
   "metadata": {},
   "outputs": [
    {
     "name": "stdout",
     "output_type": "stream",
     "text": [
      "Roll No: 2, Name: Rahul\n",
      "Working...\n"
     ]
    }
   ],
   "source": [
    "st2 = Student_details(2, 'Rahul')\n",
    "print(f'Roll No: {st2.roll_no}, Name: {st2.name}')\n",
    "Student_details.work()"
   ]
  },
  {
   "cell_type": "markdown",
   "metadata": {},
   "source": [
    "## destructor:\n",
    "Delete the current instance of class or object. It has default definition in the object Base class\n",
    "\n",
    "Use `__del__()` method to override it\n",
    "\n",
    "```python\n",
    "def __del__(self, *args, **kwargs):\n",
    "    # Custom destructor\n",
    "```"
   ]
  },
  {
   "cell_type": "markdown",
   "metadata": {},
   "source": [
    "## Some other methods:\n",
    "\n",
    "1. \\_\\_repr\\_\\_ - String representation\n",
    "2. \\_\\_cmp\\_\\_ - Compare two objects\n",
    "3. \\_\\_len\\_\\_ - length of object\n",
    "4. \\_\\_lt\\_\\_ - less than\n",
    "7. \\_\\_le\\_\\_ - less than or equal\n",
    "8. \\_\\_gt\\_\\_ - greater than\n",
    "9. \\_\\_ge\\_\\_ - greater than or equal\n",
    "10. \\_\\_ne\\_\\_ - not equal\n",
    "0. \\_\\_eq\\_\\_ - equal\n",
    "5. \\_\\_getitem\\_\\_ - get a key from a iterable\n",
    "6. \\_\\_setitem\\_\\_ - set a value to the given key of iterable"
   ]
  },
  {
   "cell_type": "markdown",
   "metadata": {},
   "source": [
    "## Private variables and methods:\n",
    "\n",
    "Start with \\_\\_\n",
    "\n",
    "E.g.: \\_\\_var, \\_\\_method\n",
    "\n",
    "It is advised for best programming practice to avoid calling private attributes outside the class.  \n",
    "But if needed, use the following syntax:\n",
    "\n",
    "```python\n",
    "obj._classname__attribute\n",
    "```"
   ]
  },
  {
   "cell_type": "markdown",
   "metadata": {},
   "source": [
    "Check the complete example [OOPS.py](OOPS.py)  \n",
    "\n",
    "Ignore the imports. They have been used to provide hinting about the types of each variable"
   ]
  }
 ],
 "metadata": {
  "ipub": {
   "subtitle": "Object Oriented Programming - Part 1/2",
   "title": "Object Oriented Programming - Part 1",
   "toc": true
  },
  "kernelspec": {
   "display_name": "Python 3",
   "language": "python",
   "name": "python3"
  },
  "language_info": {
   "codemirror_mode": {
    "name": "ipython",
    "version": 3
   },
   "file_extension": ".py",
   "mimetype": "text/x-python",
   "name": "python",
   "nbconvert_exporter": "python",
   "pygments_lexer": "ipython3",
   "version": "3.9.6"
  }
 },
 "nbformat": 4,
 "nbformat_minor": 4
}
