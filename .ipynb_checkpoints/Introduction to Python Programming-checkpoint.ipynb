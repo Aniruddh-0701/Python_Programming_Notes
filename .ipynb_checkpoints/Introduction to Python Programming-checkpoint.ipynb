{
 "cells": [
  {
   "cell_type": "markdown",
   "metadata": {},
   "source": [
    "#### Program:\n",
    "A set of instructions to perform a specific task\n",
    "#### Programming Language\n",
    "\n",
    "A language used to write a program\n",
    "\n",
    "#### Types of Programming language:\n",
    "1.\tStatically typed – Compiler; values defined before execution\n",
    "2.\tDynamically typed – Interpreter; values defined during execution\n",
    "\n",
    "#### Requirements for running a code:\n",
    "1.\tCompiler (Fastest)\n",
    "2.\tInterpreter \n",
    "\n",
    "### Python:  \n",
    "- Easy typing  \n",
    "- Open source  \n",
    "\n",
    "It is dynamically typed Interpreted language.  \n",
    "\n",
    "Python versions:  \n",
    "1.\t2.x\n",
    "2.\t3.x  \n",
    "\n",
    "90% match. Small syntax and data changes.  \n",
    "Latest: Python 3.8.5\n",
    "\n",
    "Things needed in a program:\n",
    "1.\tInput (i/p)\n",
    "2.\tOutput (o/p)\n",
    "3.\tValues\n",
    "4.\tOperator  \n",
    "\n",
    "###### Note:\n",
    "[value] - optional parameter"
   ]
  },
  {
   "cell_type": "markdown",
   "metadata": {},
   "source": [
    "### Input:\n",
    "Input from the user is obtained using the input statement  \n",
    "> Syntax: input([value])"
   ]
  },
  {
   "cell_type": "code",
   "execution_count": 1,
   "metadata": {},
   "outputs": [
    {
     "name": "stdout",
     "output_type": "stream",
     "text": [
      "Enter a number 10\n",
      "a\n"
     ]
    }
   ],
   "source": [
    "# Example\n",
    "a = input('Enter a number ')\n",
    "b = input()"
   ]
  },
  {
   "cell_type": "markdown",
   "metadata": {},
   "source": [
    "### Output:\n",
    "The output is displayed to the user using the print statement\n",
    "> Syntax: print(values, [end=”\\n”, sep=” ”])\n"
   ]
  },
  {
   "cell_type": "code",
   "execution_count": 2,
   "metadata": {},
   "outputs": [
    {
     "name": "stdout",
     "output_type": "stream",
     "text": [
      "10\n",
      "\n",
      "10 a\n"
     ]
    }
   ],
   "source": [
    "#Example \n",
    "print(a)\n",
    "print()\n",
    "print(a,b)"
   ]
  },
  {
   "cell_type": "markdown",
   "metadata": {},
   "source": [
    "### Data in Python\n",
    "\n",
    "Data: Unorderd collection of information\n",
    "\n",
    "#### Types:\n",
    "1. Numeric\n",
    "2. Character\n",
    "3. Boolean\n",
    "4. Null\n",
    "5. Derived or COmplex Data Types\n",
    "\n",
    "#### 1. Numeric:\n",
    "Associated with number  \n",
    "Eg: 10, 2.1, -99.7, 3.1416(pi)\n",
    "\n",
    "##### Types:\n",
    "1. Integer (int): 10, 100, 0, -5\n",
    "2. Floating point numbers or double (float): 22/7, -0.15\n",
    "\n",
    "#### 2. Character (char):\n",
    "All characters that are defined under ASCII (American Standard Code For Information Interchange)\n",
    "\n",
    "Denoted using single quotes ('')\n",
    "\n",
    "Eg: '1', 'a', '#'\n",
    "\n",
    "#### 3. Boolean (bool):\n",
    "Asserts if a condition is True or False\n",
    "If denotion in Number:  \n",
    "1. True - number > 0\n",
    "2. False - number = 0\n",
    "\n",
    "#### 4. Null or None:\n",
    "If nothing is present\n",
    "\n",
    "Above four primitive data types\n",
    "\n",
    "#### 5. Complex Data Types (Derived):\n",
    "Combination of above four data types\n",
    "\n",
    "##### Types:\n",
    "1. List\n",
    "2. Tuple\n",
    "3. Set\n",
    "4. String\n",
    "5. Dictionary\n",
    "\n",
    "###### String:\n",
    "A collection of characters\n",
    "\n",
    "Eg: 'Prabhu', '123', \"Hi\", \"Hello Python\" \n",
    "\n",
    "##### Additional types in integers (Base):\n",
    "1. Binary (base 2) [0,1]\n",
    "2. Octal (base 8) [0-7]\n",
    "3. Decimal (base 10) [0-9] Most Common\n",
    "4. HexaDecimal (base 16) [0-9, A-F]"
   ]
  },
  {
   "cell_type": "markdown",
   "metadata": {},
   "source": [
    "### Literals\n",
    "Literals are data that are used or processed in a program.\n",
    "\n",
    "#### Types:\n",
    "1. Constant - Values that do not change during the execution\n",
    "2. Variable - Values that change\n",
    "\n",
    "There are certain rules to be followed while naming a variable:  \n",
    "- Should start only with an alphabet or underscore ('-')\n",
    "- Can contain characters defined in ASCII except ('$ $' & \\ /)\n",
    "- It should not be keyword\n",
    "\n",
    "##### Naming Conventions:\n",
    "https://en.wikipedia.org/wiki/Naming_convention_(programming)\n"
   ]
  },
  {
   "cell_type": "markdown",
   "metadata": {},
   "source": [
    "### Keywords or Indentifiers"
   ]
  },
  {
   "cell_type": "code",
   "execution_count": null,
   "metadata": {},
   "outputs": [],
   "source": []
  }
 ],
 "metadata": {
  "kernelspec": {
   "display_name": "Python 3",
   "language": "python",
   "name": "python3"
  },
  "language_info": {
   "codemirror_mode": {
    "name": "ipython",
    "version": 3
   },
   "file_extension": ".py",
   "mimetype": "text/x-python",
   "name": "python",
   "nbconvert_exporter": "python",
   "pygments_lexer": "ipython3",
   "version": "3.8.5"
  }
 },
 "nbformat": 4,
 "nbformat_minor": 4
}
