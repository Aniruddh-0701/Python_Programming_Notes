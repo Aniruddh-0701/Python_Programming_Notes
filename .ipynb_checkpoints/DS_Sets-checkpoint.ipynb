{
 "cells": [
  {
   "cell_type": "markdown",
   "metadata": {},
   "source": [
    "# Data Structures or Derived data Types in Python:\n",
    "\n",
    "Storing multiple values of same or different types under a single name.\n",
    "They are collection of data.\n",
    "\n",
    "1. List\n",
    "2. Tuple\n",
    "3. String\n",
    "4. Dictionary\n",
    "5. Set  \n",
    "In this notebook, we'll discuss indepth on Sets"
   ]
  },
  {
   "cell_type": "markdown",
   "metadata": {},
   "source": [
    "## Lists:\n",
    "Sets are unordered collection of unique data.\n",
    "Enclosed by Curly braces '{ }'  \n",
    "`set: {10, 20.2, 30.0}`\n",
    "\n",
    "Each value in the set is called a element  \n",
    "Since set is unordered collection, it cannot be indexed. The elements are randomly stored."
   ]
  },
  {
   "cell_type": "markdown",
   "metadata": {},
   "source": [
    "## Defining a set:\n",
    "\n",
    "### set() method\n",
    "\n",
    "Syntax: `set(iterable = None)`  \n",
    "iterable: any data structures listed above  \n",
    "\n",
    "By default the { } map to a dictionary. So empty curly braces cannot be used."
   ]
  },
  {
   "cell_type": "markdown",
   "metadata": {},
   "source": [
    "### Getting set as input:\n",
    "s1 = set(input())  \n",
    "s2 = set(input().split())"
   ]
  },
  {
   "cell_type": "markdown",
   "metadata": {},
   "source": [
    "## Methods or Functions in sets:\n",
    "There are various methods or functions that are used to work on sets.  \n",
    "1. add  \n",
    "2. update   \n",
    "3. discard  \n",
    "4. pop  \n",
    "5. clear  \n",
    "6. len  \n",
    "7. issubset  \n",
    "8. issuperset  \n",
    "9. union  \n",
    "10. intersection  \n",
    "11. intersection_update  \n",
    "12. diiference  \n",
    "13. symmetric_difference  \n",
    "14. copy  \n",
    "15. isdisjoint  \n",
    "16. max  \n",
    "17. min  \n",
    "18. enumerate\n",
    "19. sum\n",
    "20. sorted"
   ]
  },
  {
   "cell_type": "markdown",
   "metadata": {},
   "source": [
    "## Printing the elements in a set:\n",
    "1. Using loops\n",
    "2. Using Variable length argument ( * )\n",
    "\n",
    "### 1. Looping:\n",
    "Use for or while loop to access element.\n",
    "\n",
    "### 2. Using * :\n",
    "Using * will convert the elements of into arguements of print method"
   ]
  }
 ],
 "metadata": {
  "kernelspec": {
   "display_name": "Python 3",
   "language": "python",
   "name": "python3"
  },
  "language_info": {
   "codemirror_mode": {
    "name": "ipython",
    "version": 3
   },
   "file_extension": ".py",
   "mimetype": "text/x-python",
   "name": "python",
   "nbconvert_exporter": "python",
   "pygments_lexer": "ipython3",
   "version": "3.8.6"
  }
 },
 "nbformat": 4,
 "nbformat_minor": 4
}
