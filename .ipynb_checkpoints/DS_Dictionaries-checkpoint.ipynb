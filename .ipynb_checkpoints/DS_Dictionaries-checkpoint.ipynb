{
 "cells": [
  {
   "cell_type": "markdown",
   "metadata": {},
   "source": [
    "# Data Structures or Derived data Types in Python:\n",
    "\n",
    "Storing multiple values of same or different types under a single name.\n",
    "They are collection of data.\n",
    "\n",
    "1. List\n",
    "2. Tuple\n",
    "3. String\n",
    "4. Dictionary\n",
    "5. Set  \n",
    "In this notebook, we'll discuss indepth on Dictionaries"
   ]
  },
  {
   "cell_type": "markdown",
   "metadata": {},
   "source": [
    "## Dictionary:\n",
    "Dictionaries are unordered collection of data.\n",
    "They are key-value mapping.  \n",
    "Represented by Curly braces '{ }'  \n",
    "`dictionary : {1:10, 2:20, 3:30, 4:'Hello', 5:-2.0}`\n",
    "\n",
    "|Keys| 1| 2| 3| 4| 5|  \n",
    "|---|---|---|---|---|---|  \n",
    "|Values| 10| 20| 30| 40| 50|  "
   ]
  },
  {
   "cell_type": "markdown",
   "metadata": {},
   "source": [
    "## Defining a dictionary:\n",
    "\n",
    "1. '{ }'\n",
    "2. dict()\n",
    "\n",
    "### 1. '{}'\n",
    "dict1 = {1:10, 2:20, 3:30}\n",
    "### 2. dict()\n",
    "Syntax: `dict(iterable = None)`  \n",
    "iterable: any data structures listed above given that elements are present as key value mapping. "
   ]
  },
  {
   "cell_type": "markdown",
   "metadata": {},
   "source": [
    "Methods or Functions in dictionaries:  \n",
    "There are various methods or functions that are used to work with dictionaries.  \n",
    "1. len  \n",
    "2. str   \n",
    "3. clear  \n",
    "4. copy  \n",
    "5. fromkeys  \n",
    "6. get  \n",
    "7. has_key  \n",
    "8. items  \n",
    "9. keys  \n",
    "10. values\n",
    "10. setdefault  \n",
    "11. update  \n",
    "12. iteritems"
   ]
  },
  {
   "cell_type": "markdown",
   "metadata": {},
   "source": [
    "### 1. len:\n",
    "Returns the length of the given iterable.\n",
    "\n",
    "Syntax: `len(iterable)`"
   ]
  },
  {
   "cell_type": "markdown",
   "metadata": {},
   "source": [
    "### 2. str:\n",
    "Returns the string format of the given dictionary.\n",
    "\n",
    "Syntax: `str(dict)`"
   ]
  },
  {
   "cell_type": "markdown",
   "metadata": {},
   "source": [
    "### 3. clear:\n",
    "Deletes the items in the dictionary.\n",
    "\n",
    "Syntax: `dict.clear()`"
   ]
  },
  {
   "cell_type": "markdown",
   "metadata": {},
   "source": [
    "### 4. copy:\n",
    "Returns the shallow copy of the given dictionary.\n",
    "\n",
    "Syntax: `dict.copy()`"
   ]
  },
  {
   "cell_type": "markdown",
   "metadata": {},
   "source": [
    "### 5. fromkeys:\n",
    "Returns  a new dictionary form the given list of keys. By default the values are set to None.\n",
    "\n",
    "Syntax: `dict.fromkeys(sep, val = None)`"
   ]
  },
  {
   "cell_type": "markdown",
   "metadata": {},
   "source": [
    "### 6. get:\n",
    "Returns the value of the given key if present else returns the default value given (None by Default).\n",
    "\n",
    "Syntax: `dict.get(key, default = None)`"
   ]
  },
  {
   "cell_type": "markdown",
   "metadata": {},
   "source": [
    "### 7. items:\n",
    "Returns the list of key-value pairs in the dictionary.\n",
    "\n",
    "Syntax: `dict.items()`"
   ]
  },
  {
   "cell_type": "markdown",
   "metadata": {},
   "source": [
    "### 8. keys:\n",
    "Returns the list of keys present in the dictionary.\n",
    "\n",
    "Syntax: `dict.keys()`"
   ]
  },
  {
   "cell_type": "markdown",
   "metadata": {},
   "source": [
    "### 9. values:\n",
    "Returns the list of values present on the dictionary.\n",
    "\n",
    "Syntax: `dict.values()`"
   ]
  },
  {
   "cell_type": "markdown",
   "metadata": {},
   "source": [
    "### 10. updates:\n",
    "Adds the key-value pairs in second dictionary to the first.\n",
    "\n",
    "Syntax: `dict.update(dict)`"
   ]
  },
  {
   "cell_type": "markdown",
   "metadata": {},
   "source": [
    "### 11. pop:\n",
    "Removes and returns the value of given key. If the key is absent, Error is raised if default is not given.\n",
    "\n",
    "Syntax: `dict.pop(key, [default])`"
   ]
  },
  {
   "cell_type": "markdown",
   "metadata": {},
   "source": [
    "### 12. popitem:\n",
    "Removes and returns the last key-value pair of the dictionary.\n",
    "\n",
    "Syntax: `dict.popitem()`"
   ]
  },
  {
   "cell_type": "markdown",
   "metadata": {},
   "source": [
    "## Accessing elements:\n",
    "The values in the dictionary are accessed by key.\n",
    "\n",
    "Syntax: `dictionary[key]`"
   ]
  },
  {
   "cell_type": "markdown",
   "metadata": {},
   "source": [
    "## Adding or Modifying items:\n",
    "Items can be added or modified by using keys.\n",
    "\n",
    "Syntax: `dictaionary[key] = value` "
   ]
  },
  {
   "cell_type": "markdown",
   "metadata": {},
   "source": [
    "## Delete Elements:\n",
    "Elements can be deleted by using the *del* keyword.\n",
    "\n",
    "Syntax: `del dict[key]`"
   ]
  }
 ],
 "metadata": {
  "kernelspec": {
   "display_name": "Python 3",
   "language": "python",
   "name": "python3"
  },
  "language_info": {
   "codemirror_mode": {
    "name": "ipython",
    "version": 3
   },
   "file_extension": ".py",
   "mimetype": "text/x-python",
   "name": "python",
   "nbconvert_exporter": "python",
   "pygments_lexer": "ipython3",
   "version": "3.8.6"
  }
 },
 "nbformat": 4,
 "nbformat_minor": 4
}
