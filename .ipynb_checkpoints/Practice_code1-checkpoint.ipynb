{
 "cells": [
  {
   "cell_type": "markdown",
   "metadata": {},
   "source": [
    "This Notebook Contains practice question for first note (input ad output)\n",
    "\n",
    "Try working online at:  \n",
    "[Coding Ground - Tutorials Point](https://www.tutorialspoint.com/execute_python3_online.php)  \n",
    "[Online Compiler and Debugger](https://www.onlinegdb.com/online_python_compiler)"
   ]
  },
  {
   "cell_type": "markdown",
   "metadata": {},
   "source": [
    "**Q1:** Write a program to print 'Hello World'"
   ]
  },
  {
   "cell_type": "markdown",
   "metadata": {},
   "source": [
    "**Q2:** Write a program to get Name from the user and print it.  \n",
    ">Sample 1:  \n",
    "I/p: Chandru  \n",
    "O/p: Chandru  \n",
    "\n",
    ">Sample 2:  \n",
    "I/p: Prabhu  \n",
    "O/p: Prabhu"
   ]
  },
  {
   "cell_type": "markdown",
   "metadata": {},
   "source": [
    "**Q3:** Write a program to get Name and age from user and print it.\n",
    "\n",
    ">Sample 1:  \n",
    "I/p:  \n",
    "Chandru  \n",
    "19  \n",
    "O/p:  \n",
    "Chandru  \n",
    "19  \n",
    "\n",
    ">Sample 2:  \n",
    "I/p:  \n",
    "Prabhu  \n",
    "20  \n",
    "O/p:  \n",
    "Prabhu  \n",
    "20  "
   ]
  },
  {
   "cell_type": "markdown",
   "metadata": {},
   "source": [
    "**Q4:** Write a program to get two numbers from user and print their sum\n",
    ">Sample 1:  \n",
    "I/p:  \n",
    "12  \n",
    "12  \n",
    "O/p:  \n",
    "24\n",
    "\n",
    ">Sample 2:  \n",
    "I/p:  \n",
    "10  \n",
    "15  \n",
    "O/p:  \n",
    "25"
   ]
  },
  {
   "cell_type": "markdown",
   "metadata": {},
   "source": [
    "**Q5:** Write a program to get two numbers and perform all arithmetic operations on them."
   ]
  },
  {
   "cell_type": "code",
   "execution_count": null,
   "metadata": {},
   "outputs": [],
   "source": []
  }
 ],
 "metadata": {
  "kernelspec": {
   "display_name": "Python 3",
   "language": "python",
   "name": "python3"
  },
  "language_info": {
   "codemirror_mode": {
    "name": "ipython",
    "version": 3
   },
   "file_extension": ".py",
   "mimetype": "text/x-python",
   "name": "python",
   "nbconvert_exporter": "python",
   "pygments_lexer": "ipython3",
   "version": "3.8.5"
  }
 },
 "nbformat": 4,
 "nbformat_minor": 4
}
