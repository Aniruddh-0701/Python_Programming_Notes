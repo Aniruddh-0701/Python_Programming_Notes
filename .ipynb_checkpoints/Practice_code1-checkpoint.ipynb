{
 "cells": [
  {
   "cell_type": "markdown",
   "metadata": {},
   "source": [
    "This file contains practice question for [Introduction to Python programming](Introduction_to_Python_Programming.ipynb) (input ad output)\n",
    "\n",
    "Try working online at:  \n",
    "[Coding Ground - Tutorials Point](https://www.tutorialspoint.com/execute_python3_online.php)  \n",
    "[Online Compiler and Debugger](https://www.onlinegdb.com/online_python_compiler)"
   ]
  },
  {
   "cell_type": "markdown",
   "metadata": {},
   "source": [
    "**Q1:** Write a program to print 'Hello World'\n"
   ]
  },
  {
   "cell_type": "markdown",
   "metadata": {},
   "source": [
    "**Q2:** Write a program to get Name from the user and print it.  \n",
    ">Sample 1:  \n",
    "I/p: Chandru  \n",
    "O/p: Chandru  \n",
    "\n",
    ">Sample 2:  \n",
    "I/p: Prabhu  \n",
    "O/p: Prabhu\n"
   ]
  },
  {
   "cell_type": "markdown",
   "metadata": {},
   "source": [
    "**Q3:** Write a program to get Name and age from user and print it.\n",
    "\n",
    ">Sample 1:  \n",
    "I/p:  \n",
    "Chandru  \n",
    "19  \n",
    "O/p:  \n",
    "Chandru  \n",
    "19  \n",
    "\n",
    ">Sample 2:  \n",
    "I/p:  \n",
    "Prabhu  \n",
    "20  \n",
    "O/p:  \n",
    "Prabhu  \n",
    "20  \n"
   ]
  },
  {
   "cell_type": "markdown",
   "metadata": {},
   "source": [
    "**Q4:** Write a program to get two numbers from user and print their sum\n",
    ">Sample 1:  \n",
    "I/p:  \n",
    "12  \n",
    "12  \n",
    "O/p:  \n",
    "24\n",
    "\n",
    ">Sample 2:  \n",
    "I/p:  \n",
    "10  \n",
    "15  \n",
    "O/p:  \n",
    "25\n"
   ]
  },
  {
   "cell_type": "markdown",
   "metadata": {},
   "source": [
    "**Q5:** Write a program to get two numbers and perform all arithmetic operations on them.\n"
   ]
  },
  {
   "cell_type": "markdown",
   "metadata": {},
   "source": [
    "**Q6:** (Update of **Q4**)  \n",
    "Print formatted output\n",
    ">Sample 1:  \n",
    "I/p:  \n",
    "12  \n",
    "12  \n",
    "O/p:  \n",
    "Sum of 12 and 12 is 24\n",
    "\n",
    ">Sample 2:  \n",
    "I/p:  \n",
    "10  \n",
    "15  \n",
    "O/p:  \n",
    "Sum of 10 and 15 is 25\n"
   ]
  },
  {
   "cell_type": "markdown",
   "metadata": {},
   "source": [
    "**Q7:** Write a program to get name from the user and wish them Good Morning  \n",
    ">Sample:  \n",
    "I/p: Jenyhin  \n",
    "O/p: Good Morning, Jenyhin\n"
   ]
  },
  {
   "cell_type": "markdown",
   "metadata": {},
   "source": [
    "**Q8:** Write a program to get the side of the square and print its perimeter  \n",
    "Perimeter of a square = $4 \\times \\rm{side}$  \n",
    ">Sample1:  \n",
    "I/p: 4  \n",
    "O/p: 16\n",
    "\n",
    ">Sample2:  \n",
    "I/p: 22  \n",
    "O/p: 88\n",
    "\n",
    "**Q9:** Write a program to get the side of the square and print its area  \n",
    "Area of square = $\\rm{side} \\times \\rm{side}$  \n",
    ">Sample1:  \n",
    "I/p: 4  \n",
    "O/p: 16\n",
    "\n",
    ">Sample2:  \n",
    "I/p: 22  \n",
    "O/p: 484\n"
   ]
  },
  {
   "cell_type": "markdown",
   "metadata": {},
   "source": [
    "**Q10:** Write a program to get the length and breadth of a rectangle and print its perimeter  \n",
    "Perimeter of a rectangle =$2 \\times \\rm{(length + breadth)}$\n",
    ">Sample1:  \n",
    "I/p:   \n",
    "4  <br>\n",
    "4  \n",
    "O/p: 16\n",
    "\n",
    ">Sample2:  \n",
    "I/p:   \n",
    "22  \n",
    "21  \n",
    "O/p: 86\n",
    "\n",
    "\n",
    "**Q11:** Write a program to get the length and breadth of a rectangle and print its area  \n",
    "Area of a rectangle = $\\text{length} \\times \\text{breadth}$\n",
    ">Sample1:  \n",
    "I/p:   \n",
    "4  <br>\n",
    "4  \n",
    "O/p: 16\n",
    "\n",
    ">Sample2:  \n",
    "I/p:   \n",
    "22  \n",
    "21  \n",
    "O/p: 462"
   ]
  },
  {
   "cell_type": "markdown",
   "metadata": {},
   "source": [
    "**Q12:** Write a program to get the number of sides and length of each side of a regular polygon and print its perimeter.  \n",
    "Perimeter = $\\text{number of sides} \\times \\text{length of one side}$\n",
    ">Sample1:  \n",
    "I/p:   \n",
    "8  <br>\n",
    "4  \n",
    "O/p: 32\n",
    "\n",
    ">Sample2:  \n",
    "I/p:   \n",
    "7  <br>\n",
    "21  \n",
    "O/p: 147"
   ]
  },
  {
   "cell_type": "markdown",
   "metadata": {},
   "source": [
    "**Q13:** Write a program to get the length and height of a right triangle and print its area.  \n",
    "Area of right triangle = $\\dfrac{1}{2} \\times \\rm{base} \\times \\rm{height}$\n",
    ">Sample1:  \n",
    "I/p:   \n",
    "4  <br>\n",
    "4  \n",
    "O/p: 8.0\n",
    "\n",
    ">Sample2:  \n",
    "I/p:   \n",
    "22  \n",
    "21  \n",
    "O/p: 231.0"
   ]
  },
  {
   "cell_type": "markdown",
   "metadata": {},
   "source": [
    "**Q14:** Write a program to get the radius of a circle and print its perimeter rounded off to 3 decimal places. (Take $\\pi = 3.14159$)  \n",
    "Perimeter of a circle = $2\\pi \\times \\rm{radius}$\n",
    ">Sample1:  \n",
    "I/p:   \n",
    "4  <br>\n",
    "O/p: 25.133\n",
    "\n",
    ">Sample2:  \n",
    "I/p:   \n",
    "22   \n",
    "O/p: 138.230\n",
    "\n",
    "**Q15:** Write a program to get the radius of a circle and print its area rounded off to 3 decimal places. (Take $\\pi = 3.14159$)  \n",
    "Area of a circle = $\\pi \\times \\rm{radius}^2$\n",
    ">Sample1:  \n",
    "I/p:   \n",
    "4  <br>\n",
    "O/p: 50.265\n",
    "\n",
    ">Sample2:  \n",
    "I/p:   \n",
    "21  \n",
    "O/p: 1385.442"
   ]
  },
  {
   "cell_type": "markdown",
   "metadata": {},
   "source": [
    "**Q16:** Write a program to get the sides of a triangle and print its area using Heron's Formula rounded off to 3 decimal places.  \n",
    "Area of right triangle = $\\sqrt{s \\times (s-a)\\times(s-b)\\times(s-c)}$  \n",
    "where,  \n",
    "$s$ = Semi-Perimeter = $\\dfrac{\\text{Perimter of triangle}}{2}$  \n",
    "$a, b, c$ = Sides of the triangle\n",
    ">Sample1:  \n",
    "I/p:   \n",
    "3  <br>\n",
    "4<br>\n",
    "5  \n",
    "O/p: 6.0\n",
    "\n",
    ">Sample2:  \n",
    "I/p:   \n",
    "12  \n",
    "21  \n",
    "30  \n",
    "O/p: 98.359"
   ]
  },
  {
   "cell_type": "markdown",
   "metadata": {},
   "source": [
    "**Q17:** Write a program to get the side of a equilateral triangle and print its area rounded off to 4 decimal places.  \n",
    "Area of equilateral triangle = $\\dfrac{\\sqrt{3}}{4} \\times \\rm{side}^2$\n",
    ">Sample1:  \n",
    "I/p:   \n",
    "4  <br>\n",
    "O/p: 6.9282\n",
    "\n",
    ">Sample2:  \n",
    "I/p:   \n",
    "31  \n",
    "O/p: 416.1252"
   ]
  },
  {
   "cell_type": "markdown",
   "metadata": {},
   "source": [
    "**Q18:** Write a program to get the length and height of a right triangle and print the length of its hypotenuse rounded off to 3 decimal places using Pythagoras Theorem.  \n",
    "Pythagoras theorem, $ \\rm{hypotenuse} = \\sqrt{\\rm{base}^2 + \\rm{height}^2}$\n",
    ">Sample1:  \n",
    "I/p:   \n",
    "3  <br>\n",
    "4  \n",
    "O/p: 5\n",
    "\n",
    ">Sample2:  \n",
    "I/p:   \n",
    "12  \n",
    "6  <br>\n",
    "O/p: 13.416"
   ]
  },
  {
   "cell_type": "markdown",
   "metadata": {},
   "source": [
    "**Q19:** Write a program to get the side of a cube and print its volume.  \n",
    "Volume of cube = $\\rm{side}^3$\n",
    "> Sample 1:  \n",
    "I/P: 15  \n",
    "O/P: 3375"
   ]
  },
  {
   "cell_type": "markdown",
   "metadata": {},
   "source": [
    "**Q20:** Write a program to get the side of a cube and print its total surface area.  \n",
    "$ \\text{T.S.A of Cube} = 6 \\times \\rm{side}^2$\n",
    "> Sample 1:  \n",
    "I/P: 15  \n",
    "O/P: 1350"
   ]
  },
  {
   "cell_type": "markdown",
   "metadata": {},
   "source": [
    "**Q21:** Write a program to get the length, breadth and height of a cuboid and print its volume.  \n",
    "$\\text{Volume of Cuboid} = \\rm{length} \\times \\rm{breadth} \\times \\rm{height}$\n",
    "> Sample 1:  \n",
    "I/P:  \n",
    "43  \n",
    "28  \n",
    "35  \n",
    "O/P: 42140"
   ]
  },
  {
   "cell_type": "markdown",
   "metadata": {},
   "source": [
    "**Q22:** Write a program to get the length, breadth and height of a cuboid and print its Total Surface Area.  \n",
    "$\\text{T.S.A of Cuboid} = 2 * ( (\\rm{length} \\times \\rm{breadth}) + (\\rm{breadth} \\times \\rm{height}) + (\\rm{height} * \\rm{length}))$\n",
    "> Sample 1:  \n",
    "I/P:  \n",
    "43  \n",
    "28  \n",
    "35  \n",
    "O/P: 7378"
   ]
  },
  {
   "cell_type": "code",
   "execution_count": null,
   "metadata": {},
   "outputs": [],
   "source": []
  },
  {
   "cell_type": "markdown",
   "metadata": {},
   "source": [
    "[Check Solution](Solution1.ipynb)"
   ]
  },
  {
   "cell_type": "code",
   "execution_count": null,
   "metadata": {},
   "outputs": [],
   "source": []
  }
 ],
 "metadata": {
  "kernelspec": {
   "display_name": "Python 3",
   "language": "python",
   "name": "python3"
  },
  "language_info": {
   "codemirror_mode": {
    "name": "ipython",
    "version": 3
   },
   "file_extension": ".py",
   "mimetype": "text/x-python",
   "name": "python",
   "nbconvert_exporter": "python",
   "pygments_lexer": "ipython3",
   "version": "3.8.6"
  }
 },
 "nbformat": 4,
 "nbformat_minor": 4
}
