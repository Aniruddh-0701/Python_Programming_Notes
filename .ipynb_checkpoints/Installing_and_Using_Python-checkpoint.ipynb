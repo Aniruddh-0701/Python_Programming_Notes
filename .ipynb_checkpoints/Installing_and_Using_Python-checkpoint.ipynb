{
 "cells": [
  {
   "cell_type": "markdown",
   "metadata": {},
   "source": [
    "### Downloading and Installing Python\n",
    "The official python software (Interperter and IDLE) available at the official site: https://www.python.org\n",
    "\n",
    "For windows 32-bit: Click on Download option in the Downloads Menu\n",
    "\n",
    "For Windows 64-bit, MacOS and Linux/Unix, visit: https://www.python.org/downloads/\n"
   ]
  },
  {
   "cell_type": "code",
   "execution_count": null,
   "metadata": {},
   "outputs": [],
   "source": []
  },
  {
   "cell_type": "markdown",
   "metadata": {},
   "source": [
    "### Using Python:\n",
    "\n",
    "The python code can be run in Interactive Console or Script present in IDLE.\n",
    "\n",
    "Other Integrated Development Environments like PyCharm IDE (Jet Brains), Visual Studio (MS) and Netbeans IDE may be used as needed."
   ]
  },
  {
   "cell_type": "code",
   "execution_count": null,
   "metadata": {},
   "outputs": [],
   "source": []
  },
  {
   "cell_type": "markdown",
   "metadata": {},
   "source": [
    "### Code Snippets and Tutorials:\n",
    "The official Python Documentation may be viewed at or downoaded from https://docs.python.org/\n",
    "\n",
    "Other Private tutorials at:  \n",
    "Tutorials Point : www.tutorialspoint.com/python/index.htm  \n",
    "W3Schools : www.w3schools.com/python/  \n",
    "Geeks for Geeks: www.geeksforgeeks.org/python-programming-language/  "
   ]
  },
  {
   "cell_type": "code",
   "execution_count": null,
   "metadata": {},
   "outputs": [],
   "source": []
  },
  {
   "cell_type": "markdown",
   "metadata": {},
   "source": [
    "### Practice Code at:\n",
    "HackerRank : https://www.hackerrank.com/  \n",
    "HackerEarth : https://www.hackerearth.com/"
   ]
  },
  {
   "cell_type": "code",
   "execution_count": null,
   "metadata": {},
   "outputs": [],
   "source": []
  }
 ],
 "metadata": {
  "kernelspec": {
   "display_name": "Python 3",
   "language": "python",
   "name": "python3"
  },
  "language_info": {
   "codemirror_mode": {
    "name": "ipython",
    "version": 3
   },
   "file_extension": ".py",
   "mimetype": "text/x-python",
   "name": "python",
   "nbconvert_exporter": "python",
   "pygments_lexer": "ipython3",
   "version": "3.8.5"
  }
 },
 "nbformat": 4,
 "nbformat_minor": 4
}
