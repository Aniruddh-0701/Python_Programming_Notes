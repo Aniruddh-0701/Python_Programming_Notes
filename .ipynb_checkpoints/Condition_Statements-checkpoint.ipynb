{
 "cells": [
  {
   "cell_type": "markdown",
   "metadata": {},
   "source": [
    "### Condition Statements\n",
    "Condition statements or Control flow statements are statements that are used to control the flow or execution of a program.\n",
    "The flow is controlled the values of few variables that decide the proceedings of a program."
   ]
  },
  {
   "cell_type": "markdown",
   "metadata": {},
   "source": [
    "The conditions statements have same basic structure in all programming languages.\n",
    "The list of Control statements are:\n",
    "1. *if* statement\n",
    "2. *if - else* statements\n",
    "3. *if - elif - else* statements\n",
    "4. Nested *if - else* statements\n",
    "5. Inline *if - else* statements"
   ]
  }
 ],
 "metadata": {
  "kernelspec": {
   "display_name": "Python 3",
   "language": "python",
   "name": "python3"
  },
  "language_info": {
   "codemirror_mode": {
    "name": "ipython",
    "version": 3
   },
   "file_extension": ".py",
   "mimetype": "text/x-python",
   "name": "python",
   "nbconvert_exporter": "python",
   "pygments_lexer": "ipython3",
   "version": "3.8.5"
  }
 },
 "nbformat": 4,
 "nbformat_minor": 4
}
