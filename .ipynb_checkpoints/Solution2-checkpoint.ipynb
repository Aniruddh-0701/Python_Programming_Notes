{
 "cells": [
  {
   "cell_type": "markdown",
   "metadata": {},
   "source": [
    "## Solution For [Code Practice 2](Practice_code2.md)"
   ]
  },
  {
   "cell_type": "code",
   "execution_count": 1,
   "metadata": {},
   "outputs": [
    {
     "name": "stdin",
     "output_type": "stream",
     "text": [
      " 15\n"
     ]
    },
    {
     "name": "stdout",
     "output_type": "stream",
     "text": [
      "Odd\n"
     ]
    }
   ],
   "source": [
    "# Question1\n",
    "n = int(input())\n",
    "print('Even' if n%2 == 0 else 'Odd')\n",
    "\n",
    "# Input: 15"
   ]
  },
  {
   "cell_type": "code",
   "execution_count": 2,
   "metadata": {},
   "outputs": [
    {
     "name": "stdin",
     "output_type": "stream",
     "text": [
      " -7\n"
     ]
    },
    {
     "name": "stdout",
     "output_type": "stream",
     "text": [
      "Negative\n"
     ]
    }
   ],
   "source": [
    "# Question 2\n",
    "n = int(input())\n",
    "if n > 0: print('Positive')\n",
    "elif n == 0: print('Zero')\n",
    "else: print('Negative')\n",
    "\n",
    "# Input: -7"
   ]
  },
  {
   "cell_type": "code",
   "execution_count": 1,
   "metadata": {},
   "outputs": [
    {
     "name": "stdin",
     "output_type": "stream",
     "text": [
      " 85\n"
     ]
    },
    {
     "name": "stdout",
     "output_type": "stream",
     "text": [
      "A+\n"
     ]
    }
   ],
   "source": [
    "# Question 3\n",
    "mark = int(input())\n",
    "if 90 < mark <= 100: print('O')\n",
    "elif 80 < mark <= 90: print('A+')\n",
    "elif 70 < mark <= 80: print('A')\n",
    "elif 60 < mark <= 70: print('B+')\n",
    "elif 50 <= mark <= 60: print('B')\n",
    "elif 0 <= mark < 50: print('Fail')\n",
    "else: print('Invalid')\n",
    "    \n",
    "# Input: 85"
   ]
  },
  {
   "cell_type": "code",
   "execution_count": 2,
   "metadata": {},
   "outputs": [
    {
     "name": "stdin",
     "output_type": "stream",
     "text": [
      " 27\n"
     ]
    },
    {
     "name": "stdout",
     "output_type": "stream",
     "text": [
      "Eligible\n"
     ]
    }
   ],
   "source": [
    "# Question 4\n",
    "age = int(input())\n",
    "if age > 17: print('Eligible')\n",
    "else: print('Ineligible')\n",
    "    \n",
    "# Input: 27"
   ]
  },
  {
   "cell_type": "code",
   "execution_count": null,
   "metadata": {},
   "outputs": [],
   "source": [
    "# Question 5"
   ]
  },
  {
   "cell_type": "code",
   "execution_count": 1,
   "metadata": {},
   "outputs": [
    {
     "name": "stdin",
     "output_type": "stream",
     "text": [
      " f\n"
     ]
    },
    {
     "name": "stdout",
     "output_type": "stream",
     "text": [
      "consonant\n"
     ]
    }
   ],
   "source": [
    "# Question 6 - Method 1\n",
    "ch = input()\n",
    "vowels=[\"a\",\"e\",\"i\",\"o\",\"u\",\"A\",\"E\",\"I\",\"O\",\"U\"] \n",
    "if ch in vowels: \n",
    "    print(\"vowel\") \n",
    "else: \n",
    "    print(\"consonant\")\n",
    "\n",
    "# Input: f"
   ]
  },
  {
   "cell_type": "code",
   "execution_count": 3,
   "metadata": {},
   "outputs": [
    {
     "name": "stdin",
     "output_type": "stream",
     "text": [
      " A\n"
     ]
    },
    {
     "name": "stdout",
     "output_type": "stream",
     "text": [
      "vowel\n"
     ]
    }
   ],
   "source": [
    "# Question 6 - Method 2\n",
    "ch = input()\n",
    "if ch == 'a' or ch == 'e' or ch == 'i' or ch == 'o' or ch == 'u': \n",
    "    print(\"vowel\")\n",
    "elif ch == 'A' or ch == 'E' or ch == 'I' or ch == 'O' or ch == 'U':\n",
    "    print('vowel')\n",
    "else: \n",
    "    print(\"consonant\")\n",
    "\n",
    "# Input: A"
   ]
  },
  {
   "cell_type": "code",
   "execution_count": 4,
   "metadata": {},
   "outputs": [
    {
     "name": "stdin",
     "output_type": "stream",
     "text": [
      " G\n"
     ]
    },
    {
     "name": "stdout",
     "output_type": "stream",
     "text": [
      "consonant\n"
     ]
    }
   ],
   "source": [
    "# Question 6 - Method 3\n",
    "ch = input()\n",
    "vowels = 'aeiouAEIOU' \n",
    "if ch in vowels: \n",
    "    print(\"vowel\") \n",
    "else: \n",
    "    print(\"consonant\")\n",
    "\n",
    "# Input: G"
   ]
  },
  {
   "cell_type": "code",
   "execution_count": 5,
   "metadata": {},
   "outputs": [
    {
     "name": "stdin",
     "output_type": "stream",
     "text": [
      " 10\n",
      " 15\n"
     ]
    },
    {
     "name": "stdout",
     "output_type": "stream",
     "text": [
      "15\n"
     ]
    }
   ],
   "source": [
    "# Question 7 - Method 1\n",
    "n1 = int(input())\n",
    "n2 = int(input())\n",
    "if n1 > n2: print(n1)\n",
    "else: print(n2)\n",
    "    \n",
    "# Input: 10\n",
    "# 15"
   ]
  },
  {
   "cell_type": "code",
   "execution_count": 6,
   "metadata": {},
   "outputs": [
    {
     "name": "stdin",
     "output_type": "stream",
     "text": [
      " 10\n",
      " 7\n"
     ]
    },
    {
     "name": "stdout",
     "output_type": "stream",
     "text": [
      "10\n"
     ]
    }
   ],
   "source": [
    "# Question 7 - Method 2\n",
    "n1 = int(input())\n",
    "n2 = int(input())\n",
    "print(n1 if n1 > n2 else n2)\n",
    "\n",
    "# Input: 10\n",
    "# 7"
   ]
  },
  {
   "cell_type": "code",
   "execution_count": null,
   "metadata": {},
   "outputs": [],
   "source": []
  }
 ],
 "metadata": {
  "kernelspec": {
   "display_name": "Python 3",
   "language": "python",
   "name": "python3"
  },
  "language_info": {
   "codemirror_mode": {
    "name": "ipython",
    "version": 3
   },
   "file_extension": ".py",
   "mimetype": "text/x-python",
   "name": "python",
   "nbconvert_exporter": "python",
   "pygments_lexer": "ipython3",
   "version": "3.8.6"
  }
 },
 "nbformat": 4,
 "nbformat_minor": 4
}
