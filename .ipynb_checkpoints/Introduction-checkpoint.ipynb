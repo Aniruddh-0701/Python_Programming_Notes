{
 "cells": [
  {
   "cell_type": "markdown",
   "metadata": {},
   "source": [
    "#### Program:\n",
    "A set of instructions to perform a specific task\n",
    "#### Programming Language\n",
    "\n",
    "A language used to write a program\n",
    "\n",
    "#### Types of Programming language:\n",
    "1.\tStatically typed – Compiler; values defined before execution\n",
    "2.\tDynamically typed – Interpreter; values defined during execution\n",
    "\n",
    "#### Requirements for running a code:\n",
    "1.\tCompiler (Fastest)\n",
    "2.\tInterpreter \n",
    "\n",
    "### Python:  \n",
    "- Easy typing  \n",
    "- Open source  \n",
    "\n",
    "It is dynamically typed Interpreted language.  \n",
    "\n",
    "Python versions:  \n",
    "1.\t2.x\n",
    "2.\t3.x  \n",
    "\n",
    "90% match. Small syntax and data changes.  \n",
    "Latest: Python 3.8.5\n",
    "Things needed in a program:\n",
    "1.\tInput (i/p)\n",
    "2.\tOutput (o/p)\n",
    "3.\tValues\n",
    "4.\tOperator  \n",
    "\n",
    "###### Note:\n",
    "[value] - optional"
   ]
  },
  {
   "cell_type": "code",
   "execution_count": null,
   "metadata": {},
   "outputs": [],
   "source": []
  }
 ],
 "metadata": {
  "kernelspec": {
   "display_name": "Python 3",
   "language": "python",
   "name": "python3"
  },
  "language_info": {
   "codemirror_mode": {
    "name": "ipython",
    "version": 3
   },
   "file_extension": ".py",
   "mimetype": "text/x-python",
   "name": "python",
   "nbconvert_exporter": "python",
   "pygments_lexer": "ipython3",
   "version": "3.8.5"
  }
 },
 "nbformat": 4,
 "nbformat_minor": 4
}
